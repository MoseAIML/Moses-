{
  "nbformat": 4,
  "nbformat_minor": 0,
  "metadata": {
    "colab": {
      "provenance": [],
      "authorship_tag": "ABX9TyO7MMXV8khSxPR3aXPE+t+t",
      "include_colab_link": true
    },
    "kernelspec": {
      "name": "python3",
      "display_name": "Python 3"
    },
    "language_info": {
      "name": "python"
    }
  },
  "cells": [
    {
      "cell_type": "markdown",
      "metadata": {
        "id": "view-in-github",
        "colab_type": "text"
      },
      "source": [
        "<a href=\"https://colab.research.google.com/github/MoseAIML/Moses-/blob/main/Data_Analysis_with__SQL_Project.ipynb\" target=\"_parent\"><img src=\"https://colab.research.google.com/assets/colab-badge.svg\" alt=\"Open In Colab\"/></a>"
      ]
    },
    {
      "cell_type": "markdown",
      "source": [
        "**Pre-requisites**"
      ],
      "metadata": {
        "id": "wrrQ4qZdJA0s"
      }
    },
    {
      "cell_type": "code",
      "execution_count": 2,
      "metadata": {
        "colab": {
          "base_uri": "https://localhost:8080/"
        },
        "id": "OBVbBIhSI3m-",
        "outputId": "528acc8d-f535-4da4-bca0-21c2a22c5ced"
      },
      "outputs": [
        {
          "output_type": "stream",
          "name": "stdout",
          "text": [
            "The sql extension is already loaded. To reload it, use:\n",
            "  %reload_ext sql\n"
          ]
        }
      ],
      "source": [
        "%load_ext sql\n",
        "%sql sqlite://\n",
        "import pandas as pd"
      ]
    },
    {
      "cell_type": "code",
      "source": [
        "# Import Car Rides Files\n",
        "cab_rides = pd.read_csv(\"/content/cab_rides.csv\", encoding=\"ISO-8859-1\")\n",
        "\n",
        "# We then delete the table if it exists in our database\n",
        "# ---\n",
        "#\n",
        "%sql DROP TABLE IF EXISTS cab_rides;\n",
        "\n",
        "# And finally store our table in the table name insurance within our dataset.\n",
        "# The persist command will create a table in the database to which we are connected, \n",
        "# the table name will be the same as dataframe variable.\n",
        "# ---\n",
        "#\n",
        "%sql PERSIST cab_rides;\n",
        "\n",
        "# Preview the first 5 records of the insurance dataset \n",
        "# ---\n",
        "#\n",
        "%sql SELECT * FROM cab_rides LIMIT 5;"
      ],
      "metadata": {
        "colab": {
          "base_uri": "https://localhost:8080/"
        },
        "id": "VNatNQmJKZCg",
        "outputId": "72421215-afbe-40a3-eeeb-9be5cf64799e"
      },
      "execution_count": 3,
      "outputs": [
        {
          "output_type": "stream",
          "name": "stdout",
          "text": [
            " * sqlite://\n",
            "Done.\n",
            " * sqlite://\n",
            "(sqlite3.OperationalError) near \"PERSIST\": syntax error\n",
            "[SQL: PERSIST cab_rides;]\n",
            "(Background on this error at: https://sqlalche.me/e/14/e3q8)\n",
            " * sqlite://\n",
            "(sqlite3.OperationalError) no such table: cab_rides\n",
            "[SQL: SELECT * FROM cab_rides LIMIT 5;]\n",
            "(Background on this error at: https://sqlalche.me/e/14/e3q8)\n"
          ]
        }
      ]
    },
    {
      "cell_type": "code",
      "source": [
        "# Import Weather Files\n",
        "weather = pd.read_csv(\"/content/weather.csv\", encoding=\"ISO-8859-1\")\n",
        "# We then delete the table if it exists in our database\n",
        "# ---\n",
        "#\n",
        "%sql DROP TABLE IF EXISTS weather;\n",
        "\n",
        "# And finally store our table in the table name insurance within our dataset.\n",
        "# The persist command will create a table in the database to which we are connected, \n",
        "# the table name will be the same as dataframe variable.\n",
        "# ---\n",
        "#\n",
        "%sql PERSIST weather;\n",
        "\n",
        "# Preview the first 5 records of the insurance dataset \n",
        "# ---\n",
        "#\n",
        "%sql SELECT * FROM weather LIMIT 5;"
      ],
      "metadata": {
        "colab": {
          "base_uri": "https://localhost:8080/"
        },
        "id": "zDiY5vy7NqdS",
        "outputId": "87b5a9c4-1e55-4903-d2ed-ee3625b6d28f"
      },
      "execution_count": 6,
      "outputs": [
        {
          "output_type": "stream",
          "name": "stdout",
          "text": [
            " * sqlite://\n",
            "Done.\n",
            " * sqlite://\n",
            "(sqlite3.OperationalError) near \"PERSIST\": syntax error\n",
            "[SQL: PERSIST weather;]\n",
            "(Background on this error at: https://sqlalche.me/e/14/e3q8)\n",
            " * sqlite://\n",
            "(sqlite3.OperationalError) no such table: weather\n",
            "[SQL: SELECT * FROM weather LIMIT 5;]\n",
            "(Background on this error at: https://sqlalche.me/e/14/e3q8)\n"
          ]
        }
      ]
    },
    {
      "cell_type": "code",
      "source": [
        "#Filtering, Sorting, and Grouping\n",
        "#Perform filtering, sorting, and grouping to explore a dataset using the SQL language\n",
        "\n",
        "#Price choose other alternative location \n",
        "%%sql \n",
        "SELECT SUM(price) AS 'Total Sales from North End'\n",
        "FROM cab_rides\n",
        "WHERE source = 'North End';"
      ],
      "metadata": {
        "colab": {
          "base_uri": "https://localhost:8080/"
        },
        "id": "Y1VB4vkgOY5D",
        "outputId": "11bd7979-5f38-4e3d-9ec5-2aa5427a21d7"
      },
      "execution_count": 7,
      "outputs": [
        {
          "output_type": "stream",
          "name": "stdout",
          "text": [
            " * sqlite://\n",
            "(sqlite3.OperationalError) no such table: cab_rides\n",
            "[SQL: SELECT SUM(price) AS 'Total Sales from North End'\n",
            "FROM cab_rides\n",
            "WHERE source = 'North End';]\n",
            "(Background on this error at: https://sqlalche.me/e/14/e3q8)\n"
          ]
        }
      ]
    },
    {
      "cell_type": "code",
      "source": [
        "# Getting the avg weather pattern for locations\n",
        "# ---\n",
        "# get different weather averages\n",
        "%%sql \n",
        "SELECT location, AVG(wind) FROM weather\n",
        "GROUP BY location\n",
        "ORDER BY AVG(wind) DESC\n",
        "LIMIT 8;"
      ],
      "metadata": {
        "colab": {
          "base_uri": "https://localhost:8080/"
        },
        "id": "AguuCGPaOc1j",
        "outputId": "e4d010ff-033f-4950-f9d9-02fd978adeb5"
      },
      "execution_count": 8,
      "outputs": [
        {
          "output_type": "stream",
          "name": "stdout",
          "text": [
            " * sqlite://\n",
            "(sqlite3.OperationalError) no such table: weather\n",
            "[SQL: SELECT location, AVG(wind) FROM weather\n",
            "GROUP BY location\n",
            "ORDER BY AVG(wind) DESC\n",
            "LIMIT 8;]\n",
            "(Background on this error at: https://sqlalche.me/e/14/e3q8)\n"
          ]
        }
      ]
    },
    {
      "cell_type": "code",
      "source": [
        "#Data Formatting\n",
        "#Perform data formatting of numeric data to prepare data for further analysis using the SQL language.\n",
        "\n",
        "%%sql \n",
        "SELECT UPPER(location) AS LOCATION, wind AS WIND\n",
        "FROM weather \n",
        "LIMIT 5; "
      ],
      "metadata": {
        "colab": {
          "base_uri": "https://localhost:8080/"
        },
        "id": "15yyStV6OhgR",
        "outputId": "45423cc9-ad6e-481d-df65-bcc728339adf"
      },
      "execution_count": 9,
      "outputs": [
        {
          "output_type": "stream",
          "name": "stdout",
          "text": [
            " * sqlite://\n",
            "(sqlite3.OperationalError) no such table: weather\n",
            "[SQL: SELECT UPPER(location) AS LOCATION, wind AS WIND\n",
            "FROM weather \n",
            "LIMIT 5;]\n",
            "(Background on this error at: https://sqlalche.me/e/14/e3q8)\n"
          ]
        }
      ]
    },
    {
      "cell_type": "code",
      "source": [
        "%%sql \n",
        "SELECT location AS LOCATION, ROUND(wind, 1) AS Wind \n",
        "FROM weather LIMIT 5;"
      ],
      "metadata": {
        "colab": {
          "base_uri": "https://localhost:8080/"
        },
        "id": "mpz5wttgOlt6",
        "outputId": "6d6c258b-5fdb-4386-f060-e26d1edd95b0"
      },
      "execution_count": 10,
      "outputs": [
        {
          "output_type": "stream",
          "name": "stdout",
          "text": [
            " * sqlite://\n",
            "(sqlite3.OperationalError) no such table: weather\n",
            "[SQL: SELECT location AS LOCATION, ROUND(wind, 1) AS Wind \n",
            "FROM weather LIMIT 5;]\n",
            "(Background on this error at: https://sqlalche.me/e/14/e3q8)\n"
          ]
        }
      ]
    },
    {
      "cell_type": "code",
      "source": [
        "%%sql \n",
        "SELECT cab_type, source, Count(cab_type) FROM cab_rides\n",
        "GROUP BY source\n",
        "ORDER BY cab_type ASC\n",
        "LIMIT 10;"
      ],
      "metadata": {
        "colab": {
          "base_uri": "https://localhost:8080/"
        },
        "id": "GuT_RF_POqFR",
        "outputId": "f067339e-55fc-4176-f7fe-915ff235e117"
      },
      "execution_count": 11,
      "outputs": [
        {
          "output_type": "stream",
          "name": "stdout",
          "text": [
            " * sqlite://\n",
            "(sqlite3.OperationalError) no such table: cab_rides\n",
            "[SQL: SELECT cab_type, source, Count(cab_type) FROM cab_rides\n",
            "GROUP BY source\n",
            "ORDER BY cab_type ASC\n",
            "LIMIT 10;]\n",
            "(Background on this error at: https://sqlalche.me/e/14/e3q8)\n"
          ]
        }
      ]
    },
    {
      "cell_type": "code",
      "source": [
        "%%sql \n",
        "SELECT cab_type, product_id, source, SUM(price) FROM cab_rides\n",
        "GROUP BY source\n",
        "ORDER BY source DESC\n",
        "LIMIT 10;"
      ],
      "metadata": {
        "colab": {
          "base_uri": "https://localhost:8080/"
        },
        "id": "eY1PmDOUOtya",
        "outputId": "b9bdd339-4d09-428f-a772-2d81e76cbd77"
      },
      "execution_count": 12,
      "outputs": [
        {
          "output_type": "stream",
          "name": "stdout",
          "text": [
            " * sqlite://\n",
            "(sqlite3.OperationalError) no such table: cab_rides\n",
            "[SQL: SELECT cab_type, product_id, source, SUM(price) FROM cab_rides\n",
            "GROUP BY source\n",
            "ORDER BY source DESC\n",
            "LIMIT 10;]\n",
            "(Background on this error at: https://sqlalche.me/e/14/e3q8)\n"
          ]
        }
      ]
    },
    {
      "cell_type": "code",
      "source": [
        "%%sql\n",
        "SELECT *\n",
        "FROM cab_rides, weather\n",
        "WHERE cab_rides.destination = weather.location\n",
        "LIMIT 15;"
      ],
      "metadata": {
        "colab": {
          "base_uri": "https://localhost:8080/"
        },
        "id": "fMDJmjxQOzCT",
        "outputId": "6381b5b9-7756-42c7-d226-f7b3d367d084"
      },
      "execution_count": 13,
      "outputs": [
        {
          "output_type": "stream",
          "name": "stdout",
          "text": [
            " * sqlite://\n",
            "(sqlite3.OperationalError) no such table: cab_rides\n",
            "[SQL: SELECT *\n",
            "FROM cab_rides, weather\n",
            "WHERE cab_rides.destination = weather.location\n",
            "LIMIT 15;]\n",
            "(Background on this error at: https://sqlalche.me/e/14/e3q8)\n"
          ]
        }
      ]
    }
  ]
}