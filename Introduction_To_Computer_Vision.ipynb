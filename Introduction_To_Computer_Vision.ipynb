{
  "nbformat": 4,
  "nbformat_minor": 0,
  "metadata": {
    "colab": {
      "provenance": [],
      "authorship_tag": "ABX9TyMZEc01BxhOEgFfxGPQW8AU",
      "include_colab_link": true
    },
    "kernelspec": {
      "name": "python3",
      "display_name": "Python 3"
    },
    "language_info": {
      "name": "python"
    }
  },
  "cells": [
    {
      "cell_type": "markdown",
      "metadata": {
        "id": "view-in-github",
        "colab_type": "text"
      },
      "source": [
        "<a href=\"https://colab.research.google.com/github/MoseAIML/Moses-/blob/main/Introduction_To_Computer_Vision.ipynb\" target=\"_parent\"><img src=\"https://colab.research.google.com/assets/colab-badge.svg\" alt=\"Open In Colab\"/></a>"
      ]
    },
    {
      "cell_type": "markdown",
      "source": [
        "Description\n",
        "The supermarket chain would like to explore whether Data Science can help them adhere to\n",
        "alcohol laws by making sure they do not sell alcohol to people underage. You are asked to\n",
        "conduct that evaluation, so as you set to work, keep the following in mind:\n",
        "● The shops are equipped with cameras in the checkout area which are triggered when a\n",
        "person is buying alcohol.\n",
        "● Computer vision methods can be used to determine the age of a person from a photo.\n",
        "● The task then is to build and evaluate a model for verifying people's age.\n",
        "To start working on the task, you'll have a set of photographs of people with their ages indicated.\n"
      ],
      "metadata": {
        "id": "r7f6pTkbqzZC"
      }
    },
    {
      "cell_type": "code",
      "execution_count": 2,
      "metadata": {
        "id": "dOIm_0mFqtgU"
      },
      "outputs": [],
      "source": [
        "import pandas as pd\n",
        "import numpy as np\n",
        "import os, sys\n",
        "from PIL import Image\n",
        "\n",
        "from tensorflow.keras import Sequential\n",
        "from tensorflow.keras.layers import Conv2D, Dense, Flatten, GlobalAveragePooling2D\n",
        "from tensorflow.keras.applications.resnet import ResNet50\n",
        "from tensorflow.keras.preprocessing.image import ImageDataGenerator\n",
        "\n",
        "import matplotlib.pyplot as plt\n",
        "import seaborn as sns\n",
        "\n",
        "import warnings\n",
        "warnings.filterwarnings('ignore')"
      ]
    },
    {
      "cell_type": "code",
      "source": [
        "faces = pd.read_csv('/content/labels.csv')"
      ],
      "metadata": {
        "id": "SIMDc7CTq50r"
      },
      "execution_count": 4,
      "outputs": []
    },
    {
      "cell_type": "code",
      "source": [
        "# shape\n",
        "faces.shape"
      ],
      "metadata": {
        "colab": {
          "base_uri": "https://localhost:8080/"
        },
        "id": "bW2U0XHarwG7",
        "outputId": "97d306f1-acdc-4433-b948-9168a52ae591"
      },
      "execution_count": 5,
      "outputs": [
        {
          "output_type": "execute_result",
          "data": {
            "text/plain": [
              "(7591, 2)"
            ]
          },
          "metadata": {},
          "execution_count": 5
        }
      ]
    },
    {
      "cell_type": "code",
      "source": [
        "# top 5\n",
        "faces.head()"
      ],
      "metadata": {
        "colab": {
          "base_uri": "https://localhost:8080/",
          "height": 206
        },
        "id": "fSnlIeoKr1Ew",
        "outputId": "c1954149-a1a9-4ffc-c8e1-b6319fd07c8f"
      },
      "execution_count": 6,
      "outputs": [
        {
          "output_type": "execute_result",
          "data": {
            "text/plain": [
              "    file_name  real_age\n",
              "0  000000.jpg         4\n",
              "1  000001.jpg        18\n",
              "2  000002.jpg        80\n",
              "3  000003.jpg        50\n",
              "4  000004.jpg        17"
            ],
            "text/html": [
              "\n",
              "  <div id=\"df-c532f6cb-81fc-446a-81a6-490f9ced50f1\">\n",
              "    <div class=\"colab-df-container\">\n",
              "      <div>\n",
              "<style scoped>\n",
              "    .dataframe tbody tr th:only-of-type {\n",
              "        vertical-align: middle;\n",
              "    }\n",
              "\n",
              "    .dataframe tbody tr th {\n",
              "        vertical-align: top;\n",
              "    }\n",
              "\n",
              "    .dataframe thead th {\n",
              "        text-align: right;\n",
              "    }\n",
              "</style>\n",
              "<table border=\"1\" class=\"dataframe\">\n",
              "  <thead>\n",
              "    <tr style=\"text-align: right;\">\n",
              "      <th></th>\n",
              "      <th>file_name</th>\n",
              "      <th>real_age</th>\n",
              "    </tr>\n",
              "  </thead>\n",
              "  <tbody>\n",
              "    <tr>\n",
              "      <th>0</th>\n",
              "      <td>000000.jpg</td>\n",
              "      <td>4</td>\n",
              "    </tr>\n",
              "    <tr>\n",
              "      <th>1</th>\n",
              "      <td>000001.jpg</td>\n",
              "      <td>18</td>\n",
              "    </tr>\n",
              "    <tr>\n",
              "      <th>2</th>\n",
              "      <td>000002.jpg</td>\n",
              "      <td>80</td>\n",
              "    </tr>\n",
              "    <tr>\n",
              "      <th>3</th>\n",
              "      <td>000003.jpg</td>\n",
              "      <td>50</td>\n",
              "    </tr>\n",
              "    <tr>\n",
              "      <th>4</th>\n",
              "      <td>000004.jpg</td>\n",
              "      <td>17</td>\n",
              "    </tr>\n",
              "  </tbody>\n",
              "</table>\n",
              "</div>\n",
              "      <button class=\"colab-df-convert\" onclick=\"convertToInteractive('df-c532f6cb-81fc-446a-81a6-490f9ced50f1')\"\n",
              "              title=\"Convert this dataframe to an interactive table.\"\n",
              "              style=\"display:none;\">\n",
              "        \n",
              "  <svg xmlns=\"http://www.w3.org/2000/svg\" height=\"24px\"viewBox=\"0 0 24 24\"\n",
              "       width=\"24px\">\n",
              "    <path d=\"M0 0h24v24H0V0z\" fill=\"none\"/>\n",
              "    <path d=\"M18.56 5.44l.94 2.06.94-2.06 2.06-.94-2.06-.94-.94-2.06-.94 2.06-2.06.94zm-11 1L8.5 8.5l.94-2.06 2.06-.94-2.06-.94L8.5 2.5l-.94 2.06-2.06.94zm10 10l.94 2.06.94-2.06 2.06-.94-2.06-.94-.94-2.06-.94 2.06-2.06.94z\"/><path d=\"M17.41 7.96l-1.37-1.37c-.4-.4-.92-.59-1.43-.59-.52 0-1.04.2-1.43.59L10.3 9.45l-7.72 7.72c-.78.78-.78 2.05 0 2.83L4 21.41c.39.39.9.59 1.41.59.51 0 1.02-.2 1.41-.59l7.78-7.78 2.81-2.81c.8-.78.8-2.07 0-2.86zM5.41 20L4 18.59l7.72-7.72 1.47 1.35L5.41 20z\"/>\n",
              "  </svg>\n",
              "      </button>\n",
              "      \n",
              "  <style>\n",
              "    .colab-df-container {\n",
              "      display:flex;\n",
              "      flex-wrap:wrap;\n",
              "      gap: 12px;\n",
              "    }\n",
              "\n",
              "    .colab-df-convert {\n",
              "      background-color: #E8F0FE;\n",
              "      border: none;\n",
              "      border-radius: 50%;\n",
              "      cursor: pointer;\n",
              "      display: none;\n",
              "      fill: #1967D2;\n",
              "      height: 32px;\n",
              "      padding: 0 0 0 0;\n",
              "      width: 32px;\n",
              "    }\n",
              "\n",
              "    .colab-df-convert:hover {\n",
              "      background-color: #E2EBFA;\n",
              "      box-shadow: 0px 1px 2px rgba(60, 64, 67, 0.3), 0px 1px 3px 1px rgba(60, 64, 67, 0.15);\n",
              "      fill: #174EA6;\n",
              "    }\n",
              "\n",
              "    [theme=dark] .colab-df-convert {\n",
              "      background-color: #3B4455;\n",
              "      fill: #D2E3FC;\n",
              "    }\n",
              "\n",
              "    [theme=dark] .colab-df-convert:hover {\n",
              "      background-color: #434B5C;\n",
              "      box-shadow: 0px 1px 3px 1px rgba(0, 0, 0, 0.15);\n",
              "      filter: drop-shadow(0px 1px 2px rgba(0, 0, 0, 0.3));\n",
              "      fill: #FFFFFF;\n",
              "    }\n",
              "  </style>\n",
              "\n",
              "      <script>\n",
              "        const buttonEl =\n",
              "          document.querySelector('#df-c532f6cb-81fc-446a-81a6-490f9ced50f1 button.colab-df-convert');\n",
              "        buttonEl.style.display =\n",
              "          google.colab.kernel.accessAllowed ? 'block' : 'none';\n",
              "\n",
              "        async function convertToInteractive(key) {\n",
              "          const element = document.querySelector('#df-c532f6cb-81fc-446a-81a6-490f9ced50f1');\n",
              "          const dataTable =\n",
              "            await google.colab.kernel.invokeFunction('convertToInteractive',\n",
              "                                                     [key], {});\n",
              "          if (!dataTable) return;\n",
              "\n",
              "          const docLinkHtml = 'Like what you see? Visit the ' +\n",
              "            '<a target=\"_blank\" href=https://colab.research.google.com/notebooks/data_table.ipynb>data table notebook</a>'\n",
              "            + ' to learn more about interactive tables.';\n",
              "          element.innerHTML = '';\n",
              "          dataTable['output_type'] = 'display_data';\n",
              "          await google.colab.output.renderOutput(dataTable, element);\n",
              "          const docLink = document.createElement('div');\n",
              "          docLink.innerHTML = docLinkHtml;\n",
              "          element.appendChild(docLink);\n",
              "        }\n",
              "      </script>\n",
              "    </div>\n",
              "  </div>\n",
              "  "
            ]
          },
          "metadata": {},
          "execution_count": 6
        }
      ]
    },
    {
      "cell_type": "code",
      "source": [
        "# Duplicates\n",
        "faces.duplicated().sum()"
      ],
      "metadata": {
        "colab": {
          "base_uri": "https://localhost:8080/"
        },
        "id": "_7-tF92er5lA",
        "outputId": "9e0ff9dd-a5c7-42dd-df63-379e1f9a2f21"
      },
      "execution_count": 7,
      "outputs": [
        {
          "output_type": "execute_result",
          "data": {
            "text/plain": [
              "0"
            ]
          },
          "metadata": {},
          "execution_count": 7
        }
      ]
    },
    {
      "cell_type": "code",
      "source": [
        "# missing\n",
        "faces.info()"
      ],
      "metadata": {
        "colab": {
          "base_uri": "https://localhost:8080/"
        },
        "id": "Mxl05ejSr_4m",
        "outputId": "568933a3-6748-4ecb-8825-68f41a25fb34"
      },
      "execution_count": 8,
      "outputs": [
        {
          "output_type": "stream",
          "name": "stdout",
          "text": [
            "<class 'pandas.core.frame.DataFrame'>\n",
            "RangeIndex: 7591 entries, 0 to 7590\n",
            "Data columns (total 2 columns):\n",
            " #   Column     Non-Null Count  Dtype \n",
            "---  ------     --------------  ----- \n",
            " 0   file_name  7591 non-null   object\n",
            " 1   real_age   7591 non-null   int64 \n",
            "dtypes: int64(1), object(1)\n",
            "memory usage: 118.7+ KB\n"
          ]
        }
      ]
    },
    {
      "cell_type": "code",
      "source": [
        "# 5 point summary\n",
        "faces.describe()"
      ],
      "metadata": {
        "colab": {
          "base_uri": "https://localhost:8080/",
          "height": 300
        },
        "id": "m36dsvcQsD0Q",
        "outputId": "32974e4e-1a8b-459a-bb82-aa4c74622f24"
      },
      "execution_count": 9,
      "outputs": [
        {
          "output_type": "execute_result",
          "data": {
            "text/plain": [
              "          real_age\n",
              "count  7591.000000\n",
              "mean     31.201159\n",
              "std      17.145060\n",
              "min       1.000000\n",
              "25%      20.000000\n",
              "50%      29.000000\n",
              "75%      41.000000\n",
              "max     100.000000"
            ],
            "text/html": [
              "\n",
              "  <div id=\"df-87680cbe-dced-4762-b14c-ae8466b39ace\">\n",
              "    <div class=\"colab-df-container\">\n",
              "      <div>\n",
              "<style scoped>\n",
              "    .dataframe tbody tr th:only-of-type {\n",
              "        vertical-align: middle;\n",
              "    }\n",
              "\n",
              "    .dataframe tbody tr th {\n",
              "        vertical-align: top;\n",
              "    }\n",
              "\n",
              "    .dataframe thead th {\n",
              "        text-align: right;\n",
              "    }\n",
              "</style>\n",
              "<table border=\"1\" class=\"dataframe\">\n",
              "  <thead>\n",
              "    <tr style=\"text-align: right;\">\n",
              "      <th></th>\n",
              "      <th>real_age</th>\n",
              "    </tr>\n",
              "  </thead>\n",
              "  <tbody>\n",
              "    <tr>\n",
              "      <th>count</th>\n",
              "      <td>7591.000000</td>\n",
              "    </tr>\n",
              "    <tr>\n",
              "      <th>mean</th>\n",
              "      <td>31.201159</td>\n",
              "    </tr>\n",
              "    <tr>\n",
              "      <th>std</th>\n",
              "      <td>17.145060</td>\n",
              "    </tr>\n",
              "    <tr>\n",
              "      <th>min</th>\n",
              "      <td>1.000000</td>\n",
              "    </tr>\n",
              "    <tr>\n",
              "      <th>25%</th>\n",
              "      <td>20.000000</td>\n",
              "    </tr>\n",
              "    <tr>\n",
              "      <th>50%</th>\n",
              "      <td>29.000000</td>\n",
              "    </tr>\n",
              "    <tr>\n",
              "      <th>75%</th>\n",
              "      <td>41.000000</td>\n",
              "    </tr>\n",
              "    <tr>\n",
              "      <th>max</th>\n",
              "      <td>100.000000</td>\n",
              "    </tr>\n",
              "  </tbody>\n",
              "</table>\n",
              "</div>\n",
              "      <button class=\"colab-df-convert\" onclick=\"convertToInteractive('df-87680cbe-dced-4762-b14c-ae8466b39ace')\"\n",
              "              title=\"Convert this dataframe to an interactive table.\"\n",
              "              style=\"display:none;\">\n",
              "        \n",
              "  <svg xmlns=\"http://www.w3.org/2000/svg\" height=\"24px\"viewBox=\"0 0 24 24\"\n",
              "       width=\"24px\">\n",
              "    <path d=\"M0 0h24v24H0V0z\" fill=\"none\"/>\n",
              "    <path d=\"M18.56 5.44l.94 2.06.94-2.06 2.06-.94-2.06-.94-.94-2.06-.94 2.06-2.06.94zm-11 1L8.5 8.5l.94-2.06 2.06-.94-2.06-.94L8.5 2.5l-.94 2.06-2.06.94zm10 10l.94 2.06.94-2.06 2.06-.94-2.06-.94-.94-2.06-.94 2.06-2.06.94z\"/><path d=\"M17.41 7.96l-1.37-1.37c-.4-.4-.92-.59-1.43-.59-.52 0-1.04.2-1.43.59L10.3 9.45l-7.72 7.72c-.78.78-.78 2.05 0 2.83L4 21.41c.39.39.9.59 1.41.59.51 0 1.02-.2 1.41-.59l7.78-7.78 2.81-2.81c.8-.78.8-2.07 0-2.86zM5.41 20L4 18.59l7.72-7.72 1.47 1.35L5.41 20z\"/>\n",
              "  </svg>\n",
              "      </button>\n",
              "      \n",
              "  <style>\n",
              "    .colab-df-container {\n",
              "      display:flex;\n",
              "      flex-wrap:wrap;\n",
              "      gap: 12px;\n",
              "    }\n",
              "\n",
              "    .colab-df-convert {\n",
              "      background-color: #E8F0FE;\n",
              "      border: none;\n",
              "      border-radius: 50%;\n",
              "      cursor: pointer;\n",
              "      display: none;\n",
              "      fill: #1967D2;\n",
              "      height: 32px;\n",
              "      padding: 0 0 0 0;\n",
              "      width: 32px;\n",
              "    }\n",
              "\n",
              "    .colab-df-convert:hover {\n",
              "      background-color: #E2EBFA;\n",
              "      box-shadow: 0px 1px 2px rgba(60, 64, 67, 0.3), 0px 1px 3px 1px rgba(60, 64, 67, 0.15);\n",
              "      fill: #174EA6;\n",
              "    }\n",
              "\n",
              "    [theme=dark] .colab-df-convert {\n",
              "      background-color: #3B4455;\n",
              "      fill: #D2E3FC;\n",
              "    }\n",
              "\n",
              "    [theme=dark] .colab-df-convert:hover {\n",
              "      background-color: #434B5C;\n",
              "      box-shadow: 0px 1px 3px 1px rgba(0, 0, 0, 0.15);\n",
              "      filter: drop-shadow(0px 1px 2px rgba(0, 0, 0, 0.3));\n",
              "      fill: #FFFFFF;\n",
              "    }\n",
              "  </style>\n",
              "\n",
              "      <script>\n",
              "        const buttonEl =\n",
              "          document.querySelector('#df-87680cbe-dced-4762-b14c-ae8466b39ace button.colab-df-convert');\n",
              "        buttonEl.style.display =\n",
              "          google.colab.kernel.accessAllowed ? 'block' : 'none';\n",
              "\n",
              "        async function convertToInteractive(key) {\n",
              "          const element = document.querySelector('#df-87680cbe-dced-4762-b14c-ae8466b39ace');\n",
              "          const dataTable =\n",
              "            await google.colab.kernel.invokeFunction('convertToInteractive',\n",
              "                                                     [key], {});\n",
              "          if (!dataTable) return;\n",
              "\n",
              "          const docLinkHtml = 'Like what you see? Visit the ' +\n",
              "            '<a target=\"_blank\" href=https://colab.research.google.com/notebooks/data_table.ipynb>data table notebook</a>'\n",
              "            + ' to learn more about interactive tables.';\n",
              "          element.innerHTML = '';\n",
              "          dataTable['output_type'] = 'display_data';\n",
              "          await google.colab.output.renderOutput(dataTable, element);\n",
              "          const docLink = document.createElement('div');\n",
              "          docLink.innerHTML = docLinkHtml;\n",
              "          element.appendChild(docLink);\n",
              "        }\n",
              "      </script>\n",
              "    </div>\n",
              "  </div>\n",
              "  "
            ]
          },
          "metadata": {},
          "execution_count": 9
        }
      ]
    },
    {
      "cell_type": "markdown",
      "source": [
        "**Conclusion**\n",
        "\n",
        "There are 7591 faces in the dataset.\n",
        "\n",
        "There are no missing values or duplicates.\n",
        "\n",
        "The mean age of a person is 31, and the ages range from 1 year to 100 years."
      ],
      "metadata": {
        "id": "LndeIs2IsJl-"
      }
    },
    {
      "cell_type": "code",
      "source": [
        "faces['real_age'].plot(kind='hist', title='Distribution of Ages', bins=50)\n",
        "plt.show()"
      ],
      "metadata": {
        "colab": {
          "base_uri": "https://localhost:8080/",
          "height": 281
        },
        "id": "kLEqr1yPsLlw",
        "outputId": "566b13ee-4ef9-4cd0-a024-46079c4033ad"
      },
      "execution_count": 10,
      "outputs": [
        {
          "output_type": "display_data",
          "data": {
            "text/plain": [
              "<Figure size 432x288 with 1 Axes>"
            ],
            "image/png": "[encoded data removed]"
          },
          "metadata": {
            "needs_background": "light"
          }
        }
      ]
    },
    {
      "cell_type": "code",
      "source": [
        "def plot_images(df, path, num=10, is_generator=False, img_datagen=None):\n",
        "    \"\"\"\n",
        "    Plot a series of images\n",
        "    \"\"\"\n",
        "    plt.figure(figsize=(10, 10))\n",
        "    if not is_generator:\n",
        "        sample_faces = df['file_name'].sample(n=num)\n",
        "    else:\n",
        "        sample_faces, _ = img_datagen\n",
        "        sample_faces = sample_faces[:num]\n",
        "    for idx, file in enumerate(sample_faces):\n",
        "        # with open(os.path.join(path, file), 'rb') as f:\n",
        "        plt.subplot(2, 5, idx+1)\n",
        "        if not is_generator:\n",
        "            img = Image.open(os.path.join(path, file))\n",
        "            plt.imshow(np.array(img, dtype=np.uint8))\n",
        "        else:\n",
        "            img = file\n",
        "            plt.imshow(img)\n",
        "        plt.xticks([])\n",
        "        plt.yticks([])\n",
        "        plt.grid(False)\n",
        "        # plt.xlabel(f'{file}')"
      ],
      "metadata": {
        "id": "dRcutp5WsVAW"
      },
      "execution_count": 11,
      "outputs": []
    },
    {
      "cell_type": "code",
      "source": [
        "img_dir = r'/datasets/faces/final_files/'\n",
        "plot_images(faces, img_dir)"
      ],
      "metadata": {
        "id": "-BnzkjK2saPO"
      },
      "execution_count": null,
      "outputs": []
    },
    {
      "cell_type": "markdown",
      "source": [
        "**Apply some data augmentation techniques**"
      ],
      "metadata": {
        "id": "yXg4CMqHsmTz"
      }
    },
    {
      "cell_type": "code",
      "source": [
        "datagen = ImageDataGenerator(rescale=1/255.,\n",
        "                  horizontal_flip=True,\n",
        "                  width_shift_range=.2,\n",
        "                  zoom_range=0.2)\n",
        "img_datagen = datagen.flow_from_dataframe(faces, \n",
        "                            x_col='file_name',\n",
        "                            y_col='real_age',\n",
        "                            directory=img_dir,\n",
        "                            batch_size=32,\n",
        "                            target_size=(150, 150),\n",
        "                            class_mode='raw'\n",
        "                           )\n",
        "len(img_datagen)"
      ],
      "metadata": {
        "colab": {
          "base_uri": "https://localhost:8080/"
        },
        "id": "Kr83KvKEsrLf",
        "outputId": "683be4cc-eb85-4eb4-f6ef-f7f010ba1d39"
      },
      "execution_count": 13,
      "outputs": [
        {
          "output_type": "stream",
          "name": "stdout",
          "text": [
            "Found 0 validated image filenames.\n"
          ]
        },
        {
          "output_type": "execute_result",
          "data": {
            "text/plain": [
              "0"
            ]
          },
          "metadata": {},
          "execution_count": 13
        }
      ]
    },
    {
      "cell_type": "code",
      "source": [
        "plot_images(faces, img_dir, is_generator=True, img_datagen=next(img_datagen))"
      ],
      "metadata": {
        "colab": {
          "base_uri": "https://localhost:8080/",
          "height": 35
        },
        "id": "30hRqaCmsvao",
        "outputId": "66cedad9-a9ea-4364-db4f-539a21b9e98e"
      },
      "execution_count": 14,
      "outputs": [
        {
          "output_type": "display_data",
          "data": {
            "text/plain": [
              "<Figure size 720x720 with 0 Axes>"
            ]
          },
          "metadata": {}
        }
      ]
    },
    {
      "cell_type": "markdown",
      "source": [
        "**Modelling**"
      ],
      "metadata": {
        "id": "GgvMk1Nis1P_"
      }
    },
    {
      "cell_type": "code",
      "source": [
        "def load_train(path):\n",
        "    \n",
        "    \"\"\"\n",
        "    It loads the train part of dataset from path\n",
        "    \"\"\"\n",
        "    df = pd.read_csv(path, 'labels.csv')\n",
        "    img_dir = path + 'final_files/'\n",
        "    # place your code here\n",
        "    train_gen = ImageDataGenerator(\n",
        "                            validation_split=0.2,\n",
        "                            rescale=1/255.,\n",
        "                            horizontal_flip=True,\n",
        "                            width_shift_range=.2,\n",
        "                            zoom_range=0.2,\n",
        "    )\n",
        "    train_gen_flow = train_gen.flow_from_dataframe(\n",
        "                            df,\n",
        "                            directory=img_dir,\n",
        "                            x_col='file_name',\n",
        "                            y_col='real_age',\n",
        "                            target_size=(150, 150),\n",
        "                            batch_size=32,\n",
        "                            class_mode='raw',\n",
        "                            subset='training',\n",
        "                            seed=42,\n",
        "                            )\n",
        "\n",
        "    return train_gen_flow"
      ],
      "metadata": {
        "id": "-jgL6U8ks3nv"
      },
      "execution_count": 15,
      "outputs": []
    },
    {
      "cell_type": "code",
      "source": [
        "def load_test(path):\n",
        "    \n",
        "    \"\"\"\n",
        "    It loads the validation/test part of dataset from path\n",
        "    \"\"\"\n",
        "    df = pd.read_csv(path, 'labels.csv')\n",
        "    img_dir = path + 'final_files/'\n",
        "    # place your code here\n",
        "    test_gen = ImageDataGenerator(\n",
        "                            validation_split=0.2,\n",
        "                            rescale=1/255.,\n",
        "    )\n",
        "    test_gen_flow = test_gen.flow_from_dataframe(\n",
        "                            df,\n",
        "                            directory=img_dir,\n",
        "                            x_col='file_name',\n",
        "                            y_col='real_age',\n",
        "                            target_size=(150, 150),\n",
        "                            batch_size=32,\n",
        "                            class_mode='raw',\n",
        "                            subset='validation',\n",
        "                            seed=42,\n",
        "                            )\n",
        "\n",
        "    return test_gen_flow"
      ],
      "metadata": {
        "id": "1eNiteKWs--u"
      },
      "execution_count": 16,
      "outputs": []
    },
    {
      "cell_type": "code",
      "source": [
        "def create_model(input_shape):\n",
        "    \n",
        "    \"\"\"\n",
        "    It defines the model\n",
        "    \"\"\"\n",
        "    \n",
        "    backbone = ResNet50(input_shape=input_shape, weights='imagenet', include_top=False)\n",
        "    model = Sequential()\n",
        "    model.add(backbone)\n",
        "    model.add(GlobalAveragePooling2D())\n",
        "    model.add(Dense(units=128, activation='relu'))\n",
        "    model.add(Dense(units=1, activation='relu'))\n",
        "    optimizer = Adam(lr=0.00002)\n",
        "    model.compile(loss='mse', optimizer=optimizer, metrics=['mae'])\n",
        "\n",
        "    return model"
      ],
      "metadata": {
        "id": "xX8d9KsntCvm"
      },
      "execution_count": 17,
      "outputs": []
    },
    {
      "cell_type": "code",
      "source": [
        "def train_model(model, train_data, test_data, batch_size=None, epochs=5,\n",
        "                steps_per_epoch=None, validation_steps=None):\n",
        "\n",
        "    \"\"\"\n",
        "    Trains the model given the parameters\n",
        "    \"\"\"\n",
        "    \n",
        "    model.fit(\n",
        "        train_data,\n",
        "        validation_data=test_data,\n",
        "        batch_size=batch_size,\n",
        "        epochs=epochs,\n",
        "        steps_per_epoch=steps_per_epoch,\n",
        "        validation_steps=validation_steps,\n",
        "        verbose=2,\n",
        "        shuffle=True,\n",
        "    )\n",
        "\n",
        "    return model"
      ],
      "metadata": {
        "id": "akZiAGURtHDG"
      },
      "execution_count": 18,
      "outputs": []
    },
    {
      "cell_type": "markdown",
      "source": [
        "**Preparing the Script to Run on the GPU Platform**"
      ],
      "metadata": {
        "id": "69_WlRedtMkK"
      }
    },
    {
      "cell_type": "code",
      "source": [
        "# prepare a script to run on the GPU platform\n",
        "\n",
        "init_str = \"\"\"\n",
        "import pandas as pd\n",
        "import os\n",
        "\n",
        "import tensorflow as tf\n",
        "\n",
        "from tensorflow.keras.preprocessing.image import ImageDataGenerator\n",
        "from tensorflow.keras.applications.resnet import ResNet50\n",
        "from tensorflow.keras.models import Sequential\n",
        "from tensorflow.keras.layers import GlobalAveragePooling2D, Dense, Dropout, Flatten\n",
        "from tensorflow.keras.optimizers import Adam\n",
        "\"\"\"\n",
        "\n",
        "import inspect\n",
        "\n",
        "with open('run_model_on_gpu.py', 'w') as f:\n",
        "    \n",
        "    f.write(init_str)\n",
        "    f.write('\\n\\n')\n",
        "        \n",
        "    for fn_name in [load_train, load_test, create_model, train_model]:\n",
        "        \n",
        "        src = inspect.getsource(fn_name)\n",
        "        f.write(src)\n",
        "        f.write('\\n\\n')"
      ],
      "metadata": {
        "id": "ABXHFcQwtTUm"
      },
      "execution_count": 19,
      "outputs": []
    }
  ]
}