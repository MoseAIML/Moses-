{
  "nbformat": 4,
  "nbformat_minor": 0,
  "metadata": {
    "colab": {
      "provenance": [],
      "authorship_tag": "ABX9TyMj3mynr9MB9ZdLwnA1lsoh",
      "include_colab_link": true
    },
    "kernelspec": {
      "name": "python3",
      "display_name": "Python 3"
    },
    "language_info": {
      "name": "python"
    }
  },
  "cells": [
    {
      "cell_type": "markdown",
      "metadata": {
        "id": "view-in-github",
        "colab_type": "text"
      },
      "source": [
        "<a href=\"https://colab.research.google.com/github/MoseAIML/Moses-/blob/main/Data_Analysis_with__SQL.ipynb\" target=\"_parent\"><img src=\"https://colab.research.google.com/assets/colab-badge.svg\" alt=\"Open In Colab\"/></a>"
      ]
    },
    {
      "cell_type": "markdown",
      "source": [
        "Pre-requisites"
      ],
      "metadata": {
        "id": "Wdb9aPoGFgj0"
      }
    },
    {
      "cell_type": "code",
      "execution_count": 1,
      "metadata": {
        "id": "7HX6L8oPFGIz"
      },
      "outputs": [],
      "source": [
        "%load_ext sql\n",
        "%sql sqlite://\n",
        "import pandas as pd"
      ]
    },
    {
      "cell_type": "code",
      "source": [
        "\n",
        "# Import Cab Rides Files\n",
        "cab_rides = pd.read_csv(\"/content/cab_rides.csv\", encoding=\"ISO-8859-1\")\n",
        "\n",
        "# We then delete the table if it exists in our database\n",
        "# ---\n",
        "#\n",
        "%sql DROP TABLE IF EXISTS cab_rides;\n",
        "\n",
        "# And finally store our table in the table name insurance within our dataset.\n",
        "# The persist command will create a table in the database to which we are connected, \n",
        "# the table name will be the same as dataframe variable.\n",
        "# ---\n",
        "#\n",
        "%sql PERSIST cab_rides;\n",
        "\n",
        "# Preview the first 5 records of the insurance dataset \n",
        "# ---\n",
        "#\n",
        "%sql SELECT * FROM cab_rides LIMIT 5;"
      ],
      "metadata": {
        "colab": {
          "base_uri": "https://localhost:8080/",
          "height": 321
        },
        "id": "vmNTne8_FxC8",
        "outputId": "03e403ee-30f0-4c68-9b24-938126849ff4"
      },
      "execution_count": 9,
      "outputs": [
        {
          "output_type": "stream",
          "name": "stdout",
          "text": [
            " * sqlite://\n",
            "Done.\n",
            " * sqlite://\n",
            " * sqlite://\n",
            "Done.\n"
          ]
        },
        {
          "output_type": "execute_result",
          "data": {
            "text/plain": [
              "[(0, 0.44, 'Lyft', 1544950000000.0, 'North Station', 'Haymarket Square', 5.0, 1.0, '424553bb-7174-41ea-aeb4-fe06d4f4b9d7', 'lyft_line', 'Shared'),\n",
              " (1, 0.44, 'Lyft', 1543280000000.0, 'North Station', 'Haymarket Square', 11.0, 1.0, '4bd23055-6827-41c6-b23b-3c491f24e74d', 'lyft_premier', 'Lux'),\n",
              " (2, 0.44, 'Lyft', 1543370000000.0, 'North Station', 'Haymarket Square', 7.0, 1.0, '981a3613-77af-4620-a42a-0c0866077d1e', 'lyft', 'Lyft'),\n",
              " (3, 0.44, 'Lyft', 1543550000000.0, 'North Station', 'Haymarket Square', 26.0, 1.0, 'c2d88af2-d278-4bfd-a8d0-29ca77cc5512', 'lyft_luxsuv', 'Lux Black XL'),\n",
              " (4, 0.44, 'Lyft', 1543460000000.0, 'North Station', 'Haymarket Square', 9.0, 1.0, 'e0126e1f-8ca9-4f2e-82b3-50505a09db9a', 'lyft_plus', 'Lyft XL')]"
            ],
            "text/html": [
              "<table>\n",
              "    <thead>\n",
              "        <tr>\n",
              "            <th>index</th>\n",
              "            <th>distance</th>\n",
              "            <th>cab_type</th>\n",
              "            <th>time_stamp</th>\n",
              "            <th>destination</th>\n",
              "            <th>source</th>\n",
              "            <th>price</th>\n",
              "            <th>surge_multiplier</th>\n",
              "            <th>id</th>\n",
              "            <th>product_id</th>\n",
              "            <th>name</th>\n",
              "        </tr>\n",
              "    </thead>\n",
              "    <tbody>\n",
              "        <tr>\n",
              "            <td>0</td>\n",
              "            <td>0.44</td>\n",
              "            <td>Lyft</td>\n",
              "            <td>1544950000000.0</td>\n",
              "            <td>North Station</td>\n",
              "            <td>Haymarket Square</td>\n",
              "            <td>5.0</td>\n",
              "            <td>1.0</td>\n",
              "            <td>424553bb-7174-41ea-aeb4-fe06d4f4b9d7</td>\n",
              "            <td>lyft_line</td>\n",
              "            <td>Shared</td>\n",
              "        </tr>\n",
              "        <tr>\n",
              "            <td>1</td>\n",
              "            <td>0.44</td>\n",
              "            <td>Lyft</td>\n",
              "            <td>1543280000000.0</td>\n",
              "            <td>North Station</td>\n",
              "            <td>Haymarket Square</td>\n",
              "            <td>11.0</td>\n",
              "            <td>1.0</td>\n",
              "            <td>4bd23055-6827-41c6-b23b-3c491f24e74d</td>\n",
              "            <td>lyft_premier</td>\n",
              "            <td>Lux</td>\n",
              "        </tr>\n",
              "        <tr>\n",
              "            <td>2</td>\n",
              "            <td>0.44</td>\n",
              "            <td>Lyft</td>\n",
              "            <td>1543370000000.0</td>\n",
              "            <td>North Station</td>\n",
              "            <td>Haymarket Square</td>\n",
              "            <td>7.0</td>\n",
              "            <td>1.0</td>\n",
              "            <td>981a3613-77af-4620-a42a-0c0866077d1e</td>\n",
              "            <td>lyft</td>\n",
              "            <td>Lyft</td>\n",
              "        </tr>\n",
              "        <tr>\n",
              "            <td>3</td>\n",
              "            <td>0.44</td>\n",
              "            <td>Lyft</td>\n",
              "            <td>1543550000000.0</td>\n",
              "            <td>North Station</td>\n",
              "            <td>Haymarket Square</td>\n",
              "            <td>26.0</td>\n",
              "            <td>1.0</td>\n",
              "            <td>c2d88af2-d278-4bfd-a8d0-29ca77cc5512</td>\n",
              "            <td>lyft_luxsuv</td>\n",
              "            <td>Lux Black XL</td>\n",
              "        </tr>\n",
              "        <tr>\n",
              "            <td>4</td>\n",
              "            <td>0.44</td>\n",
              "            <td>Lyft</td>\n",
              "            <td>1543460000000.0</td>\n",
              "            <td>North Station</td>\n",
              "            <td>Haymarket Square</td>\n",
              "            <td>9.0</td>\n",
              "            <td>1.0</td>\n",
              "            <td>e0126e1f-8ca9-4f2e-82b3-50505a09db9a</td>\n",
              "            <td>lyft_plus</td>\n",
              "            <td>Lyft XL</td>\n",
              "        </tr>\n",
              "    </tbody>\n",
              "</table>"
            ]
          },
          "metadata": {},
          "execution_count": 9
        }
      ]
    },
    {
      "cell_type": "code",
      "source": [
        "# Import Weather Files\n",
        "weather = pd.read_csv(\"/content/weather.csv\", encoding=\"ISO-8859-1\")\n",
        "# We then delete the table if it exists in our database\n",
        "# ---\n",
        "#\n",
        "%sql DROP TABLE IF EXISTS weather;\n",
        "\n",
        "# And finally store our table in the table name insurance within our dataset.\n",
        "# The persist command will create a table in the database to which we are connected, \n",
        "# the table name will be the same as dataframe variable.\n",
        "# ---\n",
        "#\n",
        "%sql PERSIST weather;\n",
        "\n",
        "# Preview the first 5 records of the insurance dataset \n",
        "# ---\n",
        "#\n",
        "%sql SELECT * FROM weather LIMIT 5;\n"
      ],
      "metadata": {
        "id": "k1O2-yoSJDxR"
      },
      "execution_count": null,
      "outputs": []
    },
    {
      "cell_type": "code",
      "source": [],
      "metadata": {
        "id": "TMctmwmFJuIS"
      },
      "execution_count": null,
      "outputs": []
    },
    {
      "cell_type": "code",
      "source": [],
      "metadata": {
        "id": "Dfq4QvsQJ7gd"
      },
      "execution_count": null,
      "outputs": []
    },
    {
      "cell_type": "code",
      "source": [
        "\n"
      ],
      "metadata": {
        "id": "Os5bZxGQKB7_"
      },
      "execution_count": null,
      "outputs": []
    }
  ]
}