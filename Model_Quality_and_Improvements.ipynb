{
  "nbformat": 4,
  "nbformat_minor": 0,
  "metadata": {
    "colab": {
      "provenance": [],
      "authorship_tag": "ABX9TyMWHPE1IlvQjyCVZSXdbN28",
      "include_colab_link": true
    },
    "kernelspec": {
      "name": "python3",
      "display_name": "Python 3"
    },
    "language_info": {
      "name": "python"
    }
  },
  "cells": [
    {
      "cell_type": "markdown",
      "metadata": {
        "id": "view-in-github",
        "colab_type": "text"
      },
      "source": [
        "<a href=\"https://colab.research.google.com/github/MoseAIML/Moses-/blob/main/Model_Quality_and_Improvements.ipynb\" target=\"_parent\"><img src=\"https://colab.research.google.com/assets/colab-badge.svg\" alt=\"Open In Colab\"/></a>"
      ]
    },
    {
      "cell_type": "markdown",
      "source": [
        "You will be required to submit: ● A GitHub repository with your project written in Python or R. Instructions Problem Statement As a data professional working for a pharmaceutical company, you need to develop a model that predicts whether a patient will be diagnosed with diabetes. The model needs to have an accuracy score greater than 0.85. You will be required to document the following steps:\n",
        "\n",
        "Data Importation\n",
        "Data Cleaning\n",
        "Data Modeling (Using Decision Trees, Random Forest and Logistic Regression)\n",
        "Model Evaluation\n",
        "Hyparameter Tuning\n",
        "Hyparameter Tuning"
      ],
      "metadata": {
        "id": "Z9PgkkaelZhG"
      }
    },
    {
      "cell_type": "code",
      "source": [
        "# Import Libraries\n",
        "\n",
        "import pandas as pd\n",
        "import numpy as np\n",
        "import matplotlib.pyplot as plt\n",
        "import seaborn as sns\n",
        "\n",
        "# To preview all rows and columns\n",
        "pd.set_option('display.max_columns', None)\n",
        "pd.set_option('display.max_rows', None)\n",
        "     "
      ],
      "metadata": {
        "id": "JlToebX7lgzC"
      },
      "execution_count": 1,
      "outputs": []
    },
    {
      "cell_type": "code",
      "execution_count": 2,
      "metadata": {
        "colab": {
          "base_uri": "https://localhost:8080/",
          "height": 206
        },
        "id": "4U0JdeTTlPw-",
        "outputId": "726fa790-2758-422b-f9a7-a8a12d97d7f3"
      },
      "outputs": [
        {
          "output_type": "execute_result",
          "data": {
            "text/plain": [
              "   Pregnancies  Glucose  BloodPressure  SkinThickness  Insulin   BMI  \\\n",
              "0            6      148             72             35        0  33.6   \n",
              "1            1       85             66             29        0  26.6   \n",
              "2            8      183             64              0        0  23.3   \n",
              "3            1       89             66             23       94  28.1   \n",
              "4            0      137             40             35      168  43.1   \n",
              "\n",
              "   DiabetesPedigreeFunction  Age  Outcome  \n",
              "0                     0.627   50        1  \n",
              "1                     0.351   31        0  \n",
              "2                     0.672   32        1  \n",
              "3                     0.167   21        0  \n",
              "4                     2.288   33        1  "
            ],
            "text/html": [
              "\n",
              "  <div id=\"df-912d198a-6016-4b2b-a56b-4e2895dda04d\">\n",
              "    <div class=\"colab-df-container\">\n",
              "      <div>\n",
              "<style scoped>\n",
              "    .dataframe tbody tr th:only-of-type {\n",
              "        vertical-align: middle;\n",
              "    }\n",
              "\n",
              "    .dataframe tbody tr th {\n",
              "        vertical-align: top;\n",
              "    }\n",
              "\n",
              "    .dataframe thead th {\n",
              "        text-align: right;\n",
              "    }\n",
              "</style>\n",
              "<table border=\"1\" class=\"dataframe\">\n",
              "  <thead>\n",
              "    <tr style=\"text-align: right;\">\n",
              "      <th></th>\n",
              "      <th>Pregnancies</th>\n",
              "      <th>Glucose</th>\n",
              "      <th>BloodPressure</th>\n",
              "      <th>SkinThickness</th>\n",
              "      <th>Insulin</th>\n",
              "      <th>BMI</th>\n",
              "      <th>DiabetesPedigreeFunction</th>\n",
              "      <th>Age</th>\n",
              "      <th>Outcome</th>\n",
              "    </tr>\n",
              "  </thead>\n",
              "  <tbody>\n",
              "    <tr>\n",
              "      <th>0</th>\n",
              "      <td>6</td>\n",
              "      <td>148</td>\n",
              "      <td>72</td>\n",
              "      <td>35</td>\n",
              "      <td>0</td>\n",
              "      <td>33.6</td>\n",
              "      <td>0.627</td>\n",
              "      <td>50</td>\n",
              "      <td>1</td>\n",
              "    </tr>\n",
              "    <tr>\n",
              "      <th>1</th>\n",
              "      <td>1</td>\n",
              "      <td>85</td>\n",
              "      <td>66</td>\n",
              "      <td>29</td>\n",
              "      <td>0</td>\n",
              "      <td>26.6</td>\n",
              "      <td>0.351</td>\n",
              "      <td>31</td>\n",
              "      <td>0</td>\n",
              "    </tr>\n",
              "    <tr>\n",
              "      <th>2</th>\n",
              "      <td>8</td>\n",
              "      <td>183</td>\n",
              "      <td>64</td>\n",
              "      <td>0</td>\n",
              "      <td>0</td>\n",
              "      <td>23.3</td>\n",
              "      <td>0.672</td>\n",
              "      <td>32</td>\n",
              "      <td>1</td>\n",
              "    </tr>\n",
              "    <tr>\n",
              "      <th>3</th>\n",
              "      <td>1</td>\n",
              "      <td>89</td>\n",
              "      <td>66</td>\n",
              "      <td>23</td>\n",
              "      <td>94</td>\n",
              "      <td>28.1</td>\n",
              "      <td>0.167</td>\n",
              "      <td>21</td>\n",
              "      <td>0</td>\n",
              "    </tr>\n",
              "    <tr>\n",
              "      <th>4</th>\n",
              "      <td>0</td>\n",
              "      <td>137</td>\n",
              "      <td>40</td>\n",
              "      <td>35</td>\n",
              "      <td>168</td>\n",
              "      <td>43.1</td>\n",
              "      <td>2.288</td>\n",
              "      <td>33</td>\n",
              "      <td>1</td>\n",
              "    </tr>\n",
              "  </tbody>\n",
              "</table>\n",
              "</div>\n",
              "      <button class=\"colab-df-convert\" onclick=\"convertToInteractive('df-912d198a-6016-4b2b-a56b-4e2895dda04d')\"\n",
              "              title=\"Convert this dataframe to an interactive table.\"\n",
              "              style=\"display:none;\">\n",
              "        \n",
              "  <svg xmlns=\"http://www.w3.org/2000/svg\" height=\"24px\"viewBox=\"0 0 24 24\"\n",
              "       width=\"24px\">\n",
              "    <path d=\"M0 0h24v24H0V0z\" fill=\"none\"/>\n",
              "    <path d=\"M18.56 5.44l.94 2.06.94-2.06 2.06-.94-2.06-.94-.94-2.06-.94 2.06-2.06.94zm-11 1L8.5 8.5l.94-2.06 2.06-.94-2.06-.94L8.5 2.5l-.94 2.06-2.06.94zm10 10l.94 2.06.94-2.06 2.06-.94-2.06-.94-.94-2.06-.94 2.06-2.06.94z\"/><path d=\"M17.41 7.96l-1.37-1.37c-.4-.4-.92-.59-1.43-.59-.52 0-1.04.2-1.43.59L10.3 9.45l-7.72 7.72c-.78.78-.78 2.05 0 2.83L4 21.41c.39.39.9.59 1.41.59.51 0 1.02-.2 1.41-.59l7.78-7.78 2.81-2.81c.8-.78.8-2.07 0-2.86zM5.41 20L4 18.59l7.72-7.72 1.47 1.35L5.41 20z\"/>\n",
              "  </svg>\n",
              "      </button>\n",
              "      \n",
              "  <style>\n",
              "    .colab-df-container {\n",
              "      display:flex;\n",
              "      flex-wrap:wrap;\n",
              "      gap: 12px;\n",
              "    }\n",
              "\n",
              "    .colab-df-convert {\n",
              "      background-color: #E8F0FE;\n",
              "      border: none;\n",
              "      border-radius: 50%;\n",
              "      cursor: pointer;\n",
              "      display: none;\n",
              "      fill: #1967D2;\n",
              "      height: 32px;\n",
              "      padding: 0 0 0 0;\n",
              "      width: 32px;\n",
              "    }\n",
              "\n",
              "    .colab-df-convert:hover {\n",
              "      background-color: #E2EBFA;\n",
              "      box-shadow: 0px 1px 2px rgba(60, 64, 67, 0.3), 0px 1px 3px 1px rgba(60, 64, 67, 0.15);\n",
              "      fill: #174EA6;\n",
              "    }\n",
              "\n",
              "    [theme=dark] .colab-df-convert {\n",
              "      background-color: #3B4455;\n",
              "      fill: #D2E3FC;\n",
              "    }\n",
              "\n",
              "    [theme=dark] .colab-df-convert:hover {\n",
              "      background-color: #434B5C;\n",
              "      box-shadow: 0px 1px 3px 1px rgba(0, 0, 0, 0.15);\n",
              "      filter: drop-shadow(0px 1px 2px rgba(0, 0, 0, 0.3));\n",
              "      fill: #FFFFFF;\n",
              "    }\n",
              "  </style>\n",
              "\n",
              "      <script>\n",
              "        const buttonEl =\n",
              "          document.querySelector('#df-912d198a-6016-4b2b-a56b-4e2895dda04d button.colab-df-convert');\n",
              "        buttonEl.style.display =\n",
              "          google.colab.kernel.accessAllowed ? 'block' : 'none';\n",
              "\n",
              "        async function convertToInteractive(key) {\n",
              "          const element = document.querySelector('#df-912d198a-6016-4b2b-a56b-4e2895dda04d');\n",
              "          const dataTable =\n",
              "            await google.colab.kernel.invokeFunction('convertToInteractive',\n",
              "                                                     [key], {});\n",
              "          if (!dataTable) return;\n",
              "\n",
              "          const docLinkHtml = 'Like what you see? Visit the ' +\n",
              "            '<a target=\"_blank\" href=https://colab.research.google.com/notebooks/data_table.ipynb>data table notebook</a>'\n",
              "            + ' to learn more about interactive tables.';\n",
              "          element.innerHTML = '';\n",
              "          dataTable['output_type'] = 'display_data';\n",
              "          await google.colab.output.renderOutput(dataTable, element);\n",
              "          const docLink = document.createElement('div');\n",
              "          docLink.innerHTML = docLinkHtml;\n",
              "          element.appendChild(docLink);\n",
              "        }\n",
              "      </script>\n",
              "    </div>\n",
              "  </div>\n",
              "  "
            ]
          },
          "metadata": {},
          "execution_count": 2
        }
      ],
      "source": [
        "# Load dataset\n",
        "diabetes_df = pd.read_csv('https://bit.ly/DiabetesDS')\n",
        "\n",
        "# Preview first 5 records\n",
        "diabetes_df.head()\n",
        "     "
      ]
    },
    {
      "cell_type": "code",
      "source": [
        "\n",
        "#standardization of column names\n",
        "diabetes_df.columns = diabetes_df.columns.str.strip().str.lower().str.replace(')','').str.replace('?','')\n",
        "diabetes_df.head(2)\n",
        "     "
      ],
      "metadata": {
        "colab": {
          "base_uri": "https://localhost:8080/",
          "height": 167
        },
        "id": "jYFCD5wWmEcQ",
        "outputId": "b4253538-fa22-441e-c73b-5df698df85ce"
      },
      "execution_count": 3,
      "outputs": [
        {
          "output_type": "stream",
          "name": "stderr",
          "text": [
            "<ipython-input-3-90e4ad8f61dc>:2: FutureWarning: The default value of regex will change from True to False in a future version. In addition, single character regular expressions will *not* be treated as literal strings when regex=True.\n",
            "  diabetes_df.columns = diabetes_df.columns.str.strip().str.lower().str.replace(')','').str.replace('?','')\n"
          ]
        },
        {
          "output_type": "execute_result",
          "data": {
            "text/plain": [
              "   pregnancies  glucose  bloodpressure  skinthickness  insulin   bmi  \\\n",
              "0            6      148             72             35        0  33.6   \n",
              "1            1       85             66             29        0  26.6   \n",
              "\n",
              "   diabetespedigreefunction  age  outcome  \n",
              "0                     0.627   50        1  \n",
              "1                     0.351   31        0  "
            ],
            "text/html": [
              "\n",
              "  <div id=\"df-b01d2eac-b757-4d98-8526-52b058064803\">\n",
              "    <div class=\"colab-df-container\">\n",
              "      <div>\n",
              "<style scoped>\n",
              "    .dataframe tbody tr th:only-of-type {\n",
              "        vertical-align: middle;\n",
              "    }\n",
              "\n",
              "    .dataframe tbody tr th {\n",
              "        vertical-align: top;\n",
              "    }\n",
              "\n",
              "    .dataframe thead th {\n",
              "        text-align: right;\n",
              "    }\n",
              "</style>\n",
              "<table border=\"1\" class=\"dataframe\">\n",
              "  <thead>\n",
              "    <tr style=\"text-align: right;\">\n",
              "      <th></th>\n",
              "      <th>pregnancies</th>\n",
              "      <th>glucose</th>\n",
              "      <th>bloodpressure</th>\n",
              "      <th>skinthickness</th>\n",
              "      <th>insulin</th>\n",
              "      <th>bmi</th>\n",
              "      <th>diabetespedigreefunction</th>\n",
              "      <th>age</th>\n",
              "      <th>outcome</th>\n",
              "    </tr>\n",
              "  </thead>\n",
              "  <tbody>\n",
              "    <tr>\n",
              "      <th>0</th>\n",
              "      <td>6</td>\n",
              "      <td>148</td>\n",
              "      <td>72</td>\n",
              "      <td>35</td>\n",
              "      <td>0</td>\n",
              "      <td>33.6</td>\n",
              "      <td>0.627</td>\n",
              "      <td>50</td>\n",
              "      <td>1</td>\n",
              "    </tr>\n",
              "    <tr>\n",
              "      <th>1</th>\n",
              "      <td>1</td>\n",
              "      <td>85</td>\n",
              "      <td>66</td>\n",
              "      <td>29</td>\n",
              "      <td>0</td>\n",
              "      <td>26.6</td>\n",
              "      <td>0.351</td>\n",
              "      <td>31</td>\n",
              "      <td>0</td>\n",
              "    </tr>\n",
              "  </tbody>\n",
              "</table>\n",
              "</div>\n",
              "      <button class=\"colab-df-convert\" onclick=\"convertToInteractive('df-b01d2eac-b757-4d98-8526-52b058064803')\"\n",
              "              title=\"Convert this dataframe to an interactive table.\"\n",
              "              style=\"display:none;\">\n",
              "        \n",
              "  <svg xmlns=\"http://www.w3.org/2000/svg\" height=\"24px\"viewBox=\"0 0 24 24\"\n",
              "       width=\"24px\">\n",
              "    <path d=\"M0 0h24v24H0V0z\" fill=\"none\"/>\n",
              "    <path d=\"M18.56 5.44l.94 2.06.94-2.06 2.06-.94-2.06-.94-.94-2.06-.94 2.06-2.06.94zm-11 1L8.5 8.5l.94-2.06 2.06-.94-2.06-.94L8.5 2.5l-.94 2.06-2.06.94zm10 10l.94 2.06.94-2.06 2.06-.94-2.06-.94-.94-2.06-.94 2.06-2.06.94z\"/><path d=\"M17.41 7.96l-1.37-1.37c-.4-.4-.92-.59-1.43-.59-.52 0-1.04.2-1.43.59L10.3 9.45l-7.72 7.72c-.78.78-.78 2.05 0 2.83L4 21.41c.39.39.9.59 1.41.59.51 0 1.02-.2 1.41-.59l7.78-7.78 2.81-2.81c.8-.78.8-2.07 0-2.86zM5.41 20L4 18.59l7.72-7.72 1.47 1.35L5.41 20z\"/>\n",
              "  </svg>\n",
              "      </button>\n",
              "      \n",
              "  <style>\n",
              "    .colab-df-container {\n",
              "      display:flex;\n",
              "      flex-wrap:wrap;\n",
              "      gap: 12px;\n",
              "    }\n",
              "\n",
              "    .colab-df-convert {\n",
              "      background-color: #E8F0FE;\n",
              "      border: none;\n",
              "      border-radius: 50%;\n",
              "      cursor: pointer;\n",
              "      display: none;\n",
              "      fill: #1967D2;\n",
              "      height: 32px;\n",
              "      padding: 0 0 0 0;\n",
              "      width: 32px;\n",
              "    }\n",
              "\n",
              "    .colab-df-convert:hover {\n",
              "      background-color: #E2EBFA;\n",
              "      box-shadow: 0px 1px 2px rgba(60, 64, 67, 0.3), 0px 1px 3px 1px rgba(60, 64, 67, 0.15);\n",
              "      fill: #174EA6;\n",
              "    }\n",
              "\n",
              "    [theme=dark] .colab-df-convert {\n",
              "      background-color: #3B4455;\n",
              "      fill: #D2E3FC;\n",
              "    }\n",
              "\n",
              "    [theme=dark] .colab-df-convert:hover {\n",
              "      background-color: #434B5C;\n",
              "      box-shadow: 0px 1px 3px 1px rgba(0, 0, 0, 0.15);\n",
              "      filter: drop-shadow(0px 1px 2px rgba(0, 0, 0, 0.3));\n",
              "      fill: #FFFFFF;\n",
              "    }\n",
              "  </style>\n",
              "\n",
              "      <script>\n",
              "        const buttonEl =\n",
              "          document.querySelector('#df-b01d2eac-b757-4d98-8526-52b058064803 button.colab-df-convert');\n",
              "        buttonEl.style.display =\n",
              "          google.colab.kernel.accessAllowed ? 'block' : 'none';\n",
              "\n",
              "        async function convertToInteractive(key) {\n",
              "          const element = document.querySelector('#df-b01d2eac-b757-4d98-8526-52b058064803');\n",
              "          const dataTable =\n",
              "            await google.colab.kernel.invokeFunction('convertToInteractive',\n",
              "                                                     [key], {});\n",
              "          if (!dataTable) return;\n",
              "\n",
              "          const docLinkHtml = 'Like what you see? Visit the ' +\n",
              "            '<a target=\"_blank\" href=https://colab.research.google.com/notebooks/data_table.ipynb>data table notebook</a>'\n",
              "            + ' to learn more about interactive tables.';\n",
              "          element.innerHTML = '';\n",
              "          dataTable['output_type'] = 'display_data';\n",
              "          await google.colab.output.renderOutput(dataTable, element);\n",
              "          const docLink = document.createElement('div');\n",
              "          docLink.innerHTML = docLinkHtml;\n",
              "          element.appendChild(docLink);\n",
              "        }\n",
              "      </script>\n",
              "    </div>\n",
              "  </div>\n",
              "  "
            ]
          },
          "metadata": {},
          "execution_count": 3
        }
      ]
    },
    {
      "cell_type": "code",
      "source": [
        "\n",
        "# Data shape \n",
        "diabetes_df.shape"
      ],
      "metadata": {
        "colab": {
          "base_uri": "https://localhost:8080/"
        },
        "id": "TqEEHssXmJwA",
        "outputId": "8d873928-0eb0-48c7-d101-06a77dc536db"
      },
      "execution_count": 4,
      "outputs": [
        {
          "output_type": "execute_result",
          "data": {
            "text/plain": [
              "(768, 9)"
            ]
          },
          "metadata": {},
          "execution_count": 4
        }
      ]
    },
    {
      "cell_type": "code",
      "source": [
        "\n",
        "# Looking for duplicates\n",
        "diabetes_df.duplicated().sum()\n",
        "     "
      ],
      "metadata": {
        "colab": {
          "base_uri": "https://localhost:8080/"
        },
        "id": "OYeycgu_mOGb",
        "outputId": "5d34c04d-2498-4a87-f1b9-167f474f972d"
      },
      "execution_count": 5,
      "outputs": [
        {
          "output_type": "execute_result",
          "data": {
            "text/plain": [
              "0"
            ]
          },
          "metadata": {},
          "execution_count": 5
        }
      ]
    },
    {
      "cell_type": "code",
      "source": [
        "\n",
        "diabetes_df.dtypes"
      ],
      "metadata": {
        "colab": {
          "base_uri": "https://localhost:8080/"
        },
        "id": "TNZuxtgjmRcL",
        "outputId": "818a9ca7-0ecb-456f-9240-8c74e1e13910"
      },
      "execution_count": 6,
      "outputs": [
        {
          "output_type": "execute_result",
          "data": {
            "text/plain": [
              "pregnancies                   int64\n",
              "glucose                       int64\n",
              "bloodpressure                 int64\n",
              "skinthickness                 int64\n",
              "insulin                       int64\n",
              "bmi                         float64\n",
              "diabetespedigreefunction    float64\n",
              "age                           int64\n",
              "outcome                       int64\n",
              "dtype: object"
            ]
          },
          "metadata": {},
          "execution_count": 6
        }
      ]
    },
    {
      "cell_type": "code",
      "source": [
        "\n",
        "# Search for null values \n",
        "\n",
        "diabetes_df.isnull().sum()"
      ],
      "metadata": {
        "colab": {
          "base_uri": "https://localhost:8080/"
        },
        "id": "ok3lSlP-mUyz",
        "outputId": "032d2d66-6db1-4a8b-8dcc-d2835dd651ad"
      },
      "execution_count": 7,
      "outputs": [
        {
          "output_type": "execute_result",
          "data": {
            "text/plain": [
              "pregnancies                 0\n",
              "glucose                     0\n",
              "bloodpressure               0\n",
              "skinthickness               0\n",
              "insulin                     0\n",
              "bmi                         0\n",
              "diabetespedigreefunction    0\n",
              "age                         0\n",
              "outcome                     0\n",
              "dtype: int64"
            ]
          },
          "metadata": {},
          "execution_count": 7
        }
      ]
    },
    {
      "cell_type": "markdown",
      "source": [
        "Machine Learning"
      ],
      "metadata": {
        "id": "oiqxHMQUmZmZ"
      }
    },
    {
      "cell_type": "code",
      "source": [
        "\n",
        "#preparing data \n",
        "x = diabetes_df.drop(['outcome'], axis = 1)\n",
        "y = diabetes_df['outcome']  \n",
        "\n",
        "#spliting the dataset (ratio 3:1)\n",
        "from sklearn.model_selection import train_test_split\n",
        "X_train, X_test, y_train, y_test = train_test_split(x, y, test_size = 0.25, random_state = 0)\n",
        "\n",
        "#confirm size of datasets\n",
        "print(diabetes_df.shape)\n",
        "print(X_train.shape)\n",
        "print(X_test.shape)\n",
        "print(y_train.shape)\n",
        "print(y_test.shape)"
      ],
      "metadata": {
        "colab": {
          "base_uri": "https://localhost:8080/"
        },
        "id": "wPuTq41NmfwC",
        "outputId": "cc4127ca-e606-41bf-b24d-12f77458c82f"
      },
      "execution_count": 8,
      "outputs": [
        {
          "output_type": "stream",
          "name": "stdout",
          "text": [
            "(768, 9)\n",
            "(576, 8)\n",
            "(192, 8)\n",
            "(576,)\n",
            "(192,)\n"
          ]
        }
      ]
    },
    {
      "cell_type": "code",
      "source": [
        "\n",
        "from sklearn.tree import DecisionTreeClassifier\n",
        "\n",
        "# Model Creation with random state -> 12345\n",
        "dc_model = DecisionTreeClassifier(random_state=12345, max_depth=5)\n",
        "\n",
        "#train a model\n",
        "dc_model.fit(X_train,y_train)\n",
        "\n",
        "#predict answers \n",
        "dec_y_pred = dc_model.predict(X_test) \n",
        "\n",
        "from sklearn.metrics import accuracy_score \n",
        "\n",
        "#Classifier report\n",
        "from sklearn.metrics import classification_report \n",
        "print(classification_report(y_test, dec_y_pred))"
      ],
      "metadata": {
        "colab": {
          "base_uri": "https://localhost:8080/"
        },
        "id": "mddTBTIgmkbr",
        "outputId": "dc1daef4-00c0-407d-809d-68b0ccb0584d"
      },
      "execution_count": 9,
      "outputs": [
        {
          "output_type": "stream",
          "name": "stdout",
          "text": [
            "              precision    recall  f1-score   support\n",
            "\n",
            "           0       0.80      0.88      0.84       130\n",
            "           1       0.69      0.55      0.61        62\n",
            "\n",
            "    accuracy                           0.78       192\n",
            "   macro avg       0.75      0.72      0.73       192\n",
            "weighted avg       0.77      0.78      0.77       192\n",
            "\n"
          ]
        }
      ]
    },
    {
      "cell_type": "code",
      "source": [
        "\n",
        "for depth in range (1,20):\n",
        "  model = DecisionTreeClassifier(max_depth=depth)\n",
        "  #training the model\n",
        "  model.fit(X_train,y_train)\n",
        "  #find predictions using validation set \n",
        "  dec_y_pred=model.predict(X_test)\n",
        "\n",
        "  print(\"max_depth =\", depth, \": \", end =' ')\n",
        "  print(accuracy_score(dec_y_pred, y_test))"
      ],
      "metadata": {
        "colab": {
          "base_uri": "https://localhost:8080/"
        },
        "id": "nnYKppA4mquL",
        "outputId": "68ed6f9c-51a8-47bd-cf66-483a3ed78f52"
      },
      "execution_count": 10,
      "outputs": [
        {
          "output_type": "stream",
          "name": "stdout",
          "text": [
            "max_depth = 1 :  0.75\n",
            "max_depth = 2 :  0.75\n",
            "max_depth = 3 :  0.734375\n",
            "max_depth = 4 :  0.7447916666666666\n",
            "max_depth = 5 :  0.78125\n",
            "max_depth = 6 :  0.734375\n",
            "max_depth = 7 :  0.7604166666666666\n",
            "max_depth = 8 :  0.7708333333333334\n",
            "max_depth = 9 :  0.796875\n",
            "max_depth = 10 :  0.7708333333333334\n",
            "max_depth = 11 :  0.7552083333333334\n",
            "max_depth = 12 :  0.7447916666666666\n",
            "max_depth = 13 :  0.7239583333333334\n",
            "max_depth = 14 :  0.703125\n",
            "max_depth = 15 :  0.7447916666666666\n",
            "max_depth = 16 :  0.7604166666666666\n",
            "max_depth = 17 :  0.7239583333333334\n",
            "max_depth = 18 :  0.71875\n",
            "max_depth = 19 :  0.7239583333333334\n"
          ]
        }
      ]
    },
    {
      "cell_type": "code",
      "source": [
        "from sklearn.ensemble import RandomForestClassifier\n",
        "\n",
        "#create a model and assign it to a variable \n",
        "Forest_model = RandomForestClassifier(random_state=42, max_depth=6,max_features=5,n_jobs=-1, \n",
        "                                      min_samples_split=5,bootstrap = True,n_estimators = 459)\n",
        "\n",
        "\n",
        "#train a model by calling the fit() method \n",
        "Forest_model.fit(X_train,y_train)\n",
        "\n",
        "#predict answers \n",
        "forest_y_pred = Forest_model.predict(X_test) \n",
        "\n",
        "#Model Evaluation\n",
        "#evaluation metric in sklearn library\n",
        "from sklearn.metrics import accuracy_score \n",
        "\n",
        "#Classifier report\n",
        "from sklearn.metrics import classification_report \n",
        "print(classification_report(y_test, forest_y_pred))"
      ],
      "metadata": {
        "colab": {
          "base_uri": "https://localhost:8080/"
        },
        "id": "FDy0KpPDmvvM",
        "outputId": "b3720383-d71a-493d-851a-ded8815a9b1c"
      },
      "execution_count": 11,
      "outputs": [
        {
          "output_type": "stream",
          "name": "stdout",
          "text": [
            "              precision    recall  f1-score   support\n",
            "\n",
            "           0       0.81      0.90      0.85       130\n",
            "           1       0.73      0.56      0.64        62\n",
            "\n",
            "    accuracy                           0.79       192\n",
            "   macro avg       0.77      0.73      0.75       192\n",
            "weighted avg       0.79      0.79      0.78       192\n",
            "\n"
          ]
        }
      ]
    },
    {
      "cell_type": "code",
      "source": [
        "for depth in range (1,10):\n",
        "  Forest_model = RandomForestClassifier(max_depth=depth)\n",
        "  #training the model\n",
        "  Forest_model.fit(X_train,y_train)\n",
        "  #find predictions using validation set \n",
        "  forest_y_pred=Forest_model.predict(X_test)\n",
        "\n",
        "  print(\"max_depth =\", depth, \": \", end =' ')\n",
        "  print(accuracy_score(forest_y_pred, y_test))"
      ],
      "metadata": {
        "colab": {
          "base_uri": "https://localhost:8080/"
        },
        "id": "MwkaAPgcm0xb",
        "outputId": "5eea1e90-2f7a-4777-f0bf-a6cb2c215a3a"
      },
      "execution_count": 12,
      "outputs": [
        {
          "output_type": "stream",
          "name": "stdout",
          "text": [
            "max_depth = 1 :  0.7135416666666666\n",
            "max_depth = 2 :  0.71875\n",
            "max_depth = 3 :  0.7708333333333334\n",
            "max_depth = 4 :  0.7864583333333334\n",
            "max_depth = 5 :  0.7864583333333334\n",
            "max_depth = 6 :  0.7760416666666666\n",
            "max_depth = 7 :  0.796875\n",
            "max_depth = 8 :  0.7916666666666666\n",
            "max_depth = 9 :  0.7864583333333334\n"
          ]
        }
      ]
    },
    {
      "cell_type": "code",
      "source": [
        "for job in range (1,10):\n",
        "  Forest_model = RandomForestClassifier(n_jobs=job)\n",
        "  #training the model\n",
        "  Forest_model.fit(X_train,y_train)\n",
        "  #find predictions using validation set \n",
        "  forest_y_pred=Forest_model.predict(X_test)\n",
        "\n",
        "  print(\"n_jobs =\", job, \": \", end =' ')\n",
        "  print(accuracy_score(forest_y_pred, y_test))\n",
        "     "
      ],
      "metadata": {
        "colab": {
          "base_uri": "https://localhost:8080/"
        },
        "id": "MN_UNpVdm4o5",
        "outputId": "36bfb60d-1451-48bf-bb0d-72ce13a7effd"
      },
      "execution_count": 13,
      "outputs": [
        {
          "output_type": "stream",
          "name": "stdout",
          "text": [
            "n_jobs = 1 :  0.796875\n",
            "n_jobs = 2 :  0.7864583333333334\n",
            "n_jobs = 3 :  0.78125\n",
            "n_jobs = 4 :  0.7760416666666666\n",
            "n_jobs = 5 :  0.796875\n",
            "n_jobs = 6 :  0.8177083333333334\n",
            "n_jobs = 7 :  0.78125\n",
            "n_jobs = 8 :  0.7916666666666666\n",
            "n_jobs = 9 :  0.78125\n"
          ]
        }
      ]
    },
    {
      "cell_type": "code",
      "source": [
        "from sklearn.ensemble import RandomForestRegressor \n",
        "rf = RandomForestRegressor(random_state=42, n_jobs=-1)\n",
        "from sklearn.model_selection import RandomizedSearchCV\n",
        "from scipy.stats import randint as sp_randint\n",
        "\n",
        "#code to create the parameter distribution.\n",
        "\n",
        "# specify parameters and distributions to sample from\n",
        "param_dist = {\"max_depth\": [3, None],\n",
        "              \"max_features\": sp_randint(1, X_train.shape[1]),\n",
        "              \"min_samples_split\": sp_randint(2, 11),\n",
        "              \"bootstrap\": [True, False],\n",
        "              \"n_estimators\": sp_randint(100, 500)}\n",
        "\n",
        "random_search = RandomizedSearchCV(rf, param_distributions=param_dist,\n",
        "                                   n_iter=10, cv=5, random_state=42)\n",
        "random_search.fit(X_train,y_train)   \n",
        "\n",
        "print(random_search.best_params_)"
      ],
      "metadata": {
        "colab": {
          "base_uri": "https://localhost:8080/"
        },
        "id": "FjnXTpqKm9LM",
        "outputId": "cb46a217-f20e-4cb2-8655-6b7963b5062e"
      },
      "execution_count": 14,
      "outputs": [
        {
          "output_type": "stream",
          "name": "stdout",
          "text": [
            "{'bootstrap': True, 'max_depth': 3, 'max_features': 5, 'min_samples_split': 5, 'n_estimators': 459}\n"
          ]
        }
      ]
    },
    {
      "cell_type": "code",
      "source": [
        "#Logistic Regression Classifer\n",
        "#import decision tree from sklearn library\n",
        "from sklearn.linear_model import LogisticRegression\n",
        "\n",
        "#create a model and assign it to a variable \n",
        "LogisticRegression_model = LogisticRegression(random_state=12345, solver='liblinear', \n",
        "                                              C=1.0)\n",
        "\n",
        "#train a model by calling the fit() method \n",
        "LogisticRegression_model.fit(X_train,y_train)\n",
        "\n",
        "#predict answers \n",
        "logistic_y_pred = LogisticRegression_model.predict(X_test) \n",
        "\n",
        "#Model Evaluation\n",
        "#evaluation metric in sklearn library\n",
        "from sklearn.metrics import accuracy_score \n",
        "\n",
        "#Classifier report\n",
        "from sklearn.metrics import classification_report \n",
        "print('Logistic Regression classifier:')\n",
        "print(classification_report(y_test, logistic_y_pred))"
      ],
      "metadata": {
        "colab": {
          "base_uri": "https://localhost:8080/"
        },
        "id": "W_9szmf7nRJc",
        "outputId": "056b3ecf-044c-46e6-9fa2-fc6396de0ef6"
      },
      "execution_count": 15,
      "outputs": [
        {
          "output_type": "stream",
          "name": "stdout",
          "text": [
            "Logistic Regression classifier:\n",
            "              precision    recall  f1-score   support\n",
            "\n",
            "           0       0.82      0.92      0.87       130\n",
            "           1       0.77      0.58      0.66        62\n",
            "\n",
            "    accuracy                           0.81       192\n",
            "   macro avg       0.79      0.75      0.76       192\n",
            "weighted avg       0.80      0.81      0.80       192\n",
            "\n"
          ]
        }
      ]
    }
  ]
}