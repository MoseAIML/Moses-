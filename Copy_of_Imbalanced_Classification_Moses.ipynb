{
  "nbformat": 4,
  "nbformat_minor": 0,
  "metadata": {
    "colab": {
      "name": "Copy of Imbalanced_Classification_Moses.ipynb",
      "provenance": [],
      "collapsed_sections": [],
      "include_colab_link": true
    },
    "kernelspec": {
      "name": "python3",
      "display_name": "Python 3"
    },
    "language_info": {
      "name": "python"
    }
  },
  "cells": [
    {
      "cell_type": "markdown",
      "metadata": {
        "id": "view-in-github",
        "colab_type": "text"
      },
      "source": [
        "<a href=\"https://colab.research.google.com/github/MoseAIML/Moses-/blob/main/Copy_of_Imbalanced_Classification_Moses.ipynb\" target=\"_parent\"><img src=\"https://colab.research.google.com/assets/colab-badge.svg\" alt=\"Open In Colab\"/></a>"
      ]
    },
    {
      "cell_type": "markdown",
      "source": [
        "# **Problem Statement**\n",
        "Beta Bank customers are leaving: little by little, chipping away every month. The bankers\n",
        "figured out it’s cheaper to save the existing customers rather than to attract new ones.\n",
        "We need to predict whether a customer will leave the bank soon. You have the data on\n",
        "clients’ past behavior and termination of contracts with the bank.\n",
        "Build a model with the maximum possible F1 score. To pass the project, you need an F1\n",
        "score of at least 0.59. Check the F1 for the test set.\n",
        "Additionally, measure the AUC-ROC metric and compare it with the F1.\n",
        "1. Download and prepare the data. Explain the procedure.\n",
        "2. Examine the balance of classes. Train the model without taking into account the\n",
        "imbalance. Briefly describe your findings.\n",
        "3. Improve the quality of the model. Make sure you use at least two approaches to\n",
        "fixing class imbalance. Use the training set to pick the best parameters. Train\n",
        "different models on training and validation sets. Find the best one. Briefly\n",
        "describe your findings.\n",
        "4. Perform the final testing.\n"
      ],
      "metadata": {
        "id": "gPG-BgIJqYy-"
      }
    },
    {
      "cell_type": "code",
      "source": [
        "!pip install fsspec"
      ],
      "metadata": {
        "colab": {
          "base_uri": "https://localhost:8080/"
        },
        "id": "XN90P_WKrsp2",
        "outputId": "d7fc1070-99ff-4e20-cb06-ab47b26fab39"
      },
      "execution_count": null,
      "outputs": [
        {
          "output_type": "stream",
          "name": "stdout",
          "text": [
            "Collecting fsspec\n",
            "  Downloading fsspec-2022.2.0-py3-none-any.whl (134 kB)\n",
            "\u001b[?25l\r\u001b[K     |██▍                             | 10 kB 21.9 MB/s eta 0:00:01\r\u001b[K     |████▉                           | 20 kB 12.7 MB/s eta 0:00:01\r\u001b[K     |███████▎                        | 30 kB 7.7 MB/s eta 0:00:01\r\u001b[K     |█████████▊                      | 40 kB 3.6 MB/s eta 0:00:01\r\u001b[K     |████████████▏                   | 51 kB 3.6 MB/s eta 0:00:01\r\u001b[K     |██████████████▋                 | 61 kB 4.3 MB/s eta 0:00:01\r\u001b[K     |█████████████████               | 71 kB 4.5 MB/s eta 0:00:01\r\u001b[K     |███████████████████▍            | 81 kB 5.0 MB/s eta 0:00:01\r\u001b[K     |█████████████████████▉          | 92 kB 5.4 MB/s eta 0:00:01\r\u001b[K     |████████████████████████▎       | 102 kB 4.3 MB/s eta 0:00:01\r\u001b[K     |██████████████████████████▊     | 112 kB 4.3 MB/s eta 0:00:01\r\u001b[K     |█████████████████████████████▏  | 122 kB 4.3 MB/s eta 0:00:01\r\u001b[K     |███████████████████████████████▋| 133 kB 4.3 MB/s eta 0:00:01\r\u001b[K     |████████████████████████████████| 134 kB 4.3 MB/s \n",
            "\u001b[?25hInstalling collected packages: fsspec\n",
            "Successfully installed fsspec-2022.2.0\n"
          ]
        }
      ]
    },
    {
      "cell_type": "code",
      "execution_count": null,
      "metadata": {
        "id": "cwJMWFxgqTjX"
      },
      "outputs": [],
      "source": [
        "#import libraries\n",
        "import pandas as pd\n",
        "\n",
        "#load dataset\n",
        "df = pd.read_csv(\"https://bit.ly/2XZK7Bo\")"
      ]
    },
    {
      "cell_type": "markdown",
      "source": [
        "# **Data preprocessing & analysis**"
      ],
      "metadata": {
        "id": "L74lyRfHrNO8"
      }
    },
    {
      "cell_type": "code",
      "source": [
        "df.sample(5)"
      ],
      "metadata": {
        "colab": {
          "base_uri": "https://localhost:8080/",
          "height": 206
        },
        "id": "CsDYxz7tq97G",
        "outputId": "e0d08f8c-8163-4e74-b016-cb9cfd211759"
      },
      "execution_count": null,
      "outputs": [
        {
          "output_type": "execute_result",
          "data": {
            "text/plain": [
              "      RowNumber  CustomerId     Surname  CreditScore Geography  Gender  Age  \\\n",
              "6139       6140    15806407      Wilson          652    France  Female   37   \n",
              "5475       5476    15748608    Trentini          612   Germany    Male   42   \n",
              "4408       4409    15795963  Fiorentini          687    France    Male   34   \n",
              "3452       3453    15722965    Yefimova          757    France    Male   57   \n",
              "8203       8204    15588566   Wilkinson          778     Spain    Male   33   \n",
              "\n",
              "      Tenure    Balance  NumOfProducts  HasCrCard  IsActiveMember  \\\n",
              "6139     4.0       0.00              2          1               0   \n",
              "5475     5.0  141927.10              1          1               1   \n",
              "4408     7.0  129895.19              1          0               1   \n",
              "3452     3.0   89079.41              1          1               1   \n",
              "8203     5.0  116474.28              2          1               1   \n",
              "\n",
              "      EstimatedSalary  Exited  \n",
              "6139        143393.24       0  \n",
              "5475         43018.98       0  \n",
              "4408         28698.17       0  \n",
              "3452         53179.21       1  \n",
              "8203         32757.55       0  "
            ],
            "text/html": [
              "\n",
              "  <div id=\"df-2db5475f-fc36-48f0-bcbd-e2ff10d7db0d\">\n",
              "    <div class=\"colab-df-container\">\n",
              "      <div>\n",
              "<style scoped>\n",
              "    .dataframe tbody tr th:only-of-type {\n",
              "        vertical-align: middle;\n",
              "    }\n",
              "\n",
              "    .dataframe tbody tr th {\n",
              "        vertical-align: top;\n",
              "    }\n",
              "\n",
              "    .dataframe thead th {\n",
              "        text-align: right;\n",
              "    }\n",
              "</style>\n",
              "<table border=\"1\" class=\"dataframe\">\n",
              "  <thead>\n",
              "    <tr style=\"text-align: right;\">\n",
              "      <th></th>\n",
              "      <th>RowNumber</th>\n",
              "      <th>CustomerId</th>\n",
              "      <th>Surname</th>\n",
              "      <th>CreditScore</th>\n",
              "      <th>Geography</th>\n",
              "      <th>Gender</th>\n",
              "      <th>Age</th>\n",
              "      <th>Tenure</th>\n",
              "      <th>Balance</th>\n",
              "      <th>NumOfProducts</th>\n",
              "      <th>HasCrCard</th>\n",
              "      <th>IsActiveMember</th>\n",
              "      <th>EstimatedSalary</th>\n",
              "      <th>Exited</th>\n",
              "    </tr>\n",
              "  </thead>\n",
              "  <tbody>\n",
              "    <tr>\n",
              "      <th>6139</th>\n",
              "      <td>6140</td>\n",
              "      <td>15806407</td>\n",
              "      <td>Wilson</td>\n",
              "      <td>652</td>\n",
              "      <td>France</td>\n",
              "      <td>Female</td>\n",
              "      <td>37</td>\n",
              "      <td>4.0</td>\n",
              "      <td>0.00</td>\n",
              "      <td>2</td>\n",
              "      <td>1</td>\n",
              "      <td>0</td>\n",
              "      <td>143393.24</td>\n",
              "      <td>0</td>\n",
              "    </tr>\n",
              "    <tr>\n",
              "      <th>5475</th>\n",
              "      <td>5476</td>\n",
              "      <td>15748608</td>\n",
              "      <td>Trentini</td>\n",
              "      <td>612</td>\n",
              "      <td>Germany</td>\n",
              "      <td>Male</td>\n",
              "      <td>42</td>\n",
              "      <td>5.0</td>\n",
              "      <td>141927.10</td>\n",
              "      <td>1</td>\n",
              "      <td>1</td>\n",
              "      <td>1</td>\n",
              "      <td>43018.98</td>\n",
              "      <td>0</td>\n",
              "    </tr>\n",
              "    <tr>\n",
              "      <th>4408</th>\n",
              "      <td>4409</td>\n",
              "      <td>15795963</td>\n",
              "      <td>Fiorentini</td>\n",
              "      <td>687</td>\n",
              "      <td>France</td>\n",
              "      <td>Male</td>\n",
              "      <td>34</td>\n",
              "      <td>7.0</td>\n",
              "      <td>129895.19</td>\n",
              "      <td>1</td>\n",
              "      <td>0</td>\n",
              "      <td>1</td>\n",
              "      <td>28698.17</td>\n",
              "      <td>0</td>\n",
              "    </tr>\n",
              "    <tr>\n",
              "      <th>3452</th>\n",
              "      <td>3453</td>\n",
              "      <td>15722965</td>\n",
              "      <td>Yefimova</td>\n",
              "      <td>757</td>\n",
              "      <td>France</td>\n",
              "      <td>Male</td>\n",
              "      <td>57</td>\n",
              "      <td>3.0</td>\n",
              "      <td>89079.41</td>\n",
              "      <td>1</td>\n",
              "      <td>1</td>\n",
              "      <td>1</td>\n",
              "      <td>53179.21</td>\n",
              "      <td>1</td>\n",
              "    </tr>\n",
              "    <tr>\n",
              "      <th>8203</th>\n",
              "      <td>8204</td>\n",
              "      <td>15588566</td>\n",
              "      <td>Wilkinson</td>\n",
              "      <td>778</td>\n",
              "      <td>Spain</td>\n",
              "      <td>Male</td>\n",
              "      <td>33</td>\n",
              "      <td>5.0</td>\n",
              "      <td>116474.28</td>\n",
              "      <td>2</td>\n",
              "      <td>1</td>\n",
              "      <td>1</td>\n",
              "      <td>32757.55</td>\n",
              "      <td>0</td>\n",
              "    </tr>\n",
              "  </tbody>\n",
              "</table>\n",
              "</div>\n",
              "      <button class=\"colab-df-convert\" onclick=\"convertToInteractive('df-2db5475f-fc36-48f0-bcbd-e2ff10d7db0d')\"\n",
              "              title=\"Convert this dataframe to an interactive table.\"\n",
              "              style=\"display:none;\">\n",
              "        \n",
              "  <svg xmlns=\"http://www.w3.org/2000/svg\" height=\"24px\"viewBox=\"0 0 24 24\"\n",
              "       width=\"24px\">\n",
              "    <path d=\"M0 0h24v24H0V0z\" fill=\"none\"/>\n",
              "    <path d=\"M18.56 5.44l.94 2.06.94-2.06 2.06-.94-2.06-.94-.94-2.06-.94 2.06-2.06.94zm-11 1L8.5 8.5l.94-2.06 2.06-.94-2.06-.94L8.5 2.5l-.94 2.06-2.06.94zm10 10l.94 2.06.94-2.06 2.06-.94-2.06-.94-.94-2.06-.94 2.06-2.06.94z\"/><path d=\"M17.41 7.96l-1.37-1.37c-.4-.4-.92-.59-1.43-.59-.52 0-1.04.2-1.43.59L10.3 9.45l-7.72 7.72c-.78.78-.78 2.05 0 2.83L4 21.41c.39.39.9.59 1.41.59.51 0 1.02-.2 1.41-.59l7.78-7.78 2.81-2.81c.8-.78.8-2.07 0-2.86zM5.41 20L4 18.59l7.72-7.72 1.47 1.35L5.41 20z\"/>\n",
              "  </svg>\n",
              "      </button>\n",
              "      \n",
              "  <style>\n",
              "    .colab-df-container {\n",
              "      display:flex;\n",
              "      flex-wrap:wrap;\n",
              "      gap: 12px;\n",
              "    }\n",
              "\n",
              "    .colab-df-convert {\n",
              "      background-color: #E8F0FE;\n",
              "      border: none;\n",
              "      border-radius: 50%;\n",
              "      cursor: pointer;\n",
              "      display: none;\n",
              "      fill: #1967D2;\n",
              "      height: 32px;\n",
              "      padding: 0 0 0 0;\n",
              "      width: 32px;\n",
              "    }\n",
              "\n",
              "    .colab-df-convert:hover {\n",
              "      background-color: #E2EBFA;\n",
              "      box-shadow: 0px 1px 2px rgba(60, 64, 67, 0.3), 0px 1px 3px 1px rgba(60, 64, 67, 0.15);\n",
              "      fill: #174EA6;\n",
              "    }\n",
              "\n",
              "    [theme=dark] .colab-df-convert {\n",
              "      background-color: #3B4455;\n",
              "      fill: #D2E3FC;\n",
              "    }\n",
              "\n",
              "    [theme=dark] .colab-df-convert:hover {\n",
              "      background-color: #434B5C;\n",
              "      box-shadow: 0px 1px 3px 1px rgba(0, 0, 0, 0.15);\n",
              "      filter: drop-shadow(0px 1px 2px rgba(0, 0, 0, 0.3));\n",
              "      fill: #FFFFFF;\n",
              "    }\n",
              "  </style>\n",
              "\n",
              "      <script>\n",
              "        const buttonEl =\n",
              "          document.querySelector('#df-2db5475f-fc36-48f0-bcbd-e2ff10d7db0d button.colab-df-convert');\n",
              "        buttonEl.style.display =\n",
              "          google.colab.kernel.accessAllowed ? 'block' : 'none';\n",
              "\n",
              "        async function convertToInteractive(key) {\n",
              "          const element = document.querySelector('#df-2db5475f-fc36-48f0-bcbd-e2ff10d7db0d');\n",
              "          const dataTable =\n",
              "            await google.colab.kernel.invokeFunction('convertToInteractive',\n",
              "                                                     [key], {});\n",
              "          if (!dataTable) return;\n",
              "\n",
              "          const docLinkHtml = 'Like what you see? Visit the ' +\n",
              "            '<a target=\"_blank\" href=https://colab.research.google.com/notebooks/data_table.ipynb>data table notebook</a>'\n",
              "            + ' to learn more about interactive tables.';\n",
              "          element.innerHTML = '';\n",
              "          dataTable['output_type'] = 'display_data';\n",
              "          await google.colab.output.renderOutput(dataTable, element);\n",
              "          const docLink = document.createElement('div');\n",
              "          docLink.innerHTML = docLinkHtml;\n",
              "          element.appendChild(docLink);\n",
              "        }\n",
              "      </script>\n",
              "    </div>\n",
              "  </div>\n",
              "  "
            ]
          },
          "metadata": {},
          "execution_count": 27
        }
      ]
    },
    {
      "cell_type": "code",
      "source": [
        "#size of the dataset\n",
        "df.shape"
      ],
      "metadata": {
        "colab": {
          "base_uri": "https://localhost:8080/"
        },
        "id": "yuXgfGYNxzsp",
        "outputId": "44c5f43e-9a00-4162-d1b9-185fd5ef35a7"
      },
      "execution_count": null,
      "outputs": [
        {
          "output_type": "execute_result",
          "data": {
            "text/plain": [
              "(10000, 14)"
            ]
          },
          "metadata": {},
          "execution_count": 14
        }
      ]
    },
    {
      "cell_type": "code",
      "source": [
        "#find missing values in the columns\n",
        "df.isnull().sum()"
      ],
      "metadata": {
        "colab": {
          "base_uri": "https://localhost:8080/"
        },
        "id": "OKnOkri1uKmT",
        "outputId": "216ceb9c-647d-45a3-a790-5179ff24bc30"
      },
      "execution_count": null,
      "outputs": [
        {
          "output_type": "execute_result",
          "data": {
            "text/plain": [
              "RowNumber            0\n",
              "CustomerId           0\n",
              "Surname              0\n",
              "CreditScore          0\n",
              "Geography            0\n",
              "Gender               0\n",
              "Age                  0\n",
              "Tenure             909\n",
              "Balance              0\n",
              "NumOfProducts        0\n",
              "HasCrCard            0\n",
              "IsActiveMember       0\n",
              "EstimatedSalary      0\n",
              "Exited               0\n",
              "dtype: int64"
            ]
          },
          "metadata": {},
          "execution_count": 28
        }
      ]
    },
    {
      "cell_type": "code",
      "source": [
        "#fill missing values\n",
        "\n",
        "#find unique values in Tenure column\n",
        "df['Tenure'].unique()\n",
        "\n",
        "#fill missing values with median\n",
        "df['Tenure'] = df['Tenure'].fillna(df['Tenure'].median())\n",
        "\n",
        "#check missing values\n",
        "df['Tenure'].isnull().sum()"
      ],
      "metadata": {
        "colab": {
          "base_uri": "https://localhost:8080/"
        },
        "id": "ZlJ9vCjCuub9",
        "outputId": "a9f2fb64-febd-4247-8a81-9e5da34ab42d"
      },
      "execution_count": null,
      "outputs": [
        {
          "output_type": "execute_result",
          "data": {
            "text/plain": [
              "0"
            ]
          },
          "metadata": {},
          "execution_count": 18
        }
      ]
    },
    {
      "cell_type": "code",
      "source": [
        "#check for duplicates\n",
        "df.duplicated().sum()"
      ],
      "metadata": {
        "colab": {
          "base_uri": "https://localhost:8080/"
        },
        "id": "5Z23c4Z4udXG",
        "outputId": "3670e895-8867-4957-a527-5d6d688ebcda"
      },
      "execution_count": null,
      "outputs": [
        {
          "output_type": "execute_result",
          "data": {
            "text/plain": [
              "0"
            ]
          },
          "metadata": {},
          "execution_count": 10
        }
      ]
    },
    {
      "cell_type": "code",
      "source": [
        "#find datatypes in the columns\n",
        "df.dtypes"
      ],
      "metadata": {
        "colab": {
          "base_uri": "https://localhost:8080/"
        },
        "id": "zRdJYyPnCdG3",
        "outputId": "5050985d-005c-4648-9c89-8a1a481f1379"
      },
      "execution_count": null,
      "outputs": [
        {
          "output_type": "execute_result",
          "data": {
            "text/plain": [
              "RowNumber            int64\n",
              "CustomerId           int64\n",
              "Surname             object\n",
              "CreditScore          int64\n",
              "Geography           object\n",
              "Gender              object\n",
              "Age                  int64\n",
              "Tenure             float64\n",
              "Balance            float64\n",
              "NumOfProducts        int64\n",
              "HasCrCard            int64\n",
              "IsActiveMember       int64\n",
              "EstimatedSalary    float64\n",
              "Exited               int64\n",
              "dtype: object"
            ]
          },
          "metadata": {},
          "execution_count": 30
        }
      ]
    },
    {
      "cell_type": "code",
      "source": [
        "#drop some columns\n",
        "df = df.drop([\"Surname\",\"RowNumber\", \"CustomerId\"], axis=1)"
      ],
      "metadata": {
        "id": "d_wSpmWeDzzQ"
      },
      "execution_count": null,
      "outputs": []
    },
    {
      "cell_type": "code",
      "source": [
        "#encoding the string values in the dataset\n",
        "df = pd.get_dummies(df, columns=['Gender', 'Geography'])"
      ],
      "metadata": {
        "id": "bXgrjLpXJlFX"
      },
      "execution_count": null,
      "outputs": []
    },
    {
      "cell_type": "code",
      "source": [
        "df['Exited'].unique()"
      ],
      "metadata": {
        "colab": {
          "base_uri": "https://localhost:8080/"
        },
        "id": "77vA3qYwvL7b",
        "outputId": "9d573f5e-163c-4a43-d03c-05840e942ca7"
      },
      "execution_count": null,
      "outputs": [
        {
          "output_type": "execute_result",
          "data": {
            "text/plain": [
              "array([1, 0])"
            ]
          },
          "metadata": {},
          "execution_count": 10
        }
      ]
    },
    {
      "cell_type": "markdown",
      "source": [
        "# **Model Training & Evaluation**"
      ],
      "metadata": {
        "id": "5yU4GkhxAoyR"
      }
    },
    {
      "cell_type": "code",
      "source": [
        "#Splitting Dataset\n",
        "\n",
        "#import libraries\n",
        "from sklearn.model_selection import train_test_split\n",
        "from sklearn.preprocessing import StandardScaler\n",
        "from sklearn.metrics import f1_score\n",
        "\n",
        "target = df['Exited']\n",
        "features = df.drop('Exited', axis=1)\n",
        "#split dataset\n",
        "features_train, features_valid, target_train, target_valid = train_test_split(\n",
        "    features, target, test_size=0.25, random_state=12345\n",
        ")\n",
        "\n",
        "\n",
        "#feature scaling\n",
        "scaler = StandardScaler()\n",
        "scaler.fit(features_train)\n",
        "features_train = scaler.transform(features_train)\n",
        "features_valid = scaler.transform(features_valid)\n"
      ],
      "metadata": {
        "id": "Vr-ln7kihwWV"
      },
      "execution_count": null,
      "outputs": []
    },
    {
      "cell_type": "markdown",
      "source": [
        "### **Decision Tree Classifier**\n",
        "\n",
        "\n"
      ],
      "metadata": {
        "id": "GEm45_nTOjKs"
      }
    },
    {
      "cell_type": "code",
      "source": [
        "from sklearn.tree import DecisionTreeClassifier\n",
        "\n",
        "model = DecisionTreeClassifier(random_state=12345, max_depth = 2)\n",
        "model.fit(features_train, target_train)\n",
        "predicted_valid = model.predict(features_valid)\n",
        "\n",
        "print(f1_score(target_valid, predicted_valid))"
      ],
      "metadata": {
        "colab": {
          "base_uri": "https://localhost:8080/"
        },
        "id": "Wh68K8sPyhtm",
        "outputId": "e54e7d9d-85fb-4bc7-928b-9b042433ceee"
      },
      "execution_count": null,
      "outputs": [
        {
          "output_type": "stream",
          "name": "stdout",
          "text": [
            "0.5287846481876333\n"
          ]
        }
      ]
    },
    {
      "cell_type": "code",
      "source": [
        "from sklearn.linear_model import LogisticRegression\n",
        "\n",
        "lr_model = LogisticRegression(random_state=12345, solver ='liblinear')\n",
        "lr_model.fit(features_train, target_train)\n",
        "predicted_valid = lr_model.predict(features_valid)\n",
        "\n",
        "print(f1_score(target_valid, predicted_valid))"
      ],
      "metadata": {
        "id": "eqkIrJ8vy1Os",
        "colab": {
          "base_uri": "https://localhost:8080/"
        },
        "outputId": "743b193c-bc7b-4618-ac15-a550f105c5a2"
      },
      "execution_count": null,
      "outputs": [
        {
          "output_type": "stream",
          "name": "stdout",
          "text": [
            "0.29247910863509746\n"
          ]
        }
      ]
    },
    {
      "cell_type": "code",
      "source": [
        "from sklearn.ensemble import RandomForestClassifier\n",
        "\n",
        "rf_model = RandomForestClassifier(random_state=12345, n_estimators=50)\n",
        "rf_model.fit(features_train, target_train)\n",
        "predicted_valid = rf_model.predict(features_valid)\n",
        "\n",
        "print(f1_score(target_valid, predicted_valid))\n"
      ],
      "metadata": {
        "colab": {
          "base_uri": "https://localhost:8080/"
        },
        "id": "sfzoZqYnTsEQ",
        "outputId": "3c8641c9-d25f-4e45-e11e-a539d2e759dc"
      },
      "execution_count": null,
      "outputs": [
        {
          "output_type": "stream",
          "name": "stdout",
          "text": [
            "0.5810968494749125\n"
          ]
        }
      ]
    },
    {
      "cell_type": "markdown",
      "source": [
        "# **Class Balance Adjustments**"
      ],
      "metadata": {
        "id": "PIwDaFS0irIU"
      }
    },
    {
      "cell_type": "code",
      "source": [
        "#check balance of target class\n",
        "df['Exited'].value_counts(normalize=True)"
      ],
      "metadata": {
        "colab": {
          "base_uri": "https://localhost:8080/"
        },
        "id": "HKwJOt7OdOkp",
        "outputId": "9aebf31f-f6df-4928-b313-d572bc077e74"
      },
      "execution_count": null,
      "outputs": [
        {
          "output_type": "execute_result",
          "data": {
            "text/plain": [
              "0    0.7963\n",
              "1    0.2037\n",
              "Name: Exited, dtype: float64"
            ]
          },
          "metadata": {},
          "execution_count": 36
        }
      ]
    },
    {
      "cell_type": "code",
      "source": [
        "#balanced random forest model\n",
        "rf_model_balanced = RandomForestClassifier(random_state=12345, n_estimators=50, class_weight='balanced')\n",
        "rf_model_balanced.fit(features_train, target_train)\n",
        "predicted_valid = rf_model_balanced.predict(features_valid)\n",
        "\n",
        "print(f1_score(target_valid, predicted_valid))\n"
      ],
      "metadata": {
        "colab": {
          "base_uri": "https://localhost:8080/"
        },
        "id": "p89BmCOChNWE",
        "outputId": "67f4971b-cd3b-4380-84e8-ae5b3947fdac"
      },
      "execution_count": null,
      "outputs": [
        {
          "output_type": "stream",
          "name": "stdout",
          "text": [
            "0.5621230398069964\n"
          ]
        }
      ]
    },
    {
      "cell_type": "code",
      "source": [
        "#balanced Decision Tree\n",
        "balanced_model = DecisionTreeClassifier(random_state=12345, max_depth = 2, class_weight='balanced')\n",
        "balanced_model.fit(features_train, target_train)\n",
        "predicted_valid = balanced_model.predict(features_valid)\n",
        "\n",
        "print(f1_score(target_valid, predicted_valid))"
      ],
      "metadata": {
        "colab": {
          "base_uri": "https://localhost:8080/"
        },
        "id": "NM22gkGCiDPi",
        "outputId": "4a903095-a6c7-4c5d-fc07-a54ad0eb2d03"
      },
      "execution_count": null,
      "outputs": [
        {
          "output_type": "stream",
          "name": "stdout",
          "text": [
            "0.5391566265060241\n"
          ]
        }
      ]
    }
  ]
}