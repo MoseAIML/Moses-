{
  "nbformat": 4,
  "nbformat_minor": 0,
  "metadata": {
    "colab": {
      "provenance": [],
      "include_colab_link": true
    },
    "kernelspec": {
      "name": "python3",
      "display_name": "Python 3"
    },
    "language_info": {
      "name": "python"
    }
  },
  "cells": [
    {
      "cell_type": "markdown",
      "metadata": {
        "id": "view-in-github",
        "colab_type": "text"
      },
      "source": [
        "<a href=\"https://colab.research.google.com/github/MoseAIML/Moses-/blob/main/Data_Visualization_with_Seaborn_Assignment.ipynb\" target=\"_parent\"><img src=\"https://colab.research.google.com/assets/colab-badge.svg\" alt=\"Open In Colab\"/></a>"
      ]
    },
    {
      "cell_type": "markdown",
      "metadata": {
        "id": "49LjfEBwryEa"
      },
      "source": [
        "# AfterWork Data Science: Data Visualisation with Seaborn\n"
      ]
    },
    {
      "cell_type": "markdown",
      "metadata": {
        "id": "ElzFWF4Or4-X"
      },
      "source": [
        "## 1. Business Understanding\n",
        "\n",
        "\n"
      ]
    },
    {
      "cell_type": "markdown",
      "metadata": {
        "id": "QufCxgIa2WO-"
      },
      "source": [
        "As a data analyst working with Quick Mart chain of supermarkets, the task is to create an analysis report, complete with recommendations to guide the management team on a marketing strategy decision."
      ]
    },
    {
      "cell_type": "markdown",
      "metadata": {
        "id": "pI7eqgmI2qUw"
      },
      "source": [
        "The report should include:\n",
        "- Which product categories performed best.\n",
        "- Which branches had the highest sales and profits\n",
        "- What key trends in sales in each branch are noticeable over the time.\n",
        "- The average amount spent by customers for each branch.\n",
        "The average rating for each branch."
      ]
    },
    {
      "cell_type": "markdown",
      "metadata": {
        "id": "XTclMNZfr_Jq"
      },
      "source": [
        "## 2. Data Exploration"
      ]
    },
    {
      "cell_type": "code",
      "metadata": {
        "id": "k7o9qRU-sWBO"
      },
      "source": [
        "# Loading libraries\n",
        "# ---\n",
        "# \n",
        "import pandas as pd\n",
        "import numpy as np\n",
        "import seaborn as sns\n",
        "import matplotlib.pyplot as plt \n",
        " "
      ],
      "execution_count": 1,
      "outputs": []
    },
    {
      "cell_type": "code",
      "metadata": {
        "id": "UG1lpSvlsix9"
      },
      "source": [
        "# Loading the dataset\n",
        "# --- \n",
        "# Dataset url = https://bit.ly/SupermarketsDS\n",
        "# --- \n",
        "# YOUR CODE GOES HERE\n",
        "df = pd.read_csv(\"https://bit.ly/SupermarketsDS\")"
      ],
      "execution_count": 2,
      "outputs": []
    },
    {
      "cell_type": "code",
      "metadata": {
        "id": "ZbWBqzGSs7t7",
        "colab": {
          "base_uri": "https://localhost:8080/"
        },
        "outputId": "a62c7cce-6ffa-47bb-a876-070a7b675364"
      },
      "source": [
        "# Determining the size \n",
        "# ---\n",
        "# YOUR CODE GOES HERE\n",
        "\n",
        "df.shape"
      ],
      "execution_count": 3,
      "outputs": [
        {
          "output_type": "execute_result",
          "data": {
            "text/plain": [
              "(1000, 17)"
            ]
          },
          "metadata": {},
          "execution_count": 3
        }
      ]
    },
    {
      "cell_type": "code",
      "metadata": {
        "id": "RvqXS2Cbs-q8",
        "colab": {
          "base_uri": "https://localhost:8080/"
        },
        "outputId": "a3b0cfbc-db67-443d-9d1e-a7023b1d8c65"
      },
      "source": [
        "# Checking the datatypes\n",
        "# ---\n",
        "# YOUR CODE GOES HERE\n",
        "df.dtypes"
      ],
      "execution_count": 4,
      "outputs": [
        {
          "output_type": "execute_result",
          "data": {
            "text/plain": [
              "Invoice ID                  object\n",
              "Branch                      object\n",
              "City                        object\n",
              "Customer type               object\n",
              "Gender                      object\n",
              "Product line                object\n",
              "Unit price                 float64\n",
              "Quantity                     int64\n",
              "Tax 5%                     float64\n",
              "Total                      float64\n",
              "Date                        object\n",
              "Time                        object\n",
              "Payment                     object\n",
              "cogs                       float64\n",
              "gross margin percentage    float64\n",
              "gross income               float64\n",
              "Rating                     float64\n",
              "dtype: object"
            ]
          },
          "metadata": {},
          "execution_count": 4
        }
      ]
    },
    {
      "cell_type": "code",
      "metadata": {
        "id": "zzEWtyFYtC4g",
        "colab": {
          "base_uri": "https://localhost:8080/",
          "height": 361
        },
        "outputId": "6a01530d-dc4b-4b4f-aecc-20f772c16a1c"
      },
      "source": [
        "# Statistical summary\n",
        "# ---\n",
        "# YOUR CODE GOES HERE\n",
        "\n",
        "df.describe()"
      ],
      "execution_count": 5,
      "outputs": [
        {
          "output_type": "execute_result",
          "data": {
            "text/plain": [
              "        Unit price     Quantity       Tax 5%        Total        cogs  \\\n",
              "count  1000.000000  1000.000000  1000.000000  1000.000000  1000.00000   \n",
              "mean     55.672130     5.510000    15.379369   322.966749   307.58738   \n",
              "std      26.494628     2.923431    11.708825   245.885335   234.17651   \n",
              "min      10.080000     1.000000     0.508500    10.678500    10.17000   \n",
              "25%      32.875000     3.000000     5.924875   124.422375   118.49750   \n",
              "50%      55.230000     5.000000    12.088000   253.848000   241.76000   \n",
              "75%      77.935000     8.000000    22.445250   471.350250   448.90500   \n",
              "max      99.960000    10.000000    49.650000  1042.650000   993.00000   \n",
              "\n",
              "       gross margin percentage  gross income      Rating  \n",
              "count              1000.000000   1000.000000  1000.00000  \n",
              "mean                  4.761905     15.379369     6.97270  \n",
              "std                   0.000000     11.708825     1.71858  \n",
              "min                   4.761905      0.508500     4.00000  \n",
              "25%                   4.761905      5.924875     5.50000  \n",
              "50%                   4.761905     12.088000     7.00000  \n",
              "75%                   4.761905     22.445250     8.50000  \n",
              "max                   4.761905     49.650000    10.00000  "
            ],
            "text/html": [
              "\n",
              "  <div id=\"df-a247b626-4056-40f5-a50e-c7090e6ed165\">\n",
              "    <div class=\"colab-df-container\">\n",
              "      <div>\n",
              "<style scoped>\n",
              "    .dataframe tbody tr th:only-of-type {\n",
              "        vertical-align: middle;\n",
              "    }\n",
              "\n",
              "    .dataframe tbody tr th {\n",
              "        vertical-align: top;\n",
              "    }\n",
              "\n",
              "    .dataframe thead th {\n",
              "        text-align: right;\n",
              "    }\n",
              "</style>\n",
              "<table border=\"1\" class=\"dataframe\">\n",
              "  <thead>\n",
              "    <tr style=\"text-align: right;\">\n",
              "      <th></th>\n",
              "      <th>Unit price</th>\n",
              "      <th>Quantity</th>\n",
              "      <th>Tax 5%</th>\n",
              "      <th>Total</th>\n",
              "      <th>cogs</th>\n",
              "      <th>gross margin percentage</th>\n",
              "      <th>gross income</th>\n",
              "      <th>Rating</th>\n",
              "    </tr>\n",
              "  </thead>\n",
              "  <tbody>\n",
              "    <tr>\n",
              "      <th>count</th>\n",
              "      <td>1000.000000</td>\n",
              "      <td>1000.000000</td>\n",
              "      <td>1000.000000</td>\n",
              "      <td>1000.000000</td>\n",
              "      <td>1000.00000</td>\n",
              "      <td>1000.000000</td>\n",
              "      <td>1000.000000</td>\n",
              "      <td>1000.00000</td>\n",
              "    </tr>\n",
              "    <tr>\n",
              "      <th>mean</th>\n",
              "      <td>55.672130</td>\n",
              "      <td>5.510000</td>\n",
              "      <td>15.379369</td>\n",
              "      <td>322.966749</td>\n",
              "      <td>307.58738</td>\n",
              "      <td>4.761905</td>\n",
              "      <td>15.379369</td>\n",
              "      <td>6.97270</td>\n",
              "    </tr>\n",
              "    <tr>\n",
              "      <th>std</th>\n",
              "      <td>26.494628</td>\n",
              "      <td>2.923431</td>\n",
              "      <td>11.708825</td>\n",
              "      <td>245.885335</td>\n",
              "      <td>234.17651</td>\n",
              "      <td>0.000000</td>\n",
              "      <td>11.708825</td>\n",
              "      <td>1.71858</td>\n",
              "    </tr>\n",
              "    <tr>\n",
              "      <th>min</th>\n",
              "      <td>10.080000</td>\n",
              "      <td>1.000000</td>\n",
              "      <td>0.508500</td>\n",
              "      <td>10.678500</td>\n",
              "      <td>10.17000</td>\n",
              "      <td>4.761905</td>\n",
              "      <td>0.508500</td>\n",
              "      <td>4.00000</td>\n",
              "    </tr>\n",
              "    <tr>\n",
              "      <th>25%</th>\n",
              "      <td>32.875000</td>\n",
              "      <td>3.000000</td>\n",
              "      <td>5.924875</td>\n",
              "      <td>124.422375</td>\n",
              "      <td>118.49750</td>\n",
              "      <td>4.761905</td>\n",
              "      <td>5.924875</td>\n",
              "      <td>5.50000</td>\n",
              "    </tr>\n",
              "    <tr>\n",
              "      <th>50%</th>\n",
              "      <td>55.230000</td>\n",
              "      <td>5.000000</td>\n",
              "      <td>12.088000</td>\n",
              "      <td>253.848000</td>\n",
              "      <td>241.76000</td>\n",
              "      <td>4.761905</td>\n",
              "      <td>12.088000</td>\n",
              "      <td>7.00000</td>\n",
              "    </tr>\n",
              "    <tr>\n",
              "      <th>75%</th>\n",
              "      <td>77.935000</td>\n",
              "      <td>8.000000</td>\n",
              "      <td>22.445250</td>\n",
              "      <td>471.350250</td>\n",
              "      <td>448.90500</td>\n",
              "      <td>4.761905</td>\n",
              "      <td>22.445250</td>\n",
              "      <td>8.50000</td>\n",
              "    </tr>\n",
              "    <tr>\n",
              "      <th>max</th>\n",
              "      <td>99.960000</td>\n",
              "      <td>10.000000</td>\n",
              "      <td>49.650000</td>\n",
              "      <td>1042.650000</td>\n",
              "      <td>993.00000</td>\n",
              "      <td>4.761905</td>\n",
              "      <td>49.650000</td>\n",
              "      <td>10.00000</td>\n",
              "    </tr>\n",
              "  </tbody>\n",
              "</table>\n",
              "</div>\n",
              "      <button class=\"colab-df-convert\" onclick=\"convertToInteractive('df-a247b626-4056-40f5-a50e-c7090e6ed165')\"\n",
              "              title=\"Convert this dataframe to an interactive table.\"\n",
              "              style=\"display:none;\">\n",
              "        \n",
              "  <svg xmlns=\"http://www.w3.org/2000/svg\" height=\"24px\"viewBox=\"0 0 24 24\"\n",
              "       width=\"24px\">\n",
              "    <path d=\"M0 0h24v24H0V0z\" fill=\"none\"/>\n",
              "    <path d=\"M18.56 5.44l.94 2.06.94-2.06 2.06-.94-2.06-.94-.94-2.06-.94 2.06-2.06.94zm-11 1L8.5 8.5l.94-2.06 2.06-.94-2.06-.94L8.5 2.5l-.94 2.06-2.06.94zm10 10l.94 2.06.94-2.06 2.06-.94-2.06-.94-.94-2.06-.94 2.06-2.06.94z\"/><path d=\"M17.41 7.96l-1.37-1.37c-.4-.4-.92-.59-1.43-.59-.52 0-1.04.2-1.43.59L10.3 9.45l-7.72 7.72c-.78.78-.78 2.05 0 2.83L4 21.41c.39.39.9.59 1.41.59.51 0 1.02-.2 1.41-.59l7.78-7.78 2.81-2.81c.8-.78.8-2.07 0-2.86zM5.41 20L4 18.59l7.72-7.72 1.47 1.35L5.41 20z\"/>\n",
              "  </svg>\n",
              "      </button>\n",
              "      \n",
              "  <style>\n",
              "    .colab-df-container {\n",
              "      display:flex;\n",
              "      flex-wrap:wrap;\n",
              "      gap: 12px;\n",
              "    }\n",
              "\n",
              "    .colab-df-convert {\n",
              "      background-color: #E8F0FE;\n",
              "      border: none;\n",
              "      border-radius: 50%;\n",
              "      cursor: pointer;\n",
              "      display: none;\n",
              "      fill: #1967D2;\n",
              "      height: 32px;\n",
              "      padding: 0 0 0 0;\n",
              "      width: 32px;\n",
              "    }\n",
              "\n",
              "    .colab-df-convert:hover {\n",
              "      background-color: #E2EBFA;\n",
              "      box-shadow: 0px 1px 2px rgba(60, 64, 67, 0.3), 0px 1px 3px 1px rgba(60, 64, 67, 0.15);\n",
              "      fill: #174EA6;\n",
              "    }\n",
              "\n",
              "    [theme=dark] .colab-df-convert {\n",
              "      background-color: #3B4455;\n",
              "      fill: #D2E3FC;\n",
              "    }\n",
              "\n",
              "    [theme=dark] .colab-df-convert:hover {\n",
              "      background-color: #434B5C;\n",
              "      box-shadow: 0px 1px 3px 1px rgba(0, 0, 0, 0.15);\n",
              "      filter: drop-shadow(0px 1px 2px rgba(0, 0, 0, 0.3));\n",
              "      fill: #FFFFFF;\n",
              "    }\n",
              "  </style>\n",
              "\n",
              "      <script>\n",
              "        const buttonEl =\n",
              "          document.querySelector('#df-a247b626-4056-40f5-a50e-c7090e6ed165 button.colab-df-convert');\n",
              "        buttonEl.style.display =\n",
              "          google.colab.kernel.accessAllowed ? 'block' : 'none';\n",
              "\n",
              "        async function convertToInteractive(key) {\n",
              "          const element = document.querySelector('#df-a247b626-4056-40f5-a50e-c7090e6ed165');\n",
              "          const dataTable =\n",
              "            await google.colab.kernel.invokeFunction('convertToInteractive',\n",
              "                                                     [key], {});\n",
              "          if (!dataTable) return;\n",
              "\n",
              "          const docLinkHtml = 'Like what you see? Visit the ' +\n",
              "            '<a target=\"_blank\" href=https://colab.research.google.com/notebooks/data_table.ipynb>data table notebook</a>'\n",
              "            + ' to learn more about interactive tables.';\n",
              "          element.innerHTML = '';\n",
              "          dataTable['output_type'] = 'display_data';\n",
              "          await google.colab.output.renderOutput(dataTable, element);\n",
              "          const docLink = document.createElement('div');\n",
              "          docLink.innerHTML = docLinkHtml;\n",
              "          element.appendChild(docLink);\n",
              "        }\n",
              "      </script>\n",
              "    </div>\n",
              "  </div>\n",
              "  "
            ]
          },
          "metadata": {},
          "execution_count": 5
        }
      ]
    },
    {
      "cell_type": "markdown",
      "metadata": {
        "id": "XxjnKPpCsGvK"
      },
      "source": [
        "## 3. Data Cleaning"
      ]
    },
    {
      "cell_type": "code",
      "metadata": {
        "id": "A4XDyNydtMaA",
        "colab": {
          "base_uri": "https://localhost:8080/"
        },
        "outputId": "16b3c08e-0342-4e02-a020-99974c4d23e0"
      },
      "source": [
        "# Checking for duplicates \n",
        "# ---\n",
        "# YOUR CODE GOES HERE\n",
        "\n",
        "df.duplicated().sum()"
      ],
      "execution_count": 6,
      "outputs": [
        {
          "output_type": "execute_result",
          "data": {
            "text/plain": [
              "0"
            ]
          },
          "metadata": {},
          "execution_count": 6
        }
      ]
    },
    {
      "cell_type": "code",
      "metadata": {
        "id": "w8xnypfS4gq-",
        "colab": {
          "base_uri": "https://localhost:8080/"
        },
        "outputId": "8b5c2a36-7cc7-48f1-8f53-a3e60b40358d"
      },
      "source": [
        "# Checking for missing values \n",
        "# ---\n",
        "# YOUR CODE GOES HERE\n",
        "\n",
        "df.isnull().sum()"
      ],
      "execution_count": 7,
      "outputs": [
        {
          "output_type": "execute_result",
          "data": {
            "text/plain": [
              "Invoice ID                 0\n",
              "Branch                     0\n",
              "City                       0\n",
              "Customer type              0\n",
              "Gender                     0\n",
              "Product line               0\n",
              "Unit price                 0\n",
              "Quantity                   0\n",
              "Tax 5%                     0\n",
              "Total                      0\n",
              "Date                       0\n",
              "Time                       0\n",
              "Payment                    0\n",
              "cogs                       0\n",
              "gross margin percentage    0\n",
              "gross income               0\n",
              "Rating                     0\n",
              "dtype: int64"
            ]
          },
          "metadata": {},
          "execution_count": 7
        }
      ]
    },
    {
      "cell_type": "code",
      "metadata": {
        "id": "3WrTOhBD9g6X",
        "colab": {
          "base_uri": "https://localhost:8080/"
        },
        "outputId": "3e74ee1a-c6de-470e-9531-0c9c1724c116"
      },
      "source": [
        "# Dropping irrelevant columns\n",
        "# ---\n",
        "# YOUR CODE GOES HERE\n",
        "\n",
        "df.drop(labels='gross margin percentage', axis=1, inplace=True)\n",
        "df.drop(labels='cogs', axis=1, inplace=True)\n",
        "\n",
        "df.dtypes"
      ],
      "execution_count": 8,
      "outputs": [
        {
          "output_type": "execute_result",
          "data": {
            "text/plain": [
              "Invoice ID        object\n",
              "Branch            object\n",
              "City              object\n",
              "Customer type     object\n",
              "Gender            object\n",
              "Product line      object\n",
              "Unit price       float64\n",
              "Quantity           int64\n",
              "Tax 5%           float64\n",
              "Total            float64\n",
              "Date              object\n",
              "Time              object\n",
              "Payment           object\n",
              "gross income     float64\n",
              "Rating           float64\n",
              "dtype: object"
            ]
          },
          "metadata": {},
          "execution_count": 8
        }
      ]
    },
    {
      "cell_type": "markdown",
      "metadata": {
        "id": "Y3ps36B4sKsD"
      },
      "source": [
        "## 4. Data analysis and visualisation (Using Seaborn for visualisation)"
      ]
    },
    {
      "cell_type": "markdown",
      "metadata": {
        "id": "mYXBG4j36n22"
      },
      "source": [
        "We investigate the questions listed above in order to craft a fact-driven recommendation."
      ]
    },
    {
      "cell_type": "markdown",
      "metadata": {
        "id": "qLE1oTkK7Fye"
      },
      "source": [
        "### 4.a) Questions"
      ]
    },
    {
      "cell_type": "code",
      "metadata": {
        "id": "IXQBmVmU7NgY",
        "colab": {
          "base_uri": "https://localhost:8080/",
          "height": 295
        },
        "outputId": "d84bfada-ad2c-40e3-d7d3-7f254a3bc37c"
      },
      "source": [
        "# Question 1 - Which product categories(Product_line) performed best.\n",
        "# YOUR CODE GOES HERE\n",
        "\n",
        "#statistics on how each product did\n",
        "df.groupby('Product line').sum()\n",
        "\n",
        "#bar chart based on product line and total\n",
        "total_per_product = df.groupby(['Product line'], as_index=False).agg({'Total': np.sum})\n",
        "total_per_product\n",
        "\n",
        "sns.barplot(data = total_per_product, x = \"Total\", y = \"Product line\")\n",
        "\n",
        "# Tweak and Label\n",
        "plt.xlabel('Total Sales Worth')\n",
        "plt.ylabel('Product Line')\n",
        "plt.title('Product Line Total Sales')\n",
        "\n",
        "# Display\n",
        "plt.show()"
      ],
      "execution_count": 9,
      "outputs": [
        {
          "output_type": "display_data",
          "data": {
            "text/plain": [
              "<Figure size 432x288 with 1 Axes>"
            ],
            "image/png": "[encoded data removed]"
          },
          "metadata": {
            "needs_background": "light"
          }
        }
      ]
    },
    {
      "cell_type": "code",
      "metadata": {
        "id": "2P1G_Osn_4pd",
        "colab": {
          "base_uri": "https://localhost:8080/",
          "height": 279
        },
        "outputId": "9683caf8-f9a5-49e8-a5cb-56e19fc10487"
      },
      "source": [
        "# Question 2: Which branches had the highest sales(quantity) and profits(tax 5%, gross income) ?\n",
        "# YOUR CODE GOES HERE\n",
        "\n",
        "#find \n",
        "not_matching = df['Tax 5%'] != df['gross income']\n",
        "not_matching.unique()\n",
        "\n",
        "\n",
        "#find branch with highest sales\n",
        "quantities_sold = df.groupby(['Branch'], as_index=False).agg({'Quantity': np.sum})\n",
        "quantities_sold.head()\n",
        "\n",
        "#find branch with highest profits\n",
        "gross_per_branch = df.groupby(['Branch'], as_index=False).agg({'gross income': np.sum})\n",
        "gross_per_branch\n",
        " \n",
        "# Render the plots\n",
        "sns.barplot(data = gross_per_branch, x = \"Branch\", y = \"gross income\")\n",
        "\n",
        "\n",
        "# Display the plot\n",
        "plt.show()\n"
      ],
      "execution_count": 10,
      "outputs": [
        {
          "output_type": "display_data",
          "data": {
            "text/plain": [
              "<Figure size 432x288 with 1 Axes>"
            ],
            "image/png": "[encoded data removed]"
          },
          "metadata": {
            "needs_background": "light"
          }
        }
      ]
    },
    {
      "cell_type": "code",
      "metadata": {
        "id": "mk3KYypUBiZz"
      },
      "source": [
        "# Question 3: What key trends in sales in each branch are noticeable over the time.\n",
        "# YOUR CODE GOES HERE\n",
        "df.head()\n",
        "\n",
        "branch_A =df[df.Branch.isin(['A'])]\n",
        "branch_B =df[df.Branch.isin(['B'])]\n",
        "branch_C =df[df.Branch.isin(['C'])]\n",
        "\n",
        "plt.figure(figsize = (20,5))\n",
        "\n",
        "# Render the plots \n",
        "ax1 = sns.lineplot(data = branch_A, x=\"Date\" ,y=\"Total\",color=\"blue\", label=\"A\")\n",
        "ax2 = sns.lineplot(data = branch_B, x=\"Date\", y=\"Total\", color=\"red\", label=\"B\")\n",
        "ax3 = sns.lineplot(data = branch_C, x=\"Date\", y=\"Total\", color=\"green\", label=\"C\")\n",
        "\n",
        "# Add a title\n",
        "plt.title('Sales over Time')\n",
        "\n",
        "# Add an x-axis label\n",
        "plt.xticks(rotation = 90)\n",
        "plt.xlabel('Dates')\n",
        "\n",
        "# Add a y-axis label \n",
        "plt.ylabel('Totals')\n",
        "\n",
        "# Add a legend\n",
        "plt.legend()\n",
        "\n",
        "# Add a grid\n",
        "ax1.grid()\n",
        "\n",
        "# Display the plot\n",
        "fig.show()\n"
      ],
      "execution_count": null,
      "outputs": []
    },
    {
      "cell_type": "code",
      "metadata": {
        "id": "ZNpDYFwlLJxq",
        "colab": {
          "base_uri": "https://localhost:8080/",
          "height": 299
        },
        "outputId": "2b72a48f-078e-4e22-f330-61738be96874"
      },
      "source": [
        "# Question 4(a): The average amount spent by customers for each branch.\n",
        "# YOUR CODE GOES HERE\n",
        "\n",
        "data = df.groupby(['Branch'], as_index=False).agg({'Total': np.mean})\n",
        "data.head()\n",
        "\n",
        "sns.barplot(data = data, x = \"Branch\", y = \"Total\")"
      ],
      "execution_count": null,
      "outputs": [
        {
          "output_type": "execute_result",
          "data": {
            "text/plain": [
              "<matplotlib.axes._subplots.AxesSubplot at 0x7fa4cb5b86d0>"
            ]
          },
          "metadata": {},
          "execution_count": 51
        },
        {
          "output_type": "display_data",
          "data": {
            "image/png": "[encoded data removed]",
            "text/plain": [
              "<Figure size 432x288 with 1 Axes>"
            ]
          },
          "metadata": {
            "needs_background": "light"
          }
        }
      ]
    },
    {
      "cell_type": "code",
      "metadata": {
        "id": "U88XUgMrWAPP",
        "colab": {
          "base_uri": "https://localhost:8080/",
          "height": 297
        },
        "outputId": "cfcef42f-0d4e-4104-c1b2-1e9aae80d3e3"
      },
      "source": [
        "# Question 4(b):The average rating for each branch.\n",
        "# YOUR CODE GOES HERE\n",
        "\n",
        "data = df.groupby(['Branch'], as_index=False).agg({'Rating': np.mean})\n",
        "data\n",
        "\n",
        "sns.barplot(data = data, x = \"Branch\", y = \"Rating\")"
      ],
      "execution_count": null,
      "outputs": [
        {
          "output_type": "execute_result",
          "data": {
            "text/plain": [
              "<matplotlib.axes._subplots.AxesSubplot at 0x7fa4cb597d90>"
            ]
          },
          "metadata": {},
          "execution_count": 53
        },
        {
          "output_type": "display_data",
          "data": {
            "image/png": "[encoded data removed]",
            "text/plain": [
              "<Figure size 432x288 with 1 Axes>"
            ]
          },
          "metadata": {
            "needs_background": "light"
          }
        }
      ]
    },
    {
      "cell_type": "markdown",
      "metadata": {
        "id": "XnuG3EZT5PRg"
      },
      "source": [
        "## 5. Summary of findings"
      ]
    },
    {
      "cell_type": "markdown",
      "metadata": {
        "id": "KNGGO3fOo2QX"
      },
      "source": [
        "What observations did you make from your analysis?\n",
        "\n",
        "Food and beverages do not have the highest unit price but they make the most profit for the supermarkets\n",
        "\n",
        "Branch C has the best ratings and customers spend the most in the branch as compared to the others"
      ]
    },
    {
      "cell_type": "markdown",
      "metadata": {
        "id": "JQcKNPju5Xid"
      },
      "source": [
        "## 6. Recommendations"
      ]
    },
    {
      "cell_type": "markdown",
      "metadata": {
        "id": "aSzjdSJb-fwG"
      },
      "source": [
        "What recommendations can you make from your analysis/observations?\n",
        "\n",
        "1. Add more food and beverage items across the branches as this is the item most customers buy\n",
        "2. Run a sale around health and beauty products to improve sales/product awareness\n"
      ]
    }
  ]
}