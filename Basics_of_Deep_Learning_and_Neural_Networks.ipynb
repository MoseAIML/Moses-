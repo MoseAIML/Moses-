{
  "nbformat": 4,
  "nbformat_minor": 0,
  "metadata": {
    "colab": {
      "provenance": [],
      "collapsed_sections": [
        "O5GrwdSxUyZf",
        "5YbJBdTGUyZg",
        "UQyhSx4EUyZh",
        "VG9zJNdjUyZh",
        "Yt8IcGWaUyZi",
        "udmliAiqNBVB"
      ],
      "include_colab_link": true
    },
    "kernelspec": {
      "name": "python3",
      "display_name": "Python 3"
    }
  },
  "cells": [
    {
      "cell_type": "markdown",
      "metadata": {
        "id": "view-in-github",
        "colab_type": "text"
      },
      "source": [
        "<a href=\"https://colab.research.google.com/github/MoseAIML/Moses-/blob/main/Basics_of_Deep_Learning_and_Neural_Networks.ipynb\" target=\"_parent\"><img src=\"https://colab.research.google.com/assets/colab-badge.svg\" alt=\"Open In Colab\"/></a>"
      ]
    },
    {
      "cell_type": "markdown",
      "metadata": {
        "id": "z94lCkQVgDyA"
      },
      "source": [
        "# AfterWork Data Science: Basics of Deep Learning and Neural Networks "
      ]
    },
    {
      "cell_type": "markdown",
      "metadata": {
        "id": "wfBVJzyBUyZd"
      },
      "source": [
        "## <font color='#2F4F4F'>1. Defining the Question</font>"
      ]
    },
    {
      "cell_type": "markdown",
      "metadata": {
        "id": "O5GrwdSxUyZf"
      },
      "source": [
        "### a) Specifying the Data Analysis Question\n",
        "\n",
        "Identify the factors that could predict whether an employee will get promoted or not."
      ]
    },
    {
      "cell_type": "markdown",
      "metadata": {
        "id": "5YbJBdTGUyZg"
      },
      "source": [
        "### b) Defining the Metric for Success\n",
        "\n",
        "This project will be considered a success when:\n",
        "* we are able to confidently determine which employees are likely to get promoted, and\n",
        "* we get at least one model with an accuracy score of around 80%."
      ]
    },
    {
      "cell_type": "markdown",
      "metadata": {
        "id": "UQyhSx4EUyZh"
      },
      "source": [
        "### c) Understanding the Context \n",
        "You work for Alphabet Inc. which is a large Multinational Corporation. The company has 9 broad verticals across the organisation. One of the problems the company is facing is around identifying the right people for promotion (only for the manager position and below) and prepare them in time\n",
        "\n",
        "Currently the HR process, they are following is:\n",
        "- They first identify a set of employees based on recommendations/ past performance.\n",
        "- Selected employees go through the separate training and evaluation program for each vertical.\n",
        "- These programs are based on the required skill of each vertical. At the end of the program, based on various factors such as training performance, KPI completion (only employees with KPIs completed greater than 60% are considered) etc., the employee gets a promotion.\n",
        "\n",
        "For the above-mentioned process, the final promotions are only announced after the evaluation and this leads to delay in transition to their new roles. Hence, the company needs your help in identifying the eligible candidates at a particular checkpoint so that they can expedite the entire promotion cycle."
      ]
    },
    {
      "cell_type": "markdown",
      "metadata": {
        "id": "VG9zJNdjUyZh"
      },
      "source": [
        "### d) Recording the Experimental Design\n",
        "\n",
        "1. Load dataset and libraries.\n",
        "2. Clean dataset.\n",
        "3. Carry out univariate and bivariate analysis.\n",
        "4. Determine which employees are likely to be promoted based on the results of the analysis.\n",
        "5. Carry out data modeling.\n",
        "6. Summarize findings.\n",
        "7. Provide recommendations.\n",
        "8. Challenge the solution."
      ]
    },
    {
      "cell_type": "markdown",
      "metadata": {
        "id": "Yt8IcGWaUyZi"
      },
      "source": [
        "### e) Data Relevance\n",
        "\n",
        "The data provided is sufficient and appropriate for answering the research question."
      ]
    },
    {
      "cell_type": "markdown",
      "metadata": {
        "id": "yEZs-wccUyZj"
      },
      "source": [
        "## <font color='#2F4F4F'>2. Data Cleaning & Preparation</font>"
      ]
    },
    {
      "cell_type": "code",
      "metadata": {
        "id": "EuzipbdrUyZk"
      },
      "source": [
        "import pandas as pd\n",
        "import matplotlib.pyplot as plt\n",
        "import numpy as np\n",
        "import seaborn as sns\n",
        "\n",
        "pd.set_option('display.max.columns', None)\n",
        "pd.set_option('display.max_colwidth', None)\n",
        "%matplotlib inline"
      ],
      "execution_count": 1,
      "outputs": []
    },
    {
      "cell_type": "code",
      "metadata": {
        "id": "ZEYxhOzhUyZq",
        "colab": {
          "base_uri": "https://localhost:8080/",
          "height": 339
        },
        "outputId": "2b68f100-30f2-4d73-f2f3-50879b2fa971"
      },
      "source": [
        "hr = pd.read_csv('https://bit.ly/2ODZvLCHRDataset')\n",
        "hr.head()"
      ],
      "execution_count": 2,
      "outputs": [
        {
          "output_type": "execute_result",
          "data": {
            "text/plain": [
              "   employee_id         department     region         education gender  \\\n",
              "0        65438  Sales & Marketing   region_7  Master's & above      f   \n",
              "1        65141         Operations  region_22        Bachelor's      m   \n",
              "2         7513  Sales & Marketing  region_19        Bachelor's      m   \n",
              "3         2542  Sales & Marketing  region_23        Bachelor's      m   \n",
              "4        48945         Technology  region_26        Bachelor's      m   \n",
              "\n",
              "  recruitment_channel  no_of_trainings  age  previous_year_rating  \\\n",
              "0            sourcing                1   35                   5.0   \n",
              "1               other                1   30                   5.0   \n",
              "2            sourcing                1   34                   3.0   \n",
              "3               other                2   39                   1.0   \n",
              "4               other                1   45                   3.0   \n",
              "\n",
              "   length_of_service  KPIs_met >80%  awards_won?  avg_training_score  \\\n",
              "0                  8              1            0                  49   \n",
              "1                  4              0            0                  60   \n",
              "2                  7              0            0                  50   \n",
              "3                 10              0            0                  50   \n",
              "4                  2              0            0                  73   \n",
              "\n",
              "   is_promoted  \n",
              "0            0  \n",
              "1            0  \n",
              "2            0  \n",
              "3            0  \n",
              "4            0  "
            ],
            "text/html": [
              "\n",
              "  <div id=\"df-23d476f1-59f9-410c-941f-13bb001ca585\">\n",
              "    <div class=\"colab-df-container\">\n",
              "      <div>\n",
              "<style scoped>\n",
              "    .dataframe tbody tr th:only-of-type {\n",
              "        vertical-align: middle;\n",
              "    }\n",
              "\n",
              "    .dataframe tbody tr th {\n",
              "        vertical-align: top;\n",
              "    }\n",
              "\n",
              "    .dataframe thead th {\n",
              "        text-align: right;\n",
              "    }\n",
              "</style>\n",
              "<table border=\"1\" class=\"dataframe\">\n",
              "  <thead>\n",
              "    <tr style=\"text-align: right;\">\n",
              "      <th></th>\n",
              "      <th>employee_id</th>\n",
              "      <th>department</th>\n",
              "      <th>region</th>\n",
              "      <th>education</th>\n",
              "      <th>gender</th>\n",
              "      <th>recruitment_channel</th>\n",
              "      <th>no_of_trainings</th>\n",
              "      <th>age</th>\n",
              "      <th>previous_year_rating</th>\n",
              "      <th>length_of_service</th>\n",
              "      <th>KPIs_met &gt;80%</th>\n",
              "      <th>awards_won?</th>\n",
              "      <th>avg_training_score</th>\n",
              "      <th>is_promoted</th>\n",
              "    </tr>\n",
              "  </thead>\n",
              "  <tbody>\n",
              "    <tr>\n",
              "      <th>0</th>\n",
              "      <td>65438</td>\n",
              "      <td>Sales &amp; Marketing</td>\n",
              "      <td>region_7</td>\n",
              "      <td>Master's &amp; above</td>\n",
              "      <td>f</td>\n",
              "      <td>sourcing</td>\n",
              "      <td>1</td>\n",
              "      <td>35</td>\n",
              "      <td>5.0</td>\n",
              "      <td>8</td>\n",
              "      <td>1</td>\n",
              "      <td>0</td>\n",
              "      <td>49</td>\n",
              "      <td>0</td>\n",
              "    </tr>\n",
              "    <tr>\n",
              "      <th>1</th>\n",
              "      <td>65141</td>\n",
              "      <td>Operations</td>\n",
              "      <td>region_22</td>\n",
              "      <td>Bachelor's</td>\n",
              "      <td>m</td>\n",
              "      <td>other</td>\n",
              "      <td>1</td>\n",
              "      <td>30</td>\n",
              "      <td>5.0</td>\n",
              "      <td>4</td>\n",
              "      <td>0</td>\n",
              "      <td>0</td>\n",
              "      <td>60</td>\n",
              "      <td>0</td>\n",
              "    </tr>\n",
              "    <tr>\n",
              "      <th>2</th>\n",
              "      <td>7513</td>\n",
              "      <td>Sales &amp; Marketing</td>\n",
              "      <td>region_19</td>\n",
              "      <td>Bachelor's</td>\n",
              "      <td>m</td>\n",
              "      <td>sourcing</td>\n",
              "      <td>1</td>\n",
              "      <td>34</td>\n",
              "      <td>3.0</td>\n",
              "      <td>7</td>\n",
              "      <td>0</td>\n",
              "      <td>0</td>\n",
              "      <td>50</td>\n",
              "      <td>0</td>\n",
              "    </tr>\n",
              "    <tr>\n",
              "      <th>3</th>\n",
              "      <td>2542</td>\n",
              "      <td>Sales &amp; Marketing</td>\n",
              "      <td>region_23</td>\n",
              "      <td>Bachelor's</td>\n",
              "      <td>m</td>\n",
              "      <td>other</td>\n",
              "      <td>2</td>\n",
              "      <td>39</td>\n",
              "      <td>1.0</td>\n",
              "      <td>10</td>\n",
              "      <td>0</td>\n",
              "      <td>0</td>\n",
              "      <td>50</td>\n",
              "      <td>0</td>\n",
              "    </tr>\n",
              "    <tr>\n",
              "      <th>4</th>\n",
              "      <td>48945</td>\n",
              "      <td>Technology</td>\n",
              "      <td>region_26</td>\n",
              "      <td>Bachelor's</td>\n",
              "      <td>m</td>\n",
              "      <td>other</td>\n",
              "      <td>1</td>\n",
              "      <td>45</td>\n",
              "      <td>3.0</td>\n",
              "      <td>2</td>\n",
              "      <td>0</td>\n",
              "      <td>0</td>\n",
              "      <td>73</td>\n",
              "      <td>0</td>\n",
              "    </tr>\n",
              "  </tbody>\n",
              "</table>\n",
              "</div>\n",
              "      <button class=\"colab-df-convert\" onclick=\"convertToInteractive('df-23d476f1-59f9-410c-941f-13bb001ca585')\"\n",
              "              title=\"Convert this dataframe to an interactive table.\"\n",
              "              style=\"display:none;\">\n",
              "        \n",
              "  <svg xmlns=\"http://www.w3.org/2000/svg\" height=\"24px\"viewBox=\"0 0 24 24\"\n",
              "       width=\"24px\">\n",
              "    <path d=\"M0 0h24v24H0V0z\" fill=\"none\"/>\n",
              "    <path d=\"M18.56 5.44l.94 2.06.94-2.06 2.06-.94-2.06-.94-.94-2.06-.94 2.06-2.06.94zm-11 1L8.5 8.5l.94-2.06 2.06-.94-2.06-.94L8.5 2.5l-.94 2.06-2.06.94zm10 10l.94 2.06.94-2.06 2.06-.94-2.06-.94-.94-2.06-.94 2.06-2.06.94z\"/><path d=\"M17.41 7.96l-1.37-1.37c-.4-.4-.92-.59-1.43-.59-.52 0-1.04.2-1.43.59L10.3 9.45l-7.72 7.72c-.78.78-.78 2.05 0 2.83L4 21.41c.39.39.9.59 1.41.59.51 0 1.02-.2 1.41-.59l7.78-7.78 2.81-2.81c.8-.78.8-2.07 0-2.86zM5.41 20L4 18.59l7.72-7.72 1.47 1.35L5.41 20z\"/>\n",
              "  </svg>\n",
              "      </button>\n",
              "      \n",
              "  <style>\n",
              "    .colab-df-container {\n",
              "      display:flex;\n",
              "      flex-wrap:wrap;\n",
              "      gap: 12px;\n",
              "    }\n",
              "\n",
              "    .colab-df-convert {\n",
              "      background-color: #E8F0FE;\n",
              "      border: none;\n",
              "      border-radius: 50%;\n",
              "      cursor: pointer;\n",
              "      display: none;\n",
              "      fill: #1967D2;\n",
              "      height: 32px;\n",
              "      padding: 0 0 0 0;\n",
              "      width: 32px;\n",
              "    }\n",
              "\n",
              "    .colab-df-convert:hover {\n",
              "      background-color: #E2EBFA;\n",
              "      box-shadow: 0px 1px 2px rgba(60, 64, 67, 0.3), 0px 1px 3px 1px rgba(60, 64, 67, 0.15);\n",
              "      fill: #174EA6;\n",
              "    }\n",
              "\n",
              "    [theme=dark] .colab-df-convert {\n",
              "      background-color: #3B4455;\n",
              "      fill: #D2E3FC;\n",
              "    }\n",
              "\n",
              "    [theme=dark] .colab-df-convert:hover {\n",
              "      background-color: #434B5C;\n",
              "      box-shadow: 0px 1px 3px 1px rgba(0, 0, 0, 0.15);\n",
              "      filter: drop-shadow(0px 1px 2px rgba(0, 0, 0, 0.3));\n",
              "      fill: #FFFFFF;\n",
              "    }\n",
              "  </style>\n",
              "\n",
              "      <script>\n",
              "        const buttonEl =\n",
              "          document.querySelector('#df-23d476f1-59f9-410c-941f-13bb001ca585 button.colab-df-convert');\n",
              "        buttonEl.style.display =\n",
              "          google.colab.kernel.accessAllowed ? 'block' : 'none';\n",
              "\n",
              "        async function convertToInteractive(key) {\n",
              "          const element = document.querySelector('#df-23d476f1-59f9-410c-941f-13bb001ca585');\n",
              "          const dataTable =\n",
              "            await google.colab.kernel.invokeFunction('convertToInteractive',\n",
              "                                                     [key], {});\n",
              "          if (!dataTable) return;\n",
              "\n",
              "          const docLinkHtml = 'Like what you see? Visit the ' +\n",
              "            '<a target=\"_blank\" href=https://colab.research.google.com/notebooks/data_table.ipynb>data table notebook</a>'\n",
              "            + ' to learn more about interactive tables.';\n",
              "          element.innerHTML = '';\n",
              "          dataTable['output_type'] = 'display_data';\n",
              "          await google.colab.output.renderOutput(dataTable, element);\n",
              "          const docLink = document.createElement('div');\n",
              "          docLink.innerHTML = docLinkHtml;\n",
              "          element.appendChild(docLink);\n",
              "        }\n",
              "      </script>\n",
              "    </div>\n",
              "  </div>\n",
              "  "
            ]
          },
          "metadata": {},
          "execution_count": 2
        }
      ]
    },
    {
      "cell_type": "code",
      "metadata": {
        "id": "Fz5a_o3BUyZv",
        "colab": {
          "base_uri": "https://localhost:8080/",
          "height": 488
        },
        "outputId": "3d07bcb5-1797-426b-a0c7-4552b8d36288"
      },
      "source": [
        "glossary = pd.read_csv('https://bit.ly/2Wz3sWcGlossary ', header = None)\n",
        "glossary"
      ],
      "execution_count": 3,
      "outputs": [
        {
          "output_type": "execute_result",
          "data": {
            "text/plain": [
              "                                                                                                         0\n",
              "0                                                                     employee_id - Unique ID for employee\n",
              "1                                                                      department - Department of employee\n",
              "2                                                                region - Region of employment (unordered)\n",
              "3                                                                              education - Education Level\n",
              "4                                                                              gender - Gender of Employee\n",
              "5                                                recruitment_channel - Channel of recruitment for employee\n",
              "6   nooftrainings - no of other trainings completed in previous year on soft skills, technical skills etc.\n",
              "7                                                                                    age - Age of Employee\n",
              "8                                               previousyearrating - Employee Rating for the previous year\n",
              "9                                                             lengthofservice - Length of service in years\n",
              "10                       KPIs_met >80% - if Percent of KPIs(Key performance Indicators) >80% then 1 else 0\n",
              "11                                          awards_won? - if awards won during previous year then 1 else 0\n",
              "12                                        avgtrainingscore - Average score in current training evaluations\n",
              "13                                                          is_promoted (Target) Recommended for promotion"
            ],
            "text/html": [
              "\n",
              "  <div id=\"df-55644940-6434-4c81-a399-bdebee1097a2\">\n",
              "    <div class=\"colab-df-container\">\n",
              "      <div>\n",
              "<style scoped>\n",
              "    .dataframe tbody tr th:only-of-type {\n",
              "        vertical-align: middle;\n",
              "    }\n",
              "\n",
              "    .dataframe tbody tr th {\n",
              "        vertical-align: top;\n",
              "    }\n",
              "\n",
              "    .dataframe thead th {\n",
              "        text-align: right;\n",
              "    }\n",
              "</style>\n",
              "<table border=\"1\" class=\"dataframe\">\n",
              "  <thead>\n",
              "    <tr style=\"text-align: right;\">\n",
              "      <th></th>\n",
              "      <th>0</th>\n",
              "    </tr>\n",
              "  </thead>\n",
              "  <tbody>\n",
              "    <tr>\n",
              "      <th>0</th>\n",
              "      <td>employee_id - Unique ID for employee</td>\n",
              "    </tr>\n",
              "    <tr>\n",
              "      <th>1</th>\n",
              "      <td>department - Department of employee</td>\n",
              "    </tr>\n",
              "    <tr>\n",
              "      <th>2</th>\n",
              "      <td>region - Region of employment (unordered)</td>\n",
              "    </tr>\n",
              "    <tr>\n",
              "      <th>3</th>\n",
              "      <td>education - Education Level</td>\n",
              "    </tr>\n",
              "    <tr>\n",
              "      <th>4</th>\n",
              "      <td>gender - Gender of Employee</td>\n",
              "    </tr>\n",
              "    <tr>\n",
              "      <th>5</th>\n",
              "      <td>recruitment_channel - Channel of recruitment for employee</td>\n",
              "    </tr>\n",
              "    <tr>\n",
              "      <th>6</th>\n",
              "      <td>nooftrainings - no of other trainings completed in previous year on soft skills, technical skills etc.</td>\n",
              "    </tr>\n",
              "    <tr>\n",
              "      <th>7</th>\n",
              "      <td>age - Age of Employee</td>\n",
              "    </tr>\n",
              "    <tr>\n",
              "      <th>8</th>\n",
              "      <td>previousyearrating - Employee Rating for the previous year</td>\n",
              "    </tr>\n",
              "    <tr>\n",
              "      <th>9</th>\n",
              "      <td>lengthofservice - Length of service in years</td>\n",
              "    </tr>\n",
              "    <tr>\n",
              "      <th>10</th>\n",
              "      <td>KPIs_met &gt;80% - if Percent of KPIs(Key performance Indicators) &gt;80% then 1 else 0</td>\n",
              "    </tr>\n",
              "    <tr>\n",
              "      <th>11</th>\n",
              "      <td>awards_won? - if awards won during previous year then 1 else 0</td>\n",
              "    </tr>\n",
              "    <tr>\n",
              "      <th>12</th>\n",
              "      <td>avgtrainingscore - Average score in current training evaluations</td>\n",
              "    </tr>\n",
              "    <tr>\n",
              "      <th>13</th>\n",
              "      <td>is_promoted (Target) Recommended for promotion</td>\n",
              "    </tr>\n",
              "  </tbody>\n",
              "</table>\n",
              "</div>\n",
              "      <button class=\"colab-df-convert\" onclick=\"convertToInteractive('df-55644940-6434-4c81-a399-bdebee1097a2')\"\n",
              "              title=\"Convert this dataframe to an interactive table.\"\n",
              "              style=\"display:none;\">\n",
              "        \n",
              "  <svg xmlns=\"http://www.w3.org/2000/svg\" height=\"24px\"viewBox=\"0 0 24 24\"\n",
              "       width=\"24px\">\n",
              "    <path d=\"M0 0h24v24H0V0z\" fill=\"none\"/>\n",
              "    <path d=\"M18.56 5.44l.94 2.06.94-2.06 2.06-.94-2.06-.94-.94-2.06-.94 2.06-2.06.94zm-11 1L8.5 8.5l.94-2.06 2.06-.94-2.06-.94L8.5 2.5l-.94 2.06-2.06.94zm10 10l.94 2.06.94-2.06 2.06-.94-2.06-.94-.94-2.06-.94 2.06-2.06.94z\"/><path d=\"M17.41 7.96l-1.37-1.37c-.4-.4-.92-.59-1.43-.59-.52 0-1.04.2-1.43.59L10.3 9.45l-7.72 7.72c-.78.78-.78 2.05 0 2.83L4 21.41c.39.39.9.59 1.41.59.51 0 1.02-.2 1.41-.59l7.78-7.78 2.81-2.81c.8-.78.8-2.07 0-2.86zM5.41 20L4 18.59l7.72-7.72 1.47 1.35L5.41 20z\"/>\n",
              "  </svg>\n",
              "      </button>\n",
              "      \n",
              "  <style>\n",
              "    .colab-df-container {\n",
              "      display:flex;\n",
              "      flex-wrap:wrap;\n",
              "      gap: 12px;\n",
              "    }\n",
              "\n",
              "    .colab-df-convert {\n",
              "      background-color: #E8F0FE;\n",
              "      border: none;\n",
              "      border-radius: 50%;\n",
              "      cursor: pointer;\n",
              "      display: none;\n",
              "      fill: #1967D2;\n",
              "      height: 32px;\n",
              "      padding: 0 0 0 0;\n",
              "      width: 32px;\n",
              "    }\n",
              "\n",
              "    .colab-df-convert:hover {\n",
              "      background-color: #E2EBFA;\n",
              "      box-shadow: 0px 1px 2px rgba(60, 64, 67, 0.3), 0px 1px 3px 1px rgba(60, 64, 67, 0.15);\n",
              "      fill: #174EA6;\n",
              "    }\n",
              "\n",
              "    [theme=dark] .colab-df-convert {\n",
              "      background-color: #3B4455;\n",
              "      fill: #D2E3FC;\n",
              "    }\n",
              "\n",
              "    [theme=dark] .colab-df-convert:hover {\n",
              "      background-color: #434B5C;\n",
              "      box-shadow: 0px 1px 3px 1px rgba(0, 0, 0, 0.15);\n",
              "      filter: drop-shadow(0px 1px 2px rgba(0, 0, 0, 0.3));\n",
              "      fill: #FFFFFF;\n",
              "    }\n",
              "  </style>\n",
              "\n",
              "      <script>\n",
              "        const buttonEl =\n",
              "          document.querySelector('#df-55644940-6434-4c81-a399-bdebee1097a2 button.colab-df-convert');\n",
              "        buttonEl.style.display =\n",
              "          google.colab.kernel.accessAllowed ? 'block' : 'none';\n",
              "\n",
              "        async function convertToInteractive(key) {\n",
              "          const element = document.querySelector('#df-55644940-6434-4c81-a399-bdebee1097a2');\n",
              "          const dataTable =\n",
              "            await google.colab.kernel.invokeFunction('convertToInteractive',\n",
              "                                                     [key], {});\n",
              "          if (!dataTable) return;\n",
              "\n",
              "          const docLinkHtml = 'Like what you see? Visit the ' +\n",
              "            '<a target=\"_blank\" href=https://colab.research.google.com/notebooks/data_table.ipynb>data table notebook</a>'\n",
              "            + ' to learn more about interactive tables.';\n",
              "          element.innerHTML = '';\n",
              "          dataTable['output_type'] = 'display_data';\n",
              "          await google.colab.output.renderOutput(dataTable, element);\n",
              "          const docLink = document.createElement('div');\n",
              "          docLink.innerHTML = docLinkHtml;\n",
              "          element.appendChild(docLink);\n",
              "        }\n",
              "      </script>\n",
              "    </div>\n",
              "  </div>\n",
              "  "
            ]
          },
          "metadata": {},
          "execution_count": 3
        }
      ]
    },
    {
      "cell_type": "code",
      "metadata": {
        "id": "kh_Y0HtRUyZ1"
      },
      "source": [
        "# dropping 'employeeid' variable\n",
        "hr = hr.drop(columns = ['employee_id'])"
      ],
      "execution_count": 4,
      "outputs": []
    },
    {
      "cell_type": "code",
      "metadata": {
        "id": "6jsDNwZNUyZ7",
        "colab": {
          "base_uri": "https://localhost:8080/"
        },
        "outputId": "b569eee8-db56-46e3-ed26-71d77721d33e"
      },
      "source": [
        "# check dataset shape\n",
        "hr.shape"
      ],
      "execution_count": 5,
      "outputs": [
        {
          "output_type": "execute_result",
          "data": {
            "text/plain": [
              "(54808, 13)"
            ]
          },
          "metadata": {},
          "execution_count": 5
        }
      ]
    },
    {
      "cell_type": "code",
      "metadata": {
        "id": "NLtGO2KzUyZ_",
        "colab": {
          "base_uri": "https://localhost:8080/"
        },
        "outputId": "90a442ff-2710-4b4a-b862-c8077f1d66e3"
      },
      "source": [
        "# drop duplicates, if any\n",
        "hr.drop_duplicates(inplace = True)\n",
        "hr.shape"
      ],
      "execution_count": 6,
      "outputs": [
        {
          "output_type": "execute_result",
          "data": {
            "text/plain": [
              "(54690, 13)"
            ]
          },
          "metadata": {},
          "execution_count": 6
        }
      ]
    },
    {
      "cell_type": "code",
      "metadata": {
        "id": "z0QnM_8IUyaG",
        "colab": {
          "base_uri": "https://localhost:8080/"
        },
        "outputId": "4d88f180-5db5-4726-e78c-f0ee54375d22"
      },
      "source": [
        "# check for missing values\n",
        "hr.isna().sum()"
      ],
      "execution_count": 7,
      "outputs": [
        {
          "output_type": "execute_result",
          "data": {
            "text/plain": [
              "department                 0\n",
              "region                     0\n",
              "education               2398\n",
              "gender                     0\n",
              "recruitment_channel        0\n",
              "no_of_trainings            0\n",
              "age                        0\n",
              "previous_year_rating    4062\n",
              "length_of_service          0\n",
              "KPIs_met >80%              0\n",
              "awards_won?                0\n",
              "avg_training_score         0\n",
              "is_promoted                0\n",
              "dtype: int64"
            ]
          },
          "metadata": {},
          "execution_count": 7
        }
      ]
    },
    {
      "cell_type": "code",
      "metadata": {
        "id": "BT5KqIs-UyaL",
        "colab": {
          "base_uri": "https://localhost:8080/"
        },
        "outputId": "febbfc51-2b04-4f64-fa53-da5162192a4a"
      },
      "source": [
        "# dropping records with null values\n",
        "hr.dropna(inplace = True, axis = 0)\n",
        "hr.isna().sum()"
      ],
      "execution_count": 8,
      "outputs": [
        {
          "output_type": "execute_result",
          "data": {
            "text/plain": [
              "department              0\n",
              "region                  0\n",
              "education               0\n",
              "gender                  0\n",
              "recruitment_channel     0\n",
              "no_of_trainings         0\n",
              "age                     0\n",
              "previous_year_rating    0\n",
              "length_of_service       0\n",
              "KPIs_met >80%           0\n",
              "awards_won?             0\n",
              "avg_training_score      0\n",
              "is_promoted             0\n",
              "dtype: int64"
            ]
          },
          "metadata": {},
          "execution_count": 8
        }
      ]
    },
    {
      "cell_type": "code",
      "metadata": {
        "id": "MS3vI3lpUyaP",
        "colab": {
          "base_uri": "https://localhost:8080/"
        },
        "outputId": "ad6f4053-80bd-497e-bc16-45d16e4775df"
      },
      "source": [
        "# checking the data types\n",
        "hr.dtypes"
      ],
      "execution_count": 9,
      "outputs": [
        {
          "output_type": "execute_result",
          "data": {
            "text/plain": [
              "department               object\n",
              "region                   object\n",
              "education                object\n",
              "gender                   object\n",
              "recruitment_channel      object\n",
              "no_of_trainings           int64\n",
              "age                       int64\n",
              "previous_year_rating    float64\n",
              "length_of_service         int64\n",
              "KPIs_met >80%             int64\n",
              "awards_won?               int64\n",
              "avg_training_score        int64\n",
              "is_promoted               int64\n",
              "dtype: object"
            ]
          },
          "metadata": {},
          "execution_count": 9
        }
      ]
    },
    {
      "cell_type": "code",
      "metadata": {
        "id": "nZ5u1o6fUyaT",
        "colab": {
          "base_uri": "https://localhost:8080/"
        },
        "outputId": "5717849b-8013-43c7-cde6-9c150b481ba2"
      },
      "source": [
        "# getting the unique values of each variable\n",
        "cols = hr.columns.to_list()\n",
        "\n",
        "for col in cols:\n",
        "    print(\"Variable:\", col)\n",
        "    print(\"Number of unique values:\", hr[col].nunique())\n",
        "    print(hr[col].unique())\n",
        "    print()"
      ],
      "execution_count": 10,
      "outputs": [
        {
          "output_type": "stream",
          "name": "stdout",
          "text": [
            "Variable: department\n",
            "Number of unique values: 9\n",
            "['Sales & Marketing' 'Operations' 'Technology' 'Analytics' 'R&D'\n",
            " 'Procurement' 'Finance' 'HR' 'Legal']\n",
            "\n",
            "Variable: region\n",
            "Number of unique values: 34\n",
            "['region_7' 'region_22' 'region_19' 'region_23' 'region_26' 'region_2'\n",
            " 'region_20' 'region_34' 'region_1' 'region_4' 'region_29' 'region_31'\n",
            " 'region_15' 'region_14' 'region_11' 'region_5' 'region_28' 'region_17'\n",
            " 'region_13' 'region_16' 'region_25' 'region_10' 'region_27' 'region_30'\n",
            " 'region_12' 'region_21' 'region_32' 'region_6' 'region_33' 'region_8'\n",
            " 'region_24' 'region_3' 'region_9' 'region_18']\n",
            "\n",
            "Variable: education\n",
            "Number of unique values: 3\n",
            "[\"Master's & above\" \"Bachelor's\" 'Below Secondary']\n",
            "\n",
            "Variable: gender\n",
            "Number of unique values: 2\n",
            "['f' 'm']\n",
            "\n",
            "Variable: recruitment_channel\n",
            "Number of unique values: 3\n",
            "['sourcing' 'other' 'referred']\n",
            "\n",
            "Variable: no_of_trainings\n",
            "Number of unique values: 10\n",
            "[ 1  2  3  4  7  5  6 10  8  9]\n",
            "\n",
            "Variable: age\n",
            "Number of unique values: 41\n",
            "[35 30 34 39 45 31 33 28 32 49 37 38 27 29 26 57 40 42 23 59 44 50 56 20\n",
            " 25 41 47 36 46 60 43 54 24 22 58 48 55 51 52 53 21]\n",
            "\n",
            "Variable: previous_year_rating\n",
            "Number of unique values: 5\n",
            "[5. 3. 1. 4. 2.]\n",
            "\n",
            "Variable: length_of_service\n",
            "Number of unique values: 35\n",
            "[ 8  4  7 10  2  5  6  3 16  9 26 12 11 17 14 13 19 15 23 20 18 22 25 28\n",
            "  1 24 31 21 29 30 34 27 33 32 37]\n",
            "\n",
            "Variable: KPIs_met >80%\n",
            "Number of unique values: 2\n",
            "[1 0]\n",
            "\n",
            "Variable: awards_won?\n",
            "Number of unique values: 2\n",
            "[0 1]\n",
            "\n",
            "Variable: avg_training_score\n",
            "Number of unique values: 61\n",
            "[49 60 50 73 85 59 63 83 54 80 84 77 51 46 75 68 79 72 61 58 87 47 57 52\n",
            " 88 71 48 65 62 53 78 44 91 82 69 74 86 90 92 67 89 56 76 81 70 45 55 39\n",
            " 94 93 64 66 95 42 96 40 99 43 97 41 98]\n",
            "\n",
            "Variable: is_promoted\n",
            "Number of unique values: 2\n",
            "[0 1]\n",
            "\n"
          ]
        }
      ]
    },
    {
      "cell_type": "markdown",
      "metadata": {
        "id": "y7HKrxehUyaZ"
      },
      "source": [
        "We should strip the values of the \"region\" variable so we are left with only the region numbers."
      ]
    },
    {
      "cell_type": "code",
      "metadata": {
        "id": "6lZqHk0MUyaa",
        "colab": {
          "base_uri": "https://localhost:8080/",
          "height": 339
        },
        "outputId": "9792af54-0448-4422-8910-9d4378195afb"
      },
      "source": [
        "# striping \"region_\" from the 'region' variable\n",
        "hr['region'] = hr['region'].str.strip('region_')\n",
        "hr.head()"
      ],
      "execution_count": 11,
      "outputs": [
        {
          "output_type": "execute_result",
          "data": {
            "text/plain": [
              "          department region         education gender recruitment_channel  \\\n",
              "0  Sales & Marketing      7  Master's & above      f            sourcing   \n",
              "1         Operations     22        Bachelor's      m               other   \n",
              "2  Sales & Marketing     19        Bachelor's      m            sourcing   \n",
              "3  Sales & Marketing     23        Bachelor's      m               other   \n",
              "4         Technology     26        Bachelor's      m               other   \n",
              "\n",
              "   no_of_trainings  age  previous_year_rating  length_of_service  \\\n",
              "0                1   35                   5.0                  8   \n",
              "1                1   30                   5.0                  4   \n",
              "2                1   34                   3.0                  7   \n",
              "3                2   39                   1.0                 10   \n",
              "4                1   45                   3.0                  2   \n",
              "\n",
              "   KPIs_met >80%  awards_won?  avg_training_score  is_promoted  \n",
              "0              1            0                  49            0  \n",
              "1              0            0                  60            0  \n",
              "2              0            0                  50            0  \n",
              "3              0            0                  50            0  \n",
              "4              0            0                  73            0  "
            ],
            "text/html": [
              "\n",
              "  <div id=\"df-7fc4f28d-6df3-4846-afa8-9926e9dc6d0a\">\n",
              "    <div class=\"colab-df-container\">\n",
              "      <div>\n",
              "<style scoped>\n",
              "    .dataframe tbody tr th:only-of-type {\n",
              "        vertical-align: middle;\n",
              "    }\n",
              "\n",
              "    .dataframe tbody tr th {\n",
              "        vertical-align: top;\n",
              "    }\n",
              "\n",
              "    .dataframe thead th {\n",
              "        text-align: right;\n",
              "    }\n",
              "</style>\n",
              "<table border=\"1\" class=\"dataframe\">\n",
              "  <thead>\n",
              "    <tr style=\"text-align: right;\">\n",
              "      <th></th>\n",
              "      <th>department</th>\n",
              "      <th>region</th>\n",
              "      <th>education</th>\n",
              "      <th>gender</th>\n",
              "      <th>recruitment_channel</th>\n",
              "      <th>no_of_trainings</th>\n",
              "      <th>age</th>\n",
              "      <th>previous_year_rating</th>\n",
              "      <th>length_of_service</th>\n",
              "      <th>KPIs_met &gt;80%</th>\n",
              "      <th>awards_won?</th>\n",
              "      <th>avg_training_score</th>\n",
              "      <th>is_promoted</th>\n",
              "    </tr>\n",
              "  </thead>\n",
              "  <tbody>\n",
              "    <tr>\n",
              "      <th>0</th>\n",
              "      <td>Sales &amp; Marketing</td>\n",
              "      <td>7</td>\n",
              "      <td>Master's &amp; above</td>\n",
              "      <td>f</td>\n",
              "      <td>sourcing</td>\n",
              "      <td>1</td>\n",
              "      <td>35</td>\n",
              "      <td>5.0</td>\n",
              "      <td>8</td>\n",
              "      <td>1</td>\n",
              "      <td>0</td>\n",
              "      <td>49</td>\n",
              "      <td>0</td>\n",
              "    </tr>\n",
              "    <tr>\n",
              "      <th>1</th>\n",
              "      <td>Operations</td>\n",
              "      <td>22</td>\n",
              "      <td>Bachelor's</td>\n",
              "      <td>m</td>\n",
              "      <td>other</td>\n",
              "      <td>1</td>\n",
              "      <td>30</td>\n",
              "      <td>5.0</td>\n",
              "      <td>4</td>\n",
              "      <td>0</td>\n",
              "      <td>0</td>\n",
              "      <td>60</td>\n",
              "      <td>0</td>\n",
              "    </tr>\n",
              "    <tr>\n",
              "      <th>2</th>\n",
              "      <td>Sales &amp; Marketing</td>\n",
              "      <td>19</td>\n",
              "      <td>Bachelor's</td>\n",
              "      <td>m</td>\n",
              "      <td>sourcing</td>\n",
              "      <td>1</td>\n",
              "      <td>34</td>\n",
              "      <td>3.0</td>\n",
              "      <td>7</td>\n",
              "      <td>0</td>\n",
              "      <td>0</td>\n",
              "      <td>50</td>\n",
              "      <td>0</td>\n",
              "    </tr>\n",
              "    <tr>\n",
              "      <th>3</th>\n",
              "      <td>Sales &amp; Marketing</td>\n",
              "      <td>23</td>\n",
              "      <td>Bachelor's</td>\n",
              "      <td>m</td>\n",
              "      <td>other</td>\n",
              "      <td>2</td>\n",
              "      <td>39</td>\n",
              "      <td>1.0</td>\n",
              "      <td>10</td>\n",
              "      <td>0</td>\n",
              "      <td>0</td>\n",
              "      <td>50</td>\n",
              "      <td>0</td>\n",
              "    </tr>\n",
              "    <tr>\n",
              "      <th>4</th>\n",
              "      <td>Technology</td>\n",
              "      <td>26</td>\n",
              "      <td>Bachelor's</td>\n",
              "      <td>m</td>\n",
              "      <td>other</td>\n",
              "      <td>1</td>\n",
              "      <td>45</td>\n",
              "      <td>3.0</td>\n",
              "      <td>2</td>\n",
              "      <td>0</td>\n",
              "      <td>0</td>\n",
              "      <td>73</td>\n",
              "      <td>0</td>\n",
              "    </tr>\n",
              "  </tbody>\n",
              "</table>\n",
              "</div>\n",
              "      <button class=\"colab-df-convert\" onclick=\"convertToInteractive('df-7fc4f28d-6df3-4846-afa8-9926e9dc6d0a')\"\n",
              "              title=\"Convert this dataframe to an interactive table.\"\n",
              "              style=\"display:none;\">\n",
              "        \n",
              "  <svg xmlns=\"http://www.w3.org/2000/svg\" height=\"24px\"viewBox=\"0 0 24 24\"\n",
              "       width=\"24px\">\n",
              "    <path d=\"M0 0h24v24H0V0z\" fill=\"none\"/>\n",
              "    <path d=\"M18.56 5.44l.94 2.06.94-2.06 2.06-.94-2.06-.94-.94-2.06-.94 2.06-2.06.94zm-11 1L8.5 8.5l.94-2.06 2.06-.94-2.06-.94L8.5 2.5l-.94 2.06-2.06.94zm10 10l.94 2.06.94-2.06 2.06-.94-2.06-.94-.94-2.06-.94 2.06-2.06.94z\"/><path d=\"M17.41 7.96l-1.37-1.37c-.4-.4-.92-.59-1.43-.59-.52 0-1.04.2-1.43.59L10.3 9.45l-7.72 7.72c-.78.78-.78 2.05 0 2.83L4 21.41c.39.39.9.59 1.41.59.51 0 1.02-.2 1.41-.59l7.78-7.78 2.81-2.81c.8-.78.8-2.07 0-2.86zM5.41 20L4 18.59l7.72-7.72 1.47 1.35L5.41 20z\"/>\n",
              "  </svg>\n",
              "      </button>\n",
              "      \n",
              "  <style>\n",
              "    .colab-df-container {\n",
              "      display:flex;\n",
              "      flex-wrap:wrap;\n",
              "      gap: 12px;\n",
              "    }\n",
              "\n",
              "    .colab-df-convert {\n",
              "      background-color: #E8F0FE;\n",
              "      border: none;\n",
              "      border-radius: 50%;\n",
              "      cursor: pointer;\n",
              "      display: none;\n",
              "      fill: #1967D2;\n",
              "      height: 32px;\n",
              "      padding: 0 0 0 0;\n",
              "      width: 32px;\n",
              "    }\n",
              "\n",
              "    .colab-df-convert:hover {\n",
              "      background-color: #E2EBFA;\n",
              "      box-shadow: 0px 1px 2px rgba(60, 64, 67, 0.3), 0px 1px 3px 1px rgba(60, 64, 67, 0.15);\n",
              "      fill: #174EA6;\n",
              "    }\n",
              "\n",
              "    [theme=dark] .colab-df-convert {\n",
              "      background-color: #3B4455;\n",
              "      fill: #D2E3FC;\n",
              "    }\n",
              "\n",
              "    [theme=dark] .colab-df-convert:hover {\n",
              "      background-color: #434B5C;\n",
              "      box-shadow: 0px 1px 3px 1px rgba(0, 0, 0, 0.15);\n",
              "      filter: drop-shadow(0px 1px 2px rgba(0, 0, 0, 0.3));\n",
              "      fill: #FFFFFF;\n",
              "    }\n",
              "  </style>\n",
              "\n",
              "      <script>\n",
              "        const buttonEl =\n",
              "          document.querySelector('#df-7fc4f28d-6df3-4846-afa8-9926e9dc6d0a button.colab-df-convert');\n",
              "        buttonEl.style.display =\n",
              "          google.colab.kernel.accessAllowed ? 'block' : 'none';\n",
              "\n",
              "        async function convertToInteractive(key) {\n",
              "          const element = document.querySelector('#df-7fc4f28d-6df3-4846-afa8-9926e9dc6d0a');\n",
              "          const dataTable =\n",
              "            await google.colab.kernel.invokeFunction('convertToInteractive',\n",
              "                                                     [key], {});\n",
              "          if (!dataTable) return;\n",
              "\n",
              "          const docLinkHtml = 'Like what you see? Visit the ' +\n",
              "            '<a target=\"_blank\" href=https://colab.research.google.com/notebooks/data_table.ipynb>data table notebook</a>'\n",
              "            + ' to learn more about interactive tables.';\n",
              "          element.innerHTML = '';\n",
              "          dataTable['output_type'] = 'display_data';\n",
              "          await google.colab.output.renderOutput(dataTable, element);\n",
              "          const docLink = document.createElement('div');\n",
              "          docLink.innerHTML = docLinkHtml;\n",
              "          element.appendChild(docLink);\n",
              "        }\n",
              "      </script>\n",
              "    </div>\n",
              "  </div>\n",
              "  "
            ]
          },
          "metadata": {},
          "execution_count": 11
        }
      ]
    },
    {
      "cell_type": "code",
      "metadata": {
        "id": "GdIOPf_pUyae",
        "colab": {
          "base_uri": "https://localhost:8080/",
          "height": 484
        },
        "outputId": "438ede9d-a5a6-4a18-902a-75476dd54c33"
      },
      "source": [
        "# checking for outliers\n",
        "plt.figure(figsize = (14, 8))\n",
        "hr.boxplot()\n",
        "plt.show()"
      ],
      "execution_count": 12,
      "outputs": [
        {
          "output_type": "display_data",
          "data": {
            "text/plain": [
              "<Figure size 1008x576 with 1 Axes>"
            ],
            "image/png": "[encoded data removed]"
          },
          "metadata": {
            "needs_background": "light"
          }
        }
      ]
    },
    {
      "cell_type": "markdown",
      "metadata": {
        "id": "e2izvGHSUyah"
      },
      "source": [
        "We see that several variables have outliers, especially 'no_of_trainings', 'age', and 'length_of_service'. This would be problematic when using some classification techniques such as logistic regression which assume that there are no outliers in the data. However, we will not remove these outliers."
      ]
    },
    {
      "cell_type": "markdown",
      "metadata": {
        "id": "SlFxllczUyai"
      },
      "source": [
        "## <font color='#2F4F4F'>3. Data Analysis</font>"
      ]
    },
    {
      "cell_type": "markdown",
      "metadata": {
        "id": "coemyNdFUyaj"
      },
      "source": [
        "### 3.1 Univariate Analysis"
      ]
    },
    {
      "cell_type": "code",
      "metadata": {
        "id": "mTZoLM71Uyak",
        "colab": {
          "base_uri": "https://localhost:8080/",
          "height": 520
        },
        "outputId": "e089d8d9-1ae0-413d-c6f3-828efb3431ca"
      },
      "source": [
        "# distribution of department\n",
        "plt.figure(figsize = (10, 8))\n",
        "hr.department.value_counts().plot(kind = 'bar', rot = 25)\n",
        "plt.show()"
      ],
      "execution_count": 13,
      "outputs": [
        {
          "output_type": "display_data",
          "data": {
            "text/plain": [
              "<Figure size 720x576 with 1 Axes>"
            ],
            "image/png": "[encoded data removed]"
          },
          "metadata": {
            "needs_background": "light"
          }
        }
      ]
    },
    {
      "cell_type": "markdown",
      "metadata": {
        "id": "xKFguH1pUyao"
      },
      "source": [
        "We see that majority of the employees are in Sales and Marketing."
      ]
    },
    {
      "cell_type": "code",
      "metadata": {
        "id": "FJBA-cfiUyap",
        "colab": {
          "base_uri": "https://localhost:8080/"
        },
        "outputId": "0043aa9e-3431-4943-e3a0-8f4d18efd226"
      },
      "source": [
        "# getting the top 5 regions\n",
        "hr.region.value_counts()[:5]"
      ],
      "execution_count": 14,
      "outputs": [
        {
          "output_type": "execute_result",
          "data": {
            "text/plain": [
              "2     10797\n",
              "22     5427\n",
              "7      4395\n",
              "15     2504\n",
              "13     2459\n",
              "Name: region, dtype: int64"
            ]
          },
          "metadata": {},
          "execution_count": 14
        }
      ]
    },
    {
      "cell_type": "markdown",
      "metadata": {
        "id": "KaQTdgLyUyas"
      },
      "source": [
        "Region 2 is the leading region."
      ]
    },
    {
      "cell_type": "code",
      "metadata": {
        "id": "BTkQk_kTUyat",
        "colab": {
          "base_uri": "https://localhost:8080/",
          "height": 357
        },
        "outputId": "cf1b3da5-1fbb-43eb-83ff-42e1c42e6469"
      },
      "source": [
        "# pie chart of education\n",
        "plt.figure(figsize = (6, 6))\n",
        "hr.education.value_counts().plot(kind = 'pie', autopct = '%1.1f%%')\n",
        "plt.show()"
      ],
      "execution_count": 15,
      "outputs": [
        {
          "output_type": "display_data",
          "data": {
            "text/plain": [
              "<Figure size 432x432 with 1 Axes>"
            ],
            "image/png": "[encoded data removed]"
          },
          "metadata": {}
        }
      ]
    },
    {
      "cell_type": "markdown",
      "metadata": {
        "id": "iAhtxbY3Uyay"
      },
      "source": [
        "Majority of the employees have a Bachelor's degree while very few have below secondary level of education."
      ]
    },
    {
      "cell_type": "code",
      "metadata": {
        "id": "y25CzsoeUyaz",
        "colab": {
          "base_uri": "https://localhost:8080/",
          "height": 444
        },
        "outputId": "b966ce83-4ce0-46a2-ee2a-7e2bbfff56ac"
      },
      "source": [
        "# distribution by gender\n",
        "plt.figure(figsize = (8, 6))\n",
        "sns.countplot('gender', data = hr)\n",
        "plt.show()"
      ],
      "execution_count": 16,
      "outputs": [
        {
          "output_type": "stream",
          "name": "stderr",
          "text": [
            "/usr/local/lib/python3.8/dist-packages/seaborn/_decorators.py:36: FutureWarning: Pass the following variable as a keyword arg: x. From version 0.12, the only valid positional argument will be `data`, and passing other arguments without an explicit keyword will result in an error or misinterpretation.\n",
            "  warnings.warn(\n"
          ]
        },
        {
          "output_type": "display_data",
          "data": {
            "text/plain": [
              "<Figure size 576x432 with 1 Axes>"
            ],
            "image/png": "[encoded data removed]"
          },
          "metadata": {
            "needs_background": "light"
          }
        }
      ]
    },
    {
      "cell_type": "markdown",
      "metadata": {
        "id": "yGrrhQyoUya4"
      },
      "source": [
        "There are about twice as many male employees as female employees."
      ]
    },
    {
      "cell_type": "code",
      "metadata": {
        "id": "iIdqtIE_Uya5",
        "colab": {
          "base_uri": "https://localhost:8080/",
          "height": 445
        },
        "outputId": "5233f079-c79c-4de8-92ec-c01cf20a79d5"
      },
      "source": [
        "# distribution of recruitment channel\n",
        "plt.figure(figsize = (8, 6))\n",
        "sns.countplot('recruitment_channel', data = hr)\n",
        "plt.show()"
      ],
      "execution_count": 17,
      "outputs": [
        {
          "output_type": "stream",
          "name": "stderr",
          "text": [
            "/usr/local/lib/python3.8/dist-packages/seaborn/_decorators.py:36: FutureWarning: Pass the following variable as a keyword arg: x. From version 0.12, the only valid positional argument will be `data`, and passing other arguments without an explicit keyword will result in an error or misinterpretation.\n",
            "  warnings.warn(\n"
          ]
        },
        {
          "output_type": "display_data",
          "data": {
            "text/plain": [
              "<Figure size 576x432 with 1 Axes>"
            ],
            "image/png": "[encoded data removed]"
          },
          "metadata": {
            "needs_background": "light"
          }
        }
      ]
    },
    {
      "cell_type": "markdown",
      "metadata": {
        "id": "AIub2P_9Uya9"
      },
      "source": [
        "Majority of the employees got recruited through other channels while very few were referred."
      ]
    },
    {
      "cell_type": "code",
      "metadata": {
        "id": "5kC0qLgRUya-",
        "colab": {
          "base_uri": "https://localhost:8080/"
        },
        "outputId": "b83b5f59-0111-49e5-e7ef-fe3fb8e3c392"
      },
      "source": [
        "hr.no_of_trainings.value_counts()"
      ],
      "execution_count": 18,
      "outputs": [
        {
          "output_type": "execute_result",
          "data": {
            "text/plain": [
              "1     39350\n",
              "2      7105\n",
              "3      1578\n",
              "4       402\n",
              "5       116\n",
              "6        34\n",
              "7        10\n",
              "10        5\n",
              "8         4\n",
              "9         3\n",
              "Name: no_of_trainings, dtype: int64"
            ]
          },
          "metadata": {},
          "execution_count": 18
        }
      ]
    },
    {
      "cell_type": "markdown",
      "metadata": {
        "id": "4VxsyuOKUybC"
      },
      "source": [
        "Most employees have had just 1 training. Very few have more than 6 trainings."
      ]
    },
    {
      "cell_type": "code",
      "metadata": {
        "id": "JbiUtfmhUybD",
        "colab": {
          "base_uri": "https://localhost:8080/",
          "height": 265
        },
        "outputId": "53e97790-4463-49cb-8157-ff555e4695c9"
      },
      "source": [
        "# histogram of age\n",
        "hr.age.hist()\n",
        "plt.show()"
      ],
      "execution_count": 19,
      "outputs": [
        {
          "output_type": "display_data",
          "data": {
            "text/plain": [
              "<Figure size 432x288 with 1 Axes>"
            ],
            "image/png": "[encoded data removed]"
          },
          "metadata": {
            "needs_background": "light"
          }
        }
      ]
    },
    {
      "cell_type": "markdown",
      "metadata": {
        "id": "FvIbhmPFUybH"
      },
      "source": [
        "Majority of the employees are between 27-40 years of age. The distribution is skewed slightly to the right and not completely normal/Gaussian. "
      ]
    },
    {
      "cell_type": "code",
      "metadata": {
        "id": "BMlkycbnUybI",
        "colab": {
          "base_uri": "https://localhost:8080/",
          "height": 483
        },
        "outputId": "052665e0-e63f-4f23-ba3a-773746847636"
      },
      "source": [
        "# distribution of previous year's rating\n",
        "plt.figure(figsize = (10, 8))\n",
        "hr.previous_year_rating.value_counts().plot(kind = 'bar', rot = 0)\n",
        "plt.show()"
      ],
      "execution_count": 20,
      "outputs": [
        {
          "output_type": "display_data",
          "data": {
            "text/plain": [
              "<Figure size 720x576 with 1 Axes>"
            ],
            "image/png": "[encoded data removed]"
          },
          "metadata": {
            "needs_background": "light"
          }
        }
      ]
    },
    {
      "cell_type": "markdown",
      "metadata": {
        "id": "kUJJyvRAUybN"
      },
      "source": [
        "Majority of employees rated 3 for the previous year, followed by those who rated 5.  "
      ]
    },
    {
      "cell_type": "code",
      "metadata": {
        "id": "I6yoORoVUybO",
        "colab": {
          "base_uri": "https://localhost:8080/",
          "height": 357
        },
        "outputId": "0fa3bc6b-9b89-4f5e-98db-f1125267f35a"
      },
      "source": [
        "# distribution of KPI\n",
        "plt.figure(figsize = (6, 6))\n",
        "hr['KPIs_met >80%'].value_counts().plot(kind = 'pie', autopct = '%1.1f%%', explode = (0, 0.01))\n",
        "plt.show()"
      ],
      "execution_count": 21,
      "outputs": [
        {
          "output_type": "display_data",
          "data": {
            "text/plain": [
              "<Figure size 432x432 with 1 Axes>"
            ],
            "image/png": "[encoded data removed]"
          },
          "metadata": {}
        }
      ]
    },
    {
      "cell_type": "markdown",
      "metadata": {
        "id": "FuE7fisAUybU"
      },
      "source": [
        "Majority of the employees did not meet more than 80% KPIs."
      ]
    },
    {
      "cell_type": "code",
      "metadata": {
        "id": "QYQQbGcPUybU",
        "colab": {
          "base_uri": "https://localhost:8080/",
          "height": 374
        },
        "outputId": "eb5fe33d-e062-4e68-bf30-553901f1b7e1"
      },
      "source": [
        "# distribution of awards won\n",
        "plt.figure(figsize = (8, 6))\n",
        "hr['awards_won?'].value_counts().plot(kind = 'bar', rot = 0)\n",
        "plt.show()"
      ],
      "execution_count": 22,
      "outputs": [
        {
          "output_type": "display_data",
          "data": {
            "text/plain": [
              "<Figure size 576x432 with 1 Axes>"
            ],
            "image/png": "[encoded data removed]"
          },
          "metadata": {
            "needs_background": "light"
          }
        }
      ]
    },
    {
      "cell_type": "markdown",
      "metadata": {
        "id": "8_MY3dwMUybZ"
      },
      "source": [
        "Majority of the employees did not win any awards."
      ]
    },
    {
      "cell_type": "code",
      "metadata": {
        "id": "rNtAJCLQUybb",
        "colab": {
          "base_uri": "https://localhost:8080/",
          "height": 336
        },
        "outputId": "c0d32ead-863a-4ce2-8bf3-2833595c8473"
      },
      "source": [
        "# distribution of average training score\n",
        "sns.distplot(hr.avg_training_score)\n",
        "plt.show()"
      ],
      "execution_count": 23,
      "outputs": [
        {
          "output_type": "stream",
          "name": "stderr",
          "text": [
            "/usr/local/lib/python3.8/dist-packages/seaborn/distributions.py:2619: FutureWarning: `distplot` is a deprecated function and will be removed in a future version. Please adapt your code to use either `displot` (a figure-level function with similar flexibility) or `histplot` (an axes-level function for histograms).\n",
            "  warnings.warn(msg, FutureWarning)\n"
          ]
        },
        {
          "output_type": "display_data",
          "data": {
            "text/plain": [
              "<Figure size 432x288 with 1 Axes>"
            ],
            "image/png": "[encoded data removed]"
          },
          "metadata": {
            "needs_background": "light"
          }
        }
      ]
    },
    {
      "cell_type": "markdown",
      "metadata": {
        "id": "naWVZ5GiUybf"
      },
      "source": [
        "The 'avg_training_score' variable is not normally distributed."
      ]
    },
    {
      "cell_type": "code",
      "metadata": {
        "id": "z-l4o2ofUybf",
        "colab": {
          "base_uri": "https://localhost:8080/",
          "height": 374
        },
        "outputId": "1141cb46-a518-479a-b2af-03be2dad8b61"
      },
      "source": [
        "# distribution of promotion status\n",
        "plt.figure(figsize = (8, 6))\n",
        "hr.is_promoted.value_counts().plot(kind = 'bar', rot = 0)\n",
        "plt.show()"
      ],
      "execution_count": 24,
      "outputs": [
        {
          "output_type": "display_data",
          "data": {
            "text/plain": [
              "<Figure size 576x432 with 1 Axes>"
            ],
            "image/png": "[encoded data removed]"
          },
          "metadata": {
            "needs_background": "light"
          }
        }
      ]
    },
    {
      "cell_type": "markdown",
      "metadata": {
        "id": "0HSdZ690Uybj"
      },
      "source": [
        "Majority of the employees are not promoted."
      ]
    },
    {
      "cell_type": "markdown",
      "metadata": {
        "id": "wpU84qZ3Uybj"
      },
      "source": [
        "### 3.2 Bivariate Analysis"
      ]
    },
    {
      "cell_type": "markdown",
      "metadata": {
        "id": "0GQWv61lUybk"
      },
      "source": [
        "We will look at the relationship between our target variable 'is_promoted' and the other variables."
      ]
    },
    {
      "cell_type": "code",
      "metadata": {
        "id": "O-XoShWgUybl",
        "colab": {
          "base_uri": "https://localhost:8080/",
          "height": 553
        },
        "outputId": "cbc51c30-8d0a-4f99-c760-ca2c6e7503b9"
      },
      "source": [
        "# promotion by department\n",
        "plt.figure(figsize = (12, 8))\n",
        "sns.countplot('department', hue = 'is_promoted', data = hr)\n",
        "plt.show()"
      ],
      "execution_count": 25,
      "outputs": [
        {
          "output_type": "stream",
          "name": "stderr",
          "text": [
            "/usr/local/lib/python3.8/dist-packages/seaborn/_decorators.py:36: FutureWarning: Pass the following variable as a keyword arg: x. From version 0.12, the only valid positional argument will be `data`, and passing other arguments without an explicit keyword will result in an error or misinterpretation.\n",
            "  warnings.warn(\n"
          ]
        },
        {
          "output_type": "display_data",
          "data": {
            "text/plain": [
              "<Figure size 864x576 with 1 Axes>"
            ],
            "image/png": "[encoded data removed]"
          },
          "metadata": {
            "needs_background": "light"
          }
        }
      ]
    },
    {
      "cell_type": "markdown",
      "metadata": {
        "id": "SVCPbT8vUybp"
      },
      "source": [
        "It appears that majority of the emloyees that got promoted are from the Sales & Marketing department, the Operations departent, the Technology department and the Procurement department."
      ]
    },
    {
      "cell_type": "code",
      "metadata": {
        "id": "uo2SZY9zUybq",
        "colab": {
          "base_uri": "https://localhost:8080/",
          "height": 553
        },
        "outputId": "bece1ee3-7a1a-489a-fbd9-38ca72e0e9c5"
      },
      "source": [
        "# region by department\n",
        "plt.figure(figsize = (12, 8))\n",
        "sns.countplot('region', hue = 'is_promoted', data = hr)\n",
        "plt.show()"
      ],
      "execution_count": 26,
      "outputs": [
        {
          "output_type": "stream",
          "name": "stderr",
          "text": [
            "/usr/local/lib/python3.8/dist-packages/seaborn/_decorators.py:36: FutureWarning: Pass the following variable as a keyword arg: x. From version 0.12, the only valid positional argument will be `data`, and passing other arguments without an explicit keyword will result in an error or misinterpretation.\n",
            "  warnings.warn(\n"
          ]
        },
        {
          "output_type": "display_data",
          "data": {
            "text/plain": [
              "<Figure size 864x576 with 1 Axes>"
            ],
            "image/png": "[encoded data removed]"
          },
          "metadata": {
            "needs_background": "light"
          }
        }
      ]
    },
    {
      "cell_type": "markdown",
      "metadata": {
        "id": "_QYVOAg_Uybw"
      },
      "source": [
        "Regions 2, 22, and 7 show high numbers of promoted employees."
      ]
    },
    {
      "cell_type": "code",
      "metadata": {
        "id": "iCzosfHWUybw",
        "colab": {
          "base_uri": "https://localhost:8080/",
          "height": 444
        },
        "outputId": "cf05884c-9763-447d-f3cd-b32845c325c8"
      },
      "source": [
        "# promotion by education\n",
        "plt.figure(figsize = (8, 6))\n",
        "sns.countplot('education', hue = 'is_promoted', data = hr)\n",
        "plt.show()"
      ],
      "execution_count": 27,
      "outputs": [
        {
          "output_type": "stream",
          "name": "stderr",
          "text": [
            "/usr/local/lib/python3.8/dist-packages/seaborn/_decorators.py:36: FutureWarning: Pass the following variable as a keyword arg: x. From version 0.12, the only valid positional argument will be `data`, and passing other arguments without an explicit keyword will result in an error or misinterpretation.\n",
            "  warnings.warn(\n"
          ]
        },
        {
          "output_type": "display_data",
          "data": {
            "text/plain": [
              "<Figure size 576x432 with 1 Axes>"
            ],
            "image/png": "[encoded data removed]"
          },
          "metadata": {
            "needs_background": "light"
          }
        }
      ]
    },
    {
      "cell_type": "markdown",
      "metadata": {
        "id": "cHxhPdLJUyb0"
      },
      "source": [
        "Those with Bachelor-level education were promoted more than those with Master's and above or those with below secondary level education."
      ]
    },
    {
      "cell_type": "code",
      "metadata": {
        "id": "2kjLuaS9Uyb0",
        "colab": {
          "base_uri": "https://localhost:8080/",
          "height": 444
        },
        "outputId": "978647ab-f44a-4212-b73f-20791243c6b2"
      },
      "source": [
        "# promotion by gender\n",
        "plt.figure(figsize = (8, 6))\n",
        "sns.countplot('gender', hue = 'is_promoted', data = hr)\n",
        "plt.show()"
      ],
      "execution_count": 28,
      "outputs": [
        {
          "output_type": "stream",
          "name": "stderr",
          "text": [
            "/usr/local/lib/python3.8/dist-packages/seaborn/_decorators.py:36: FutureWarning: Pass the following variable as a keyword arg: x. From version 0.12, the only valid positional argument will be `data`, and passing other arguments without an explicit keyword will result in an error or misinterpretation.\n",
            "  warnings.warn(\n"
          ]
        },
        {
          "output_type": "display_data",
          "data": {
            "text/plain": [
              "<Figure size 576x432 with 1 Axes>"
            ],
            "image/png": "[encoded data removed]"
          },
          "metadata": {
            "needs_background": "light"
          }
        }
      ]
    },
    {
      "cell_type": "markdown",
      "metadata": {
        "id": "3fbcqAmYUyb4"
      },
      "source": [
        "More males than females were promoted."
      ]
    },
    {
      "cell_type": "code",
      "metadata": {
        "id": "_CH4s4jcUyb5",
        "colab": {
          "base_uri": "https://localhost:8080/",
          "height": 445
        },
        "outputId": "296d60b3-1aa1-45e2-885e-9a875573fdff"
      },
      "source": [
        "# promotion by recruitment channel\n",
        "plt.figure(figsize = (8, 6))\n",
        "sns.countplot('recruitment_channel', hue = 'is_promoted', data = hr)\n",
        "plt.show()"
      ],
      "execution_count": 29,
      "outputs": [
        {
          "output_type": "stream",
          "name": "stderr",
          "text": [
            "/usr/local/lib/python3.8/dist-packages/seaborn/_decorators.py:36: FutureWarning: Pass the following variable as a keyword arg: x. From version 0.12, the only valid positional argument will be `data`, and passing other arguments without an explicit keyword will result in an error or misinterpretation.\n",
            "  warnings.warn(\n"
          ]
        },
        {
          "output_type": "display_data",
          "data": {
            "text/plain": [
              "<Figure size 576x432 with 1 Axes>"
            ],
            "image/png": "[encoded data removed]"
          },
          "metadata": {
            "needs_background": "light"
          }
        }
      ]
    },
    {
      "cell_type": "markdown",
      "metadata": {
        "id": "f54K_i4yUyb-"
      },
      "source": [
        "Those who were recruited via other means were promoted the most, closely followed by those who got recruited through sourcing."
      ]
    },
    {
      "cell_type": "code",
      "metadata": {
        "id": "IPw784WMUyb_",
        "colab": {
          "base_uri": "https://localhost:8080/",
          "height": 445
        },
        "outputId": "24004e72-752d-4f67-d363-1fa26f0b1786"
      },
      "source": [
        "# promotion by number of trainings\n",
        "plt.figure(figsize = (8, 6))\n",
        "sns.countplot('no_of_trainings', hue = 'is_promoted', data = hr)\n",
        "plt.show()"
      ],
      "execution_count": 30,
      "outputs": [
        {
          "output_type": "stream",
          "name": "stderr",
          "text": [
            "/usr/local/lib/python3.8/dist-packages/seaborn/_decorators.py:36: FutureWarning: Pass the following variable as a keyword arg: x. From version 0.12, the only valid positional argument will be `data`, and passing other arguments without an explicit keyword will result in an error or misinterpretation.\n",
            "  warnings.warn(\n"
          ]
        },
        {
          "output_type": "display_data",
          "data": {
            "text/plain": [
              "<Figure size 576x432 with 1 Axes>"
            ],
            "image/png": "[encoded data removed]"
          },
          "metadata": {
            "needs_background": "light"
          }
        }
      ]
    },
    {
      "cell_type": "markdown",
      "metadata": {
        "id": "DM-H-mvPUycC"
      },
      "source": [
        "Those who have 1 training make up the majority of those who got promoted."
      ]
    },
    {
      "cell_type": "code",
      "metadata": {
        "id": "gpyCOHrTUycD",
        "colab": {
          "base_uri": "https://localhost:8080/",
          "height": 444
        },
        "outputId": "ef0cace6-b1bf-45f9-beb3-58aa4d52be55"
      },
      "source": [
        "# promotion by age\n",
        "plt.figure(figsize = (12, 6))\n",
        "sns.countplot('age', hue = 'is_promoted', data = hr)\n",
        "plt.show()"
      ],
      "execution_count": 31,
      "outputs": [
        {
          "output_type": "stream",
          "name": "stderr",
          "text": [
            "/usr/local/lib/python3.8/dist-packages/seaborn/_decorators.py:36: FutureWarning: Pass the following variable as a keyword arg: x. From version 0.12, the only valid positional argument will be `data`, and passing other arguments without an explicit keyword will result in an error or misinterpretation.\n",
            "  warnings.warn(\n"
          ]
        },
        {
          "output_type": "display_data",
          "data": {
            "text/plain": [
              "<Figure size 864x432 with 1 Axes>"
            ],
            "image/png": "[encoded data removed]"
          },
          "metadata": {
            "needs_background": "light"
          }
        }
      ]
    },
    {
      "cell_type": "markdown",
      "metadata": {
        "id": "guknsjMPUycH"
      },
      "source": [
        "Chances of being promoted are high if you're between 26-44 years of age."
      ]
    },
    {
      "cell_type": "code",
      "metadata": {
        "id": "99d7pup1UycK",
        "colab": {
          "base_uri": "https://localhost:8080/",
          "height": 445
        },
        "outputId": "fc45c257-b9c1-415d-acd6-47c5ec5928dd"
      },
      "source": [
        "# promotion by previous year's rating\n",
        "plt.figure(figsize = (8, 6))\n",
        "sns.countplot('previous_year_rating', hue = 'is_promoted', data = hr)\n",
        "plt.show()"
      ],
      "execution_count": 32,
      "outputs": [
        {
          "output_type": "stream",
          "name": "stderr",
          "text": [
            "/usr/local/lib/python3.8/dist-packages/seaborn/_decorators.py:36: FutureWarning: Pass the following variable as a keyword arg: x. From version 0.12, the only valid positional argument will be `data`, and passing other arguments without an explicit keyword will result in an error or misinterpretation.\n",
            "  warnings.warn(\n"
          ]
        },
        {
          "output_type": "display_data",
          "data": {
            "text/plain": [
              "<Figure size 576x432 with 1 Axes>"
            ],
            "image/png": "[encoded data removed]"
          },
          "metadata": {
            "needs_background": "light"
          }
        }
      ]
    },
    {
      "cell_type": "markdown",
      "metadata": {
        "id": "oXTFlVYkUycP"
      },
      "source": [
        "An interesting thing to note is that those who gave 5 as rating for the previous year were promoted more than those who gave a rating of 3 even though the latter outnumber the former."
      ]
    },
    {
      "cell_type": "code",
      "metadata": {
        "id": "d5ZE-cVTUycP",
        "colab": {
          "base_uri": "https://localhost:8080/",
          "height": 445
        },
        "outputId": "741adad8-25bf-49be-81d6-f82380572073"
      },
      "source": [
        "# promotion by length of service\n",
        "plt.figure(figsize = (12, 6))\n",
        "sns.countplot('length_of_service', hue = 'is_promoted', data = hr)\n",
        "plt.show()"
      ],
      "execution_count": 33,
      "outputs": [
        {
          "output_type": "stream",
          "name": "stderr",
          "text": [
            "/usr/local/lib/python3.8/dist-packages/seaborn/_decorators.py:36: FutureWarning: Pass the following variable as a keyword arg: x. From version 0.12, the only valid positional argument will be `data`, and passing other arguments without an explicit keyword will result in an error or misinterpretation.\n",
            "  warnings.warn(\n"
          ]
        },
        {
          "output_type": "display_data",
          "data": {
            "text/plain": [
              "<Figure size 864x432 with 1 Axes>"
            ],
            "image/png": "[encoded data removed]"
          },
          "metadata": {
            "needs_background": "light"
          }
        }
      ]
    },
    {
      "cell_type": "markdown",
      "metadata": {
        "id": "H56GGRmaUycT"
      },
      "source": [
        "Chances of being promoted are high between 2-7 years of service, before gradually dropping through the years."
      ]
    },
    {
      "cell_type": "code",
      "metadata": {
        "id": "MWsnCECXUycU",
        "colab": {
          "base_uri": "https://localhost:8080/",
          "height": 445
        },
        "outputId": "e2311aa0-0564-43b6-be4e-21879d802c29"
      },
      "source": [
        "# promotion by KPIs met\n",
        "plt.figure(figsize = (8, 6))\n",
        "sns.countplot('KPIs_met >80%', hue = 'is_promoted', data = hr)\n",
        "plt.show()"
      ],
      "execution_count": 34,
      "outputs": [
        {
          "output_type": "stream",
          "name": "stderr",
          "text": [
            "/usr/local/lib/python3.8/dist-packages/seaborn/_decorators.py:36: FutureWarning: Pass the following variable as a keyword arg: x. From version 0.12, the only valid positional argument will be `data`, and passing other arguments without an explicit keyword will result in an error or misinterpretation.\n",
            "  warnings.warn(\n"
          ]
        },
        {
          "output_type": "display_data",
          "data": {
            "text/plain": [
              "<Figure size 576x432 with 1 Axes>"
            ],
            "image/png": "[encoded data removed]"
          },
          "metadata": {
            "needs_background": "light"
          }
        }
      ]
    },
    {
      "cell_type": "markdown",
      "metadata": {
        "id": "KS19eFjjUycb"
      },
      "source": [
        "Meeting over 80% of KPIs increased chances of being promoted."
      ]
    },
    {
      "cell_type": "code",
      "metadata": {
        "id": "1xwPDhyfUycc",
        "colab": {
          "base_uri": "https://localhost:8080/",
          "height": 445
        },
        "outputId": "343e4cea-e33e-4780-a79a-12762df1bc5c"
      },
      "source": [
        "# promotion by awards won\n",
        "plt.figure(figsize = (8, 6))\n",
        "sns.countplot('awards_won?', hue = 'is_promoted', data = hr)\n",
        "plt.show()"
      ],
      "execution_count": 35,
      "outputs": [
        {
          "output_type": "stream",
          "name": "stderr",
          "text": [
            "/usr/local/lib/python3.8/dist-packages/seaborn/_decorators.py:36: FutureWarning: Pass the following variable as a keyword arg: x. From version 0.12, the only valid positional argument will be `data`, and passing other arguments without an explicit keyword will result in an error or misinterpretation.\n",
            "  warnings.warn(\n"
          ]
        },
        {
          "output_type": "display_data",
          "data": {
            "text/plain": [
              "<Figure size 576x432 with 1 Axes>"
            ],
            "image/png": "[encoded data removed]"
          },
          "metadata": {
            "needs_background": "light"
          }
        }
      ]
    },
    {
      "cell_type": "markdown",
      "metadata": {
        "id": "trbM8OAIUyci"
      },
      "source": [
        "Those who did not win any awards were promoted more than those who did. However, because the number of employees who did not win any awards vastly outnumber those who did, it is difficult to ascertain that winning an award influences whether or not you get promoted."
      ]
    },
    {
      "cell_type": "code",
      "metadata": {
        "id": "rmNWSMNjUyci",
        "colab": {
          "base_uri": "https://localhost:8080/",
          "height": 445
        },
        "outputId": "e205e1ca-bf6f-42cb-cb26-ce96242b3db8"
      },
      "source": [
        "# promotion by average training score\n",
        "plt.figure(figsize = (14, 6))\n",
        "sns.countplot('avg_training_score', hue = 'is_promoted', data = hr)\n",
        "plt.show()"
      ],
      "execution_count": 36,
      "outputs": [
        {
          "output_type": "stream",
          "name": "stderr",
          "text": [
            "/usr/local/lib/python3.8/dist-packages/seaborn/_decorators.py:36: FutureWarning: Pass the following variable as a keyword arg: x. From version 0.12, the only valid positional argument will be `data`, and passing other arguments without an explicit keyword will result in an error or misinterpretation.\n",
            "  warnings.warn(\n"
          ]
        },
        {
          "output_type": "display_data",
          "data": {
            "text/plain": [
              "<Figure size 1008x432 with 1 Axes>"
            ],
            "image/png": "[encoded data removed]"
          },
          "metadata": {
            "needs_background": "light"
          }
        }
      ]
    },
    {
      "cell_type": "markdown",
      "metadata": {
        "id": "TJ4yL2lRUycn"
      },
      "source": [
        "The average training score of those who got promoted fluctuates depending on the number of people with that score. However, having an average score of over 90 increases chcances of being promoted."
      ]
    },
    {
      "cell_type": "markdown",
      "metadata": {
        "id": "hYvEpSkrUyco"
      },
      "source": [
        "#### 3.2.1 Feature Engineering"
      ]
    },
    {
      "cell_type": "markdown",
      "metadata": {
        "id": "ZygrG9MbUyco"
      },
      "source": [
        "To explore the correlations between variables, let us first convert the categorical variables into numerical data. We already stripped 'region' of its non-numeric characters so all that's left to do with it is to cast it as an integer."
      ]
    },
    {
      "cell_type": "code",
      "metadata": {
        "id": "kHCH1OsoUycq",
        "colab": {
          "base_uri": "https://localhost:8080/"
        },
        "outputId": "74340759-ed78-42a2-a3d3-1e5f91db1ab4"
      },
      "source": [
        "hr['region'] = hr['region'].astype('int64')\n",
        "hr.region.dtype"
      ],
      "execution_count": 37,
      "outputs": [
        {
          "output_type": "execute_result",
          "data": {
            "text/plain": [
              "dtype('int64')"
            ]
          },
          "metadata": {},
          "execution_count": 37
        }
      ]
    },
    {
      "cell_type": "markdown",
      "metadata": {
        "id": "R9HfrZIbUycu"
      },
      "source": [
        "Next, the following variables need to be encoded (converted from categorical to numerical form):\n",
        "- department\n",
        "- education\n",
        "- gender\n",
        "- recruitment channel\n",
        "\n",
        "To quickly encode them, we will use LabelEncoder."
      ]
    },
    {
      "cell_type": "code",
      "metadata": {
        "id": "4U8Au7HtUycv",
        "colab": {
          "base_uri": "https://localhost:8080/",
          "height": 304
        },
        "outputId": "9bacc0dd-ac7e-40ce-f370-dda98ffa3632"
      },
      "source": [
        "# importing Label Encoder from the Sklear preprocessing library\n",
        "from sklearn.preprocessing import LabelEncoder\n",
        "le = LabelEncoder()\n",
        "\n",
        "# fitting the LabelEncoder to the unique values of the 'department' variable\n",
        "le_department = le.fit(hr['department'].unique())\n",
        "\n",
        "# getting the classes of the unique values\n",
        "department_classes = le_department.classes_\n",
        "\n",
        "# transforming the variable values\n",
        "hr['department'] = le_department.transform(hr['department'].values)\n",
        "\n",
        "# previewing our dataset to see our transformed values\n",
        "hr.head()"
      ],
      "execution_count": 38,
      "outputs": [
        {
          "output_type": "execute_result",
          "data": {
            "text/plain": [
              "   department  region         education gender recruitment_channel  \\\n",
              "0           7       7  Master's & above      f            sourcing   \n",
              "1           4      22        Bachelor's      m               other   \n",
              "2           7      19        Bachelor's      m            sourcing   \n",
              "3           7      23        Bachelor's      m               other   \n",
              "4           8      26        Bachelor's      m               other   \n",
              "\n",
              "   no_of_trainings  age  previous_year_rating  length_of_service  \\\n",
              "0                1   35                   5.0                  8   \n",
              "1                1   30                   5.0                  4   \n",
              "2                1   34                   3.0                  7   \n",
              "3                2   39                   1.0                 10   \n",
              "4                1   45                   3.0                  2   \n",
              "\n",
              "   KPIs_met >80%  awards_won?  avg_training_score  is_promoted  \n",
              "0              1            0                  49            0  \n",
              "1              0            0                  60            0  \n",
              "2              0            0                  50            0  \n",
              "3              0            0                  50            0  \n",
              "4              0            0                  73            0  "
            ],
            "text/html": [
              "\n",
              "  <div id=\"df-550287a9-8e67-4931-8769-8e49445f8e8a\">\n",
              "    <div class=\"colab-df-container\">\n",
              "      <div>\n",
              "<style scoped>\n",
              "    .dataframe tbody tr th:only-of-type {\n",
              "        vertical-align: middle;\n",
              "    }\n",
              "\n",
              "    .dataframe tbody tr th {\n",
              "        vertical-align: top;\n",
              "    }\n",
              "\n",
              "    .dataframe thead th {\n",
              "        text-align: right;\n",
              "    }\n",
              "</style>\n",
              "<table border=\"1\" class=\"dataframe\">\n",
              "  <thead>\n",
              "    <tr style=\"text-align: right;\">\n",
              "      <th></th>\n",
              "      <th>department</th>\n",
              "      <th>region</th>\n",
              "      <th>education</th>\n",
              "      <th>gender</th>\n",
              "      <th>recruitment_channel</th>\n",
              "      <th>no_of_trainings</th>\n",
              "      <th>age</th>\n",
              "      <th>previous_year_rating</th>\n",
              "      <th>length_of_service</th>\n",
              "      <th>KPIs_met &gt;80%</th>\n",
              "      <th>awards_won?</th>\n",
              "      <th>avg_training_score</th>\n",
              "      <th>is_promoted</th>\n",
              "    </tr>\n",
              "  </thead>\n",
              "  <tbody>\n",
              "    <tr>\n",
              "      <th>0</th>\n",
              "      <td>7</td>\n",
              "      <td>7</td>\n",
              "      <td>Master's &amp; above</td>\n",
              "      <td>f</td>\n",
              "      <td>sourcing</td>\n",
              "      <td>1</td>\n",
              "      <td>35</td>\n",
              "      <td>5.0</td>\n",
              "      <td>8</td>\n",
              "      <td>1</td>\n",
              "      <td>0</td>\n",
              "      <td>49</td>\n",
              "      <td>0</td>\n",
              "    </tr>\n",
              "    <tr>\n",
              "      <th>1</th>\n",
              "      <td>4</td>\n",
              "      <td>22</td>\n",
              "      <td>Bachelor's</td>\n",
              "      <td>m</td>\n",
              "      <td>other</td>\n",
              "      <td>1</td>\n",
              "      <td>30</td>\n",
              "      <td>5.0</td>\n",
              "      <td>4</td>\n",
              "      <td>0</td>\n",
              "      <td>0</td>\n",
              "      <td>60</td>\n",
              "      <td>0</td>\n",
              "    </tr>\n",
              "    <tr>\n",
              "      <th>2</th>\n",
              "      <td>7</td>\n",
              "      <td>19</td>\n",
              "      <td>Bachelor's</td>\n",
              "      <td>m</td>\n",
              "      <td>sourcing</td>\n",
              "      <td>1</td>\n",
              "      <td>34</td>\n",
              "      <td>3.0</td>\n",
              "      <td>7</td>\n",
              "      <td>0</td>\n",
              "      <td>0</td>\n",
              "      <td>50</td>\n",
              "      <td>0</td>\n",
              "    </tr>\n",
              "    <tr>\n",
              "      <th>3</th>\n",
              "      <td>7</td>\n",
              "      <td>23</td>\n",
              "      <td>Bachelor's</td>\n",
              "      <td>m</td>\n",
              "      <td>other</td>\n",
              "      <td>2</td>\n",
              "      <td>39</td>\n",
              "      <td>1.0</td>\n",
              "      <td>10</td>\n",
              "      <td>0</td>\n",
              "      <td>0</td>\n",
              "      <td>50</td>\n",
              "      <td>0</td>\n",
              "    </tr>\n",
              "    <tr>\n",
              "      <th>4</th>\n",
              "      <td>8</td>\n",
              "      <td>26</td>\n",
              "      <td>Bachelor's</td>\n",
              "      <td>m</td>\n",
              "      <td>other</td>\n",
              "      <td>1</td>\n",
              "      <td>45</td>\n",
              "      <td>3.0</td>\n",
              "      <td>2</td>\n",
              "      <td>0</td>\n",
              "      <td>0</td>\n",
              "      <td>73</td>\n",
              "      <td>0</td>\n",
              "    </tr>\n",
              "  </tbody>\n",
              "</table>\n",
              "</div>\n",
              "      <button class=\"colab-df-convert\" onclick=\"convertToInteractive('df-550287a9-8e67-4931-8769-8e49445f8e8a')\"\n",
              "              title=\"Convert this dataframe to an interactive table.\"\n",
              "              style=\"display:none;\">\n",
              "        \n",
              "  <svg xmlns=\"http://www.w3.org/2000/svg\" height=\"24px\"viewBox=\"0 0 24 24\"\n",
              "       width=\"24px\">\n",
              "    <path d=\"M0 0h24v24H0V0z\" fill=\"none\"/>\n",
              "    <path d=\"M18.56 5.44l.94 2.06.94-2.06 2.06-.94-2.06-.94-.94-2.06-.94 2.06-2.06.94zm-11 1L8.5 8.5l.94-2.06 2.06-.94-2.06-.94L8.5 2.5l-.94 2.06-2.06.94zm10 10l.94 2.06.94-2.06 2.06-.94-2.06-.94-.94-2.06-.94 2.06-2.06.94z\"/><path d=\"M17.41 7.96l-1.37-1.37c-.4-.4-.92-.59-1.43-.59-.52 0-1.04.2-1.43.59L10.3 9.45l-7.72 7.72c-.78.78-.78 2.05 0 2.83L4 21.41c.39.39.9.59 1.41.59.51 0 1.02-.2 1.41-.59l7.78-7.78 2.81-2.81c.8-.78.8-2.07 0-2.86zM5.41 20L4 18.59l7.72-7.72 1.47 1.35L5.41 20z\"/>\n",
              "  </svg>\n",
              "      </button>\n",
              "      \n",
              "  <style>\n",
              "    .colab-df-container {\n",
              "      display:flex;\n",
              "      flex-wrap:wrap;\n",
              "      gap: 12px;\n",
              "    }\n",
              "\n",
              "    .colab-df-convert {\n",
              "      background-color: #E8F0FE;\n",
              "      border: none;\n",
              "      border-radius: 50%;\n",
              "      cursor: pointer;\n",
              "      display: none;\n",
              "      fill: #1967D2;\n",
              "      height: 32px;\n",
              "      padding: 0 0 0 0;\n",
              "      width: 32px;\n",
              "    }\n",
              "\n",
              "    .colab-df-convert:hover {\n",
              "      background-color: #E2EBFA;\n",
              "      box-shadow: 0px 1px 2px rgba(60, 64, 67, 0.3), 0px 1px 3px 1px rgba(60, 64, 67, 0.15);\n",
              "      fill: #174EA6;\n",
              "    }\n",
              "\n",
              "    [theme=dark] .colab-df-convert {\n",
              "      background-color: #3B4455;\n",
              "      fill: #D2E3FC;\n",
              "    }\n",
              "\n",
              "    [theme=dark] .colab-df-convert:hover {\n",
              "      background-color: #434B5C;\n",
              "      box-shadow: 0px 1px 3px 1px rgba(0, 0, 0, 0.15);\n",
              "      filter: drop-shadow(0px 1px 2px rgba(0, 0, 0, 0.3));\n",
              "      fill: #FFFFFF;\n",
              "    }\n",
              "  </style>\n",
              "\n",
              "      <script>\n",
              "        const buttonEl =\n",
              "          document.querySelector('#df-550287a9-8e67-4931-8769-8e49445f8e8a button.colab-df-convert');\n",
              "        buttonEl.style.display =\n",
              "          google.colab.kernel.accessAllowed ? 'block' : 'none';\n",
              "\n",
              "        async function convertToInteractive(key) {\n",
              "          const element = document.querySelector('#df-550287a9-8e67-4931-8769-8e49445f8e8a');\n",
              "          const dataTable =\n",
              "            await google.colab.kernel.invokeFunction('convertToInteractive',\n",
              "                                                     [key], {});\n",
              "          if (!dataTable) return;\n",
              "\n",
              "          const docLinkHtml = 'Like what you see? Visit the ' +\n",
              "            '<a target=\"_blank\" href=https://colab.research.google.com/notebooks/data_table.ipynb>data table notebook</a>'\n",
              "            + ' to learn more about interactive tables.';\n",
              "          element.innerHTML = '';\n",
              "          dataTable['output_type'] = 'display_data';\n",
              "          await google.colab.output.renderOutput(dataTable, element);\n",
              "          const docLink = document.createElement('div');\n",
              "          docLink.innerHTML = docLinkHtml;\n",
              "          element.appendChild(docLink);\n",
              "        }\n",
              "      </script>\n",
              "    </div>\n",
              "  </div>\n",
              "  "
            ]
          },
          "metadata": {},
          "execution_count": 38
        }
      ]
    },
    {
      "cell_type": "code",
      "metadata": {
        "id": "8YGxy5ZVUycz",
        "colab": {
          "base_uri": "https://localhost:8080/"
        },
        "outputId": "157fb7e3-ce68-4c86-cf0e-fd3f383351e3"
      },
      "source": [
        "# to get the decoded values\n",
        "print(department_classes[7])\n",
        "print(department_classes[4])"
      ],
      "execution_count": 39,
      "outputs": [
        {
          "output_type": "stream",
          "name": "stdout",
          "text": [
            "Sales & Marketing\n",
            "Operations\n"
          ]
        }
      ]
    },
    {
      "cell_type": "code",
      "metadata": {
        "id": "bYD6t738Uyc3",
        "colab": {
          "base_uri": "https://localhost:8080/"
        },
        "outputId": "d4fbc225-e9ff-45fd-ad0b-93c016f58061"
      },
      "source": [
        "# doing the same thing for 'education'\n",
        "le_education = le.fit(hr['education'].unique())\n",
        "education_classes = le_education.classes_\n",
        "hr['education'] = le_education.transform(hr['education'].values)\n",
        "\n",
        "# preview the decoded values\n",
        "print(education_classes[2])\n",
        "print(education_classes[0])"
      ],
      "execution_count": 40,
      "outputs": [
        {
          "output_type": "stream",
          "name": "stdout",
          "text": [
            "Master's & above\n",
            "Bachelor's\n"
          ]
        }
      ]
    },
    {
      "cell_type": "code",
      "metadata": {
        "id": "Iy5ALbcwUyc7",
        "colab": {
          "base_uri": "https://localhost:8080/"
        },
        "outputId": "a2c5fd5a-92b4-48d1-f7d6-eb209911f2ee"
      },
      "source": [
        "# doing the same thing for 'gender'\n",
        "le_gender = le.fit(hr['gender'].unique())\n",
        "gender_classes = le_gender.classes_\n",
        "hr['gender'] = le_gender.transform(hr['gender'].values)\n",
        "\n",
        "# preview the decoded values\n",
        "print(gender_classes[0])\n",
        "print(gender_classes[1])"
      ],
      "execution_count": 41,
      "outputs": [
        {
          "output_type": "stream",
          "name": "stdout",
          "text": [
            "f\n",
            "m\n"
          ]
        }
      ]
    },
    {
      "cell_type": "code",
      "metadata": {
        "id": "b6tnxcgqUyc_",
        "colab": {
          "base_uri": "https://localhost:8080/"
        },
        "outputId": "e64cb3cb-c021-4d0d-c79e-88947aa393f3"
      },
      "source": [
        "# doing the same thing for 'recruitment_channel'\n",
        "le_recruitment = le.fit(hr['recruitment_channel'].unique())\n",
        "recruitment_classes = le_recruitment.classes_\n",
        "hr['recruitment_channel'] = le_recruitment.transform(hr['recruitment_channel'].values)\n",
        "\n",
        "# preview the decoded values\n",
        "print(recruitment_classes[0])\n",
        "print(recruitment_classes[2])"
      ],
      "execution_count": 42,
      "outputs": [
        {
          "output_type": "stream",
          "name": "stdout",
          "text": [
            "other\n",
            "sourcing\n"
          ]
        }
      ]
    },
    {
      "cell_type": "code",
      "metadata": {
        "id": "NxNspCDGUydD",
        "colab": {
          "base_uri": "https://localhost:8080/",
          "height": 287
        },
        "outputId": "a4e98949-3c55-476a-8b58-53a0f9f6f7a2"
      },
      "source": [
        "# previewing our transformed dataset\n",
        "hr.head()"
      ],
      "execution_count": 43,
      "outputs": [
        {
          "output_type": "execute_result",
          "data": {
            "text/plain": [
              "   department  region  education  gender  recruitment_channel  \\\n",
              "0           7       7          2       0                    2   \n",
              "1           4      22          0       1                    0   \n",
              "2           7      19          0       1                    2   \n",
              "3           7      23          0       1                    0   \n",
              "4           8      26          0       1                    0   \n",
              "\n",
              "   no_of_trainings  age  previous_year_rating  length_of_service  \\\n",
              "0                1   35                   5.0                  8   \n",
              "1                1   30                   5.0                  4   \n",
              "2                1   34                   3.0                  7   \n",
              "3                2   39                   1.0                 10   \n",
              "4                1   45                   3.0                  2   \n",
              "\n",
              "   KPIs_met >80%  awards_won?  avg_training_score  is_promoted  \n",
              "0              1            0                  49            0  \n",
              "1              0            0                  60            0  \n",
              "2              0            0                  50            0  \n",
              "3              0            0                  50            0  \n",
              "4              0            0                  73            0  "
            ],
            "text/html": [
              "\n",
              "  <div id=\"df-cc604e69-8aca-459a-8233-0fc0bdbb9497\">\n",
              "    <div class=\"colab-df-container\">\n",
              "      <div>\n",
              "<style scoped>\n",
              "    .dataframe tbody tr th:only-of-type {\n",
              "        vertical-align: middle;\n",
              "    }\n",
              "\n",
              "    .dataframe tbody tr th {\n",
              "        vertical-align: top;\n",
              "    }\n",
              "\n",
              "    .dataframe thead th {\n",
              "        text-align: right;\n",
              "    }\n",
              "</style>\n",
              "<table border=\"1\" class=\"dataframe\">\n",
              "  <thead>\n",
              "    <tr style=\"text-align: right;\">\n",
              "      <th></th>\n",
              "      <th>department</th>\n",
              "      <th>region</th>\n",
              "      <th>education</th>\n",
              "      <th>gender</th>\n",
              "      <th>recruitment_channel</th>\n",
              "      <th>no_of_trainings</th>\n",
              "      <th>age</th>\n",
              "      <th>previous_year_rating</th>\n",
              "      <th>length_of_service</th>\n",
              "      <th>KPIs_met &gt;80%</th>\n",
              "      <th>awards_won?</th>\n",
              "      <th>avg_training_score</th>\n",
              "      <th>is_promoted</th>\n",
              "    </tr>\n",
              "  </thead>\n",
              "  <tbody>\n",
              "    <tr>\n",
              "      <th>0</th>\n",
              "      <td>7</td>\n",
              "      <td>7</td>\n",
              "      <td>2</td>\n",
              "      <td>0</td>\n",
              "      <td>2</td>\n",
              "      <td>1</td>\n",
              "      <td>35</td>\n",
              "      <td>5.0</td>\n",
              "      <td>8</td>\n",
              "      <td>1</td>\n",
              "      <td>0</td>\n",
              "      <td>49</td>\n",
              "      <td>0</td>\n",
              "    </tr>\n",
              "    <tr>\n",
              "      <th>1</th>\n",
              "      <td>4</td>\n",
              "      <td>22</td>\n",
              "      <td>0</td>\n",
              "      <td>1</td>\n",
              "      <td>0</td>\n",
              "      <td>1</td>\n",
              "      <td>30</td>\n",
              "      <td>5.0</td>\n",
              "      <td>4</td>\n",
              "      <td>0</td>\n",
              "      <td>0</td>\n",
              "      <td>60</td>\n",
              "      <td>0</td>\n",
              "    </tr>\n",
              "    <tr>\n",
              "      <th>2</th>\n",
              "      <td>7</td>\n",
              "      <td>19</td>\n",
              "      <td>0</td>\n",
              "      <td>1</td>\n",
              "      <td>2</td>\n",
              "      <td>1</td>\n",
              "      <td>34</td>\n",
              "      <td>3.0</td>\n",
              "      <td>7</td>\n",
              "      <td>0</td>\n",
              "      <td>0</td>\n",
              "      <td>50</td>\n",
              "      <td>0</td>\n",
              "    </tr>\n",
              "    <tr>\n",
              "      <th>3</th>\n",
              "      <td>7</td>\n",
              "      <td>23</td>\n",
              "      <td>0</td>\n",
              "      <td>1</td>\n",
              "      <td>0</td>\n",
              "      <td>2</td>\n",
              "      <td>39</td>\n",
              "      <td>1.0</td>\n",
              "      <td>10</td>\n",
              "      <td>0</td>\n",
              "      <td>0</td>\n",
              "      <td>50</td>\n",
              "      <td>0</td>\n",
              "    </tr>\n",
              "    <tr>\n",
              "      <th>4</th>\n",
              "      <td>8</td>\n",
              "      <td>26</td>\n",
              "      <td>0</td>\n",
              "      <td>1</td>\n",
              "      <td>0</td>\n",
              "      <td>1</td>\n",
              "      <td>45</td>\n",
              "      <td>3.0</td>\n",
              "      <td>2</td>\n",
              "      <td>0</td>\n",
              "      <td>0</td>\n",
              "      <td>73</td>\n",
              "      <td>0</td>\n",
              "    </tr>\n",
              "  </tbody>\n",
              "</table>\n",
              "</div>\n",
              "      <button class=\"colab-df-convert\" onclick=\"convertToInteractive('df-cc604e69-8aca-459a-8233-0fc0bdbb9497')\"\n",
              "              title=\"Convert this dataframe to an interactive table.\"\n",
              "              style=\"display:none;\">\n",
              "        \n",
              "  <svg xmlns=\"http://www.w3.org/2000/svg\" height=\"24px\"viewBox=\"0 0 24 24\"\n",
              "       width=\"24px\">\n",
              "    <path d=\"M0 0h24v24H0V0z\" fill=\"none\"/>\n",
              "    <path d=\"M18.56 5.44l.94 2.06.94-2.06 2.06-.94-2.06-.94-.94-2.06-.94 2.06-2.06.94zm-11 1L8.5 8.5l.94-2.06 2.06-.94-2.06-.94L8.5 2.5l-.94 2.06-2.06.94zm10 10l.94 2.06.94-2.06 2.06-.94-2.06-.94-.94-2.06-.94 2.06-2.06.94z\"/><path d=\"M17.41 7.96l-1.37-1.37c-.4-.4-.92-.59-1.43-.59-.52 0-1.04.2-1.43.59L10.3 9.45l-7.72 7.72c-.78.78-.78 2.05 0 2.83L4 21.41c.39.39.9.59 1.41.59.51 0 1.02-.2 1.41-.59l7.78-7.78 2.81-2.81c.8-.78.8-2.07 0-2.86zM5.41 20L4 18.59l7.72-7.72 1.47 1.35L5.41 20z\"/>\n",
              "  </svg>\n",
              "      </button>\n",
              "      \n",
              "  <style>\n",
              "    .colab-df-container {\n",
              "      display:flex;\n",
              "      flex-wrap:wrap;\n",
              "      gap: 12px;\n",
              "    }\n",
              "\n",
              "    .colab-df-convert {\n",
              "      background-color: #E8F0FE;\n",
              "      border: none;\n",
              "      border-radius: 50%;\n",
              "      cursor: pointer;\n",
              "      display: none;\n",
              "      fill: #1967D2;\n",
              "      height: 32px;\n",
              "      padding: 0 0 0 0;\n",
              "      width: 32px;\n",
              "    }\n",
              "\n",
              "    .colab-df-convert:hover {\n",
              "      background-color: #E2EBFA;\n",
              "      box-shadow: 0px 1px 2px rgba(60, 64, 67, 0.3), 0px 1px 3px 1px rgba(60, 64, 67, 0.15);\n",
              "      fill: #174EA6;\n",
              "    }\n",
              "\n",
              "    [theme=dark] .colab-df-convert {\n",
              "      background-color: #3B4455;\n",
              "      fill: #D2E3FC;\n",
              "    }\n",
              "\n",
              "    [theme=dark] .colab-df-convert:hover {\n",
              "      background-color: #434B5C;\n",
              "      box-shadow: 0px 1px 3px 1px rgba(0, 0, 0, 0.15);\n",
              "      filter: drop-shadow(0px 1px 2px rgba(0, 0, 0, 0.3));\n",
              "      fill: #FFFFFF;\n",
              "    }\n",
              "  </style>\n",
              "\n",
              "      <script>\n",
              "        const buttonEl =\n",
              "          document.querySelector('#df-cc604e69-8aca-459a-8233-0fc0bdbb9497 button.colab-df-convert');\n",
              "        buttonEl.style.display =\n",
              "          google.colab.kernel.accessAllowed ? 'block' : 'none';\n",
              "\n",
              "        async function convertToInteractive(key) {\n",
              "          const element = document.querySelector('#df-cc604e69-8aca-459a-8233-0fc0bdbb9497');\n",
              "          const dataTable =\n",
              "            await google.colab.kernel.invokeFunction('convertToInteractive',\n",
              "                                                     [key], {});\n",
              "          if (!dataTable) return;\n",
              "\n",
              "          const docLinkHtml = 'Like what you see? Visit the ' +\n",
              "            '<a target=\"_blank\" href=https://colab.research.google.com/notebooks/data_table.ipynb>data table notebook</a>'\n",
              "            + ' to learn more about interactive tables.';\n",
              "          element.innerHTML = '';\n",
              "          dataTable['output_type'] = 'display_data';\n",
              "          await google.colab.output.renderOutput(dataTable, element);\n",
              "          const docLink = document.createElement('div');\n",
              "          docLink.innerHTML = docLinkHtml;\n",
              "          element.appendChild(docLink);\n",
              "        }\n",
              "      </script>\n",
              "    </div>\n",
              "  </div>\n",
              "  "
            ]
          },
          "metadata": {},
          "execution_count": 43
        }
      ]
    },
    {
      "cell_type": "code",
      "metadata": {
        "id": "Ur-YLdBfUydG",
        "colab": {
          "base_uri": "https://localhost:8080/"
        },
        "outputId": "fff90f16-932f-4cd6-9a67-bfcb00c6fd64"
      },
      "source": [
        "# confirming all our datatypes are numerical\n",
        "hr.dtypes"
      ],
      "execution_count": 44,
      "outputs": [
        {
          "output_type": "execute_result",
          "data": {
            "text/plain": [
              "department                int64\n",
              "region                    int64\n",
              "education                 int64\n",
              "gender                    int64\n",
              "recruitment_channel       int64\n",
              "no_of_trainings           int64\n",
              "age                       int64\n",
              "previous_year_rating    float64\n",
              "length_of_service         int64\n",
              "KPIs_met >80%             int64\n",
              "awards_won?               int64\n",
              "avg_training_score        int64\n",
              "is_promoted               int64\n",
              "dtype: object"
            ]
          },
          "metadata": {},
          "execution_count": 44
        }
      ]
    },
    {
      "cell_type": "markdown",
      "metadata": {
        "id": "1JWai_HKUydI"
      },
      "source": [
        "#### 3.2.2 Testing for Multicollinearity"
      ]
    },
    {
      "cell_type": "code",
      "metadata": {
        "id": "j3C1lrPjUydJ",
        "colab": {
          "base_uri": "https://localhost:8080/",
          "height": 690
        },
        "outputId": "ce0e5d7a-f9cf-4ac0-b5d3-053b6fd818e6"
      },
      "source": [
        "# creating a correlation matrix to visualize correlations\n",
        "corr = hr.corr()\n",
        "\n",
        "# visualizing using a heatmap\n",
        "plt.figure(figsize = (10, 10))\n",
        "sns.heatmap(corr, annot = True, cmap = 'coolwarm')\n",
        "plt.show()"
      ],
      "execution_count": 45,
      "outputs": [
        {
          "output_type": "display_data",
          "data": {
            "text/plain": [
              "<Figure size 720x720 with 2 Axes>"
            ],
            "image/png": "[encoded data removed]"
          },
          "metadata": {
            "needs_background": "light"
          }
        }
      ]
    },
    {
      "cell_type": "markdown",
      "metadata": {
        "id": "YmjSIar_UydO"
      },
      "source": [
        "We see that age is highly correlated with length of service."
      ]
    },
    {
      "cell_type": "code",
      "metadata": {
        "id": "j-7NOIx4UydO",
        "colab": {
          "base_uri": "https://localhost:8080/",
          "height": 686
        },
        "outputId": "9237d8c3-0a2a-40bd-df07-f05e9c8f0deb"
      },
      "source": [
        "# heatmap of VIF\n",
        "vif = pd.DataFrame(np.linalg.inv(corr.values), index = corr.index, columns = corr.columns)\n",
        "\n",
        "plt.figure(figsize = (10, 10))\n",
        "sns.heatmap(vif, annot = True)\n",
        "plt.show()"
      ],
      "execution_count": 46,
      "outputs": [
        {
          "output_type": "display_data",
          "data": {
            "text/plain": [
              "<Figure size 720x720 with 2 Axes>"
            ],
            "image/png": "[encoded data removed]"
          },
          "metadata": {
            "needs_background": "light"
          }
        }
      ]
    },
    {
      "cell_type": "markdown",
      "metadata": {
        "id": "L0tDwfFtUydS"
      },
      "source": [
        "According to our VIF heatmap, we don't have any values approaching or exceeding 5, which would be indicative of high multicollinearity."
      ]
    },
    {
      "cell_type": "markdown",
      "metadata": {
        "id": "-vvu6cRjUydT"
      },
      "source": [
        "### Data Modeling"
      ]
    },
    {
      "cell_type": "markdown",
      "metadata": {
        "id": "c6UX45MUUydU"
      },
      "source": [
        "We come to the following conclusions about our data:\n",
        "- it does not have high multicollinearity\n",
        "- it has many outliers\n",
        "- it does not have a normal/Gaussian distribution\n",
        "\n",
        "Thus, knowing this, we know that logistic regression would be a terrible algorithm for our model. We will still use it for comparison purposes."
      ]
    },
    {
      "cell_type": "code",
      "metadata": {
        "id": "6J-HZyKuUydU",
        "colab": {
          "base_uri": "https://localhost:8080/"
        },
        "outputId": "dc65a677-f868-42b9-cbd8-b289b8301107"
      },
      "source": [
        "# dividing our dataset into features (X) and target (y)\n",
        "X = np.array(hr.drop(columns = ['is_promoted']))\n",
        "y = hr['is_promoted']\n",
        "\n",
        "print(X.shape)\n",
        "print(y.shape)"
      ],
      "execution_count": 51,
      "outputs": [
        {
          "output_type": "stream",
          "name": "stdout",
          "text": [
            "(48607, 12)\n",
            "(48607,)\n"
          ]
        }
      ]
    },
    {
      "cell_type": "code",
      "metadata": {
        "id": "RC9uwrs1UydY"
      },
      "source": [
        "# splitting into 80-20 train-test sets\n",
        "from sklearn.model_selection import train_test_split\n",
        "X_train, X_test, y_train, y_test = train_test_split(X, y, test_size=0.2, random_state=0)"
      ],
      "execution_count": 52,
      "outputs": []
    },
    {
      "cell_type": "code",
      "metadata": {
        "id": "-rvf1xxeUyda"
      },
      "source": [
        "# performing feature scaling on our training data\n",
        "from sklearn.preprocessing import StandardScaler\n",
        "\n",
        "scaler = StandardScaler()\n",
        "\n",
        "# fitting and transforming X_train while transforming X_test\n",
        "X_train = scaler.fit_transform(X_train)\n",
        "X_test = scaler.transform(X_test)"
      ],
      "execution_count": 53,
      "outputs": []
    },
    {
      "cell_type": "code",
      "metadata": {
        "id": "hWQQcZAuUyde"
      },
      "source": [
        "# loading our classification libraries\n",
        "from sklearn.linear_model import LogisticRegression # Logistic Regression Classifier\n",
        "from sklearn.tree import DecisionTreeClassifier     # Decision Tree Classifier\n",
        "from sklearn.svm import SVC                         # SVM Classifier\n",
        "from sklearn.naive_bayes import GaussianNB          # Naive Bayes Classifier\n",
        "from sklearn.neighbors import KNeighborsClassifier  # KNN Classifier\n",
        "\n",
        "# instantiating our classifiers\n",
        "logistic_classifier = LogisticRegression()\n",
        "decision_classifier = DecisionTreeClassifier()\n",
        "svm_classifier = SVC()\n",
        "knn_classifier = KNeighborsClassifier()\n",
        "naive_classifier = GaussianNB()\n",
        "\n",
        "# fitting our classifiers to the training data\n",
        "logistic_classifier.fit(X_train, y_train)\n",
        "decision_classifier.fit(X_train, y_train)\n",
        "svm_classifier.fit(X_train, y_train)\n",
        "knn_classifier.fit(X_train, y_train)\n",
        "naive_classifier.fit(X_train, y_train)\n",
        "\n",
        "# making predictions\n",
        "logistic_y_prediction = logistic_classifier.predict(X_test) \n",
        "decision_y_prediction = decision_classifier.predict(X_test) \n",
        "svm_y_prediction = svm_classifier.predict(X_test) \n",
        "knn_y_prediction = knn_classifier.predict(X_test) \n",
        "naive_y_prediction = naive_classifier.predict(X_test)\n"
      ],
      "execution_count": 54,
      "outputs": []
    },
    {
      "cell_type": "code",
      "metadata": {
        "id": "znmyDgJtUydg",
        "colab": {
          "base_uri": "https://localhost:8080/"
        },
        "outputId": "43192a7a-5a30-4fc9-ba50-b8674fe4468c"
      },
      "source": [
        "# printing the classification report for each classifier to assess performance\n",
        "from sklearn.metrics import classification_report\n",
        "\n",
        "# classification report for Logistic Regression\n",
        "print(\"Logistic Regression classification report:\")\n",
        "print(classification_report(y_test, logistic_y_prediction))\n",
        "\n",
        "# classification report for Gaussian Naive Bayes Classifier\n",
        "print(\"Gaussian Naive Bayes classification report:\")\n",
        "print(classification_report(y_test, naive_y_prediction))\n",
        "\n",
        "\n",
        "# classification report for Decision Tree Classifier\n",
        "print(\"Decision Tree classification report:\")\n",
        "print(classification_report(y_test, decision_y_prediction))\n",
        "\n",
        "# classification report for K-Nearest Neighbors Classifier\n",
        "print(\"K-Nearest Neighbors classification report:\")\n",
        "print(classification_report(y_test, knn_y_prediction))\n",
        "\n",
        "# classification report for Support Vector Machine Classifier\n",
        "print(\"Support Vector Machine classification report:\")\n",
        "print(classification_report(y_test, svm_y_prediction))"
      ],
      "execution_count": 55,
      "outputs": [
        {
          "output_type": "stream",
          "name": "stdout",
          "text": [
            "Logistic Regression classification report:\n",
            "              precision    recall  f1-score   support\n",
            "\n",
            "           0       0.92      1.00      0.96      8865\n",
            "           1       0.64      0.07      0.12       857\n",
            "\n",
            "    accuracy                           0.91      9722\n",
            "   macro avg       0.78      0.53      0.54      9722\n",
            "weighted avg       0.89      0.91      0.88      9722\n",
            "\n",
            "Gaussian Naive Bayes classification report:\n",
            "              precision    recall  f1-score   support\n",
            "\n",
            "           0       0.92      0.99      0.95      8865\n",
            "           1       0.51      0.14      0.22       857\n",
            "\n",
            "    accuracy                           0.91      9722\n",
            "   macro avg       0.71      0.56      0.58      9722\n",
            "weighted avg       0.89      0.91      0.89      9722\n",
            "\n",
            "Decision Tree classification report:\n",
            "              precision    recall  f1-score   support\n",
            "\n",
            "           0       0.95      0.94      0.94      8865\n",
            "           1       0.40      0.44      0.42       857\n",
            "\n",
            "    accuracy                           0.89      9722\n",
            "   macro avg       0.67      0.69      0.68      9722\n",
            "weighted avg       0.90      0.89      0.89      9722\n",
            "\n",
            "K-Nearest Neighbors classification report:\n",
            "              precision    recall  f1-score   support\n",
            "\n",
            "           0       0.92      0.99      0.95      8865\n",
            "           1       0.48      0.13      0.21       857\n",
            "\n",
            "    accuracy                           0.91      9722\n",
            "   macro avg       0.70      0.56      0.58      9722\n",
            "weighted avg       0.88      0.91      0.89      9722\n",
            "\n",
            "Support Vector Machine classification report:\n",
            "              precision    recall  f1-score   support\n",
            "\n",
            "           0       0.92      1.00      0.96      8865\n",
            "           1       0.89      0.09      0.16       857\n",
            "\n",
            "    accuracy                           0.92      9722\n",
            "   macro avg       0.90      0.54      0.56      9722\n",
            "weighted avg       0.92      0.92      0.89      9722\n",
            "\n"
          ]
        }
      ]
    },
    {
      "cell_type": "code",
      "metadata": {
        "id": "Snd3Z2Gtg6QR",
        "colab": {
          "base_uri": "https://localhost:8080/"
        },
        "outputId": "f02fa085-5c9f-47eb-d8e7-a5a9b791842e"
      },
      "source": [
        "# We import Artificial Neural Network libraries\n",
        "# ---\n",
        "import keras\n",
        "from keras.models import Sequential     # Used to initialize the Artificial Neural Network\n",
        "from keras.layers import Dense          # Used to build the hidden Layers\n",
        "from keras.layers import Dropout        # Used to prevent overfitting\n",
        "\n",
        "\n",
        "# Defining our ANN\n",
        "classifier = Sequential()\n",
        "\n",
        "classifier.add(Dense(units = 100, input_dim = 12, activation = 'relu'))\n",
        "classifier.add(Dropout(0.3, seed = 2))\n",
        "\n",
        "classifier.add(Dense(units = 100, activation = 'relu'))\n",
        "classifier.add(Dropout(0.3, seed = 2))\n",
        "\n",
        "classifier.add(Dense(units = 1, activation = \"sigmoid\"))\n",
        "\n",
        "# Compiling the model\n",
        "classifier.compile(optimizer = 'adam', loss = 'binary_crossentropy', metrics = ['accuracy'])\n",
        "\n",
        "# Fitting the model\n",
        "classifier.fit(X_train, y_train, epochs = 300, batch_size = 32)\n",
        "\n",
        "# Evaluating our model\n",
        "loss, accuracy = classifier.evaluate(X_test, y_test)\n",
        "print('ANN Accuracy:', accuracy)"
      ],
      "execution_count": null,
      "outputs": [
        {
          "output_type": "stream",
          "name": "stdout",
          "text": [
            "Epoch 1/300\n",
            "1216/1216 [==============================] - 4s 2ms/step - loss: 0.2534 - accuracy: 0.9137\n",
            "Epoch 2/300\n",
            "1216/1216 [==============================] - 3s 2ms/step - loss: 0.2338 - accuracy: 0.9196\n",
            "Epoch 3/300\n",
            "1216/1216 [==============================] - 3s 2ms/step - loss: 0.2296 - accuracy: 0.9215\n",
            "Epoch 4/300\n",
            "1216/1216 [==============================] - 3s 2ms/step - loss: 0.2243 - accuracy: 0.9230\n",
            "Epoch 5/300\n",
            "1216/1216 [==============================] - 3s 2ms/step - loss: 0.2208 - accuracy: 0.9228\n",
            "Epoch 6/300\n",
            "1216/1216 [==============================] - 3s 2ms/step - loss: 0.2153 - accuracy: 0.9245\n",
            "Epoch 7/300\n",
            "1216/1216 [==============================] - 3s 2ms/step - loss: 0.2108 - accuracy: 0.9255\n",
            "Epoch 8/300\n",
            "1216/1216 [==============================] - 3s 2ms/step - loss: 0.2051 - accuracy: 0.9264\n",
            "Epoch 9/300\n",
            "1216/1216 [==============================] - 2s 2ms/step - loss: 0.2019 - accuracy: 0.9287\n",
            "Epoch 10/300\n",
            "1216/1216 [==============================] - 2s 2ms/step - loss: 0.1980 - accuracy: 0.9292\n",
            "Epoch 11/300\n",
            "1216/1216 [==============================] - 3s 2ms/step - loss: 0.1961 - accuracy: 0.9297\n",
            "Epoch 12/300\n",
            "1216/1216 [==============================] - 2s 2ms/step - loss: 0.1923 - accuracy: 0.9316\n",
            "Epoch 13/300\n",
            "1216/1216 [==============================] - 2s 2ms/step - loss: 0.1886 - accuracy: 0.9331\n",
            "Epoch 14/300\n",
            "1216/1216 [==============================] - 3s 2ms/step - loss: 0.1877 - accuracy: 0.9331\n",
            "Epoch 15/300\n",
            "1216/1216 [==============================] - 3s 2ms/step - loss: 0.1864 - accuracy: 0.9341\n",
            "Epoch 16/300\n",
            "1216/1216 [==============================] - 4s 3ms/step - loss: 0.1844 - accuracy: 0.9346\n",
            "Epoch 17/300\n",
            "1216/1216 [==============================] - 3s 2ms/step - loss: 0.1842 - accuracy: 0.9343\n",
            "Epoch 18/300\n",
            "1216/1216 [==============================] - 2s 2ms/step - loss: 0.1818 - accuracy: 0.9362\n",
            "Epoch 19/300\n",
            "1216/1216 [==============================] - 2s 2ms/step - loss: 0.1806 - accuracy: 0.9362\n",
            "Epoch 20/300\n",
            "1216/1216 [==============================] - 3s 2ms/step - loss: 0.1808 - accuracy: 0.9358\n",
            "Epoch 21/300\n",
            "1216/1216 [==============================] - 3s 2ms/step - loss: 0.1792 - accuracy: 0.9364\n",
            "Epoch 22/300\n",
            "1216/1216 [==============================] - 2s 2ms/step - loss: 0.1788 - accuracy: 0.9366\n",
            "Epoch 23/300\n",
            "1216/1216 [==============================] - 2s 2ms/step - loss: 0.1791 - accuracy: 0.9366\n",
            "Epoch 24/300\n",
            "1216/1216 [==============================] - 2s 2ms/step - loss: 0.1791 - accuracy: 0.9366\n",
            "Epoch 25/300\n",
            "1216/1216 [==============================] - 3s 2ms/step - loss: 0.1785 - accuracy: 0.9371\n",
            "Epoch 26/300\n",
            "1216/1216 [==============================] - 3s 2ms/step - loss: 0.1776 - accuracy: 0.9369\n",
            "Epoch 27/300\n",
            "1216/1216 [==============================] - 2s 2ms/step - loss: 0.1768 - accuracy: 0.9375\n",
            "Epoch 28/300\n",
            "1216/1216 [==============================] - 3s 2ms/step - loss: 0.1761 - accuracy: 0.9374\n",
            "Epoch 29/300\n",
            "1216/1216 [==============================] - 3s 3ms/step - loss: 0.1760 - accuracy: 0.9377\n",
            "Epoch 30/300\n",
            "1216/1216 [==============================] - 3s 2ms/step - loss: 0.1760 - accuracy: 0.9374\n",
            "Epoch 31/300\n",
            "1216/1216 [==============================] - 2s 2ms/step - loss: 0.1758 - accuracy: 0.9377\n",
            "Epoch 32/300\n",
            "1216/1216 [==============================] - 3s 2ms/step - loss: 0.1751 - accuracy: 0.9380\n",
            "Epoch 33/300\n",
            "1216/1216 [==============================] - 2s 2ms/step - loss: 0.1744 - accuracy: 0.9383\n",
            "Epoch 34/300\n",
            "1216/1216 [==============================] - 3s 2ms/step - loss: 0.1740 - accuracy: 0.9385\n",
            "Epoch 35/300\n",
            "1216/1216 [==============================] - 2s 2ms/step - loss: 0.1739 - accuracy: 0.9389\n",
            "Epoch 36/300\n",
            "1216/1216 [==============================] - 2s 2ms/step - loss: 0.1744 - accuracy: 0.9380\n",
            "Epoch 37/300\n",
            "1216/1216 [==============================] - 2s 2ms/step - loss: 0.1749 - accuracy: 0.9380\n",
            "Epoch 38/300\n",
            "1216/1216 [==============================] - 3s 2ms/step - loss: 0.1734 - accuracy: 0.9388\n",
            "Epoch 39/300\n",
            "1216/1216 [==============================] - 2s 2ms/step - loss: 0.1739 - accuracy: 0.9387\n",
            "Epoch 40/300\n",
            "1216/1216 [==============================] - 3s 2ms/step - loss: 0.1728 - accuracy: 0.9383\n",
            "Epoch 41/300\n",
            "1216/1216 [==============================] - 2s 2ms/step - loss: 0.1716 - accuracy: 0.9393\n",
            "Epoch 42/300\n",
            "1216/1216 [==============================] - 2s 2ms/step - loss: 0.1738 - accuracy: 0.9387\n",
            "Epoch 43/300\n",
            "1216/1216 [==============================] - 3s 2ms/step - loss: 0.1727 - accuracy: 0.9388\n",
            "Epoch 44/300\n",
            "1216/1216 [==============================] - 2s 2ms/step - loss: 0.1716 - accuracy: 0.9390\n",
            "Epoch 45/300\n",
            "1216/1216 [==============================] - 2s 2ms/step - loss: 0.1734 - accuracy: 0.9385\n",
            "Epoch 46/300\n",
            "1216/1216 [==============================] - 3s 2ms/step - loss: 0.1719 - accuracy: 0.9386\n",
            "Epoch 47/300\n",
            "1216/1216 [==============================] - 3s 2ms/step - loss: 0.1728 - accuracy: 0.9389\n",
            "Epoch 48/300\n",
            "1216/1216 [==============================] - 3s 2ms/step - loss: 0.1720 - accuracy: 0.9392\n",
            "Epoch 49/300\n",
            "1216/1216 [==============================] - 2s 2ms/step - loss: 0.1715 - accuracy: 0.9390\n",
            "Epoch 50/300\n",
            "1216/1216 [==============================] - 2s 2ms/step - loss: 0.1711 - accuracy: 0.9392\n",
            "Epoch 51/300\n",
            "1216/1216 [==============================] - 2s 2ms/step - loss: 0.1725 - accuracy: 0.9389\n",
            "Epoch 52/300\n",
            "1216/1216 [==============================] - 3s 2ms/step - loss: 0.1706 - accuracy: 0.9396\n",
            "Epoch 53/300\n",
            "1216/1216 [==============================] - 2s 2ms/step - loss: 0.1713 - accuracy: 0.9395\n",
            "Epoch 54/300\n",
            "1216/1216 [==============================] - 2s 2ms/step - loss: 0.1700 - accuracy: 0.9399\n",
            "Epoch 55/300\n",
            "1216/1216 [==============================] - 3s 3ms/step - loss: 0.1706 - accuracy: 0.9391\n",
            "Epoch 56/300\n",
            "1216/1216 [==============================] - 4s 3ms/step - loss: 0.1715 - accuracy: 0.9393\n",
            "Epoch 57/300\n",
            "1216/1216 [==============================] - 3s 3ms/step - loss: 0.1711 - accuracy: 0.9394\n",
            "Epoch 58/300\n",
            "1216/1216 [==============================] - 2s 2ms/step - loss: 0.1706 - accuracy: 0.9396\n",
            "Epoch 59/300\n",
            "1216/1216 [==============================] - 3s 2ms/step - loss: 0.1698 - accuracy: 0.9399\n",
            "Epoch 60/300\n",
            "1216/1216 [==============================] - 3s 3ms/step - loss: 0.1692 - accuracy: 0.9398\n",
            "Epoch 61/300\n",
            "1216/1216 [==============================] - 3s 2ms/step - loss: 0.1691 - accuracy: 0.9401\n",
            "Epoch 62/300\n",
            "1216/1216 [==============================] - 2s 2ms/step - loss: 0.1695 - accuracy: 0.9393\n",
            "Epoch 63/300\n",
            "1216/1216 [==============================] - 2s 2ms/step - loss: 0.1695 - accuracy: 0.9399\n",
            "Epoch 64/300\n",
            "1216/1216 [==============================] - 3s 2ms/step - loss: 0.1687 - accuracy: 0.9398\n",
            "Epoch 65/300\n",
            "1216/1216 [==============================] - 3s 2ms/step - loss: 0.1686 - accuracy: 0.9398\n",
            "Epoch 66/300\n",
            "1216/1216 [==============================] - 2s 2ms/step - loss: 0.1699 - accuracy: 0.9395\n",
            "Epoch 67/300\n",
            "1216/1216 [==============================] - 3s 2ms/step - loss: 0.1687 - accuracy: 0.9398\n",
            "Epoch 68/300\n",
            "1216/1216 [==============================] - 3s 2ms/step - loss: 0.1694 - accuracy: 0.9398\n",
            "Epoch 69/300\n",
            "1216/1216 [==============================] - 3s 2ms/step - loss: 0.1688 - accuracy: 0.9403\n",
            "Epoch 70/300\n",
            "1216/1216 [==============================] - 3s 3ms/step - loss: 0.1694 - accuracy: 0.9398\n",
            "Epoch 71/300\n",
            "1216/1216 [==============================] - 3s 2ms/step - loss: 0.1693 - accuracy: 0.9400\n",
            "Epoch 72/300\n",
            "1216/1216 [==============================] - 2s 2ms/step - loss: 0.1678 - accuracy: 0.9401\n",
            "Epoch 73/300\n",
            "1216/1216 [==============================] - 3s 2ms/step - loss: 0.1692 - accuracy: 0.9402\n",
            "Epoch 74/300\n",
            "1216/1216 [==============================] - 3s 2ms/step - loss: 0.1685 - accuracy: 0.9404\n",
            "Epoch 75/300\n",
            "1216/1216 [==============================] - 3s 2ms/step - loss: 0.1683 - accuracy: 0.9402\n",
            "Epoch 76/300\n",
            "1216/1216 [==============================] - 3s 2ms/step - loss: 0.1689 - accuracy: 0.9394\n",
            "Epoch 77/300\n",
            "1216/1216 [==============================] - 3s 2ms/step - loss: 0.1695 - accuracy: 0.9400\n",
            "Epoch 78/300\n",
            "1216/1216 [==============================] - 3s 2ms/step - loss: 0.1677 - accuracy: 0.9405\n",
            "Epoch 79/300\n",
            "1216/1216 [==============================] - 3s 2ms/step - loss: 0.1679 - accuracy: 0.9399\n",
            "Epoch 80/300\n",
            "1216/1216 [==============================] - 3s 2ms/step - loss: 0.1672 - accuracy: 0.9400\n",
            "Epoch 81/300\n",
            "1216/1216 [==============================] - 2s 2ms/step - loss: 0.1687 - accuracy: 0.9396\n",
            "Epoch 82/300\n",
            "1216/1216 [==============================] - 2s 2ms/step - loss: 0.1674 - accuracy: 0.9406\n",
            "Epoch 83/300\n",
            "1216/1216 [==============================] - 3s 2ms/step - loss: 0.1683 - accuracy: 0.9398\n",
            "Epoch 84/300\n",
            "1216/1216 [==============================] - 3s 2ms/step - loss: 0.1665 - accuracy: 0.9406\n",
            "Epoch 85/300\n",
            "1216/1216 [==============================] - 3s 2ms/step - loss: 0.1672 - accuracy: 0.9404\n",
            "Epoch 86/300\n",
            "1216/1216 [==============================] - 2s 2ms/step - loss: 0.1670 - accuracy: 0.9402\n",
            "Epoch 87/300\n",
            "1216/1216 [==============================] - 3s 2ms/step - loss: 0.1668 - accuracy: 0.9401\n",
            "Epoch 88/300\n",
            "1216/1216 [==============================] - 3s 2ms/step - loss: 0.1673 - accuracy: 0.9406\n",
            "Epoch 89/300\n",
            "1216/1216 [==============================] - 2s 2ms/step - loss: 0.1675 - accuracy: 0.9405\n",
            "Epoch 90/300\n",
            "1216/1216 [==============================] - 2s 2ms/step - loss: 0.1669 - accuracy: 0.9403\n",
            "Epoch 91/300\n",
            "1216/1216 [==============================] - 2s 2ms/step - loss: 0.1682 - accuracy: 0.9402\n",
            "Epoch 92/300\n",
            "1216/1216 [==============================] - 3s 2ms/step - loss: 0.1667 - accuracy: 0.9408\n",
            "Epoch 93/300\n",
            "1216/1216 [==============================] - 3s 2ms/step - loss: 0.1678 - accuracy: 0.9404\n",
            "Epoch 94/300\n",
            "1216/1216 [==============================] - 3s 2ms/step - loss: 0.1669 - accuracy: 0.9400\n",
            "Epoch 95/300\n",
            "1216/1216 [==============================] - 2s 2ms/step - loss: 0.1666 - accuracy: 0.9407\n",
            "Epoch 96/300\n",
            "1216/1216 [==============================] - 3s 2ms/step - loss: 0.1673 - accuracy: 0.9404\n",
            "Epoch 97/300\n",
            "1216/1216 [==============================] - 3s 2ms/step - loss: 0.1670 - accuracy: 0.9407\n",
            "Epoch 98/300\n",
            "1216/1216 [==============================] - 3s 2ms/step - loss: 0.1664 - accuracy: 0.9407\n",
            "Epoch 99/300\n",
            "1216/1216 [==============================] - 3s 2ms/step - loss: 0.1674 - accuracy: 0.9400\n",
            "Epoch 100/300\n",
            "1216/1216 [==============================] - 2s 2ms/step - loss: 0.1661 - accuracy: 0.9408\n",
            "Epoch 101/300\n",
            "1216/1216 [==============================] - 3s 2ms/step - loss: 0.1666 - accuracy: 0.9409\n",
            "Epoch 102/300\n",
            "1216/1216 [==============================] - 2s 2ms/step - loss: 0.1661 - accuracy: 0.9403\n",
            "Epoch 103/300\n",
            "1216/1216 [==============================] - 3s 2ms/step - loss: 0.1658 - accuracy: 0.9408\n",
            "Epoch 104/300\n",
            "1216/1216 [==============================] - 3s 2ms/step - loss: 0.1652 - accuracy: 0.9410\n",
            "Epoch 105/300\n",
            "1216/1216 [==============================] - 3s 2ms/step - loss: 0.1648 - accuracy: 0.9407\n",
            "Epoch 106/300\n",
            "1216/1216 [==============================] - 3s 2ms/step - loss: 0.1653 - accuracy: 0.9415\n",
            "Epoch 107/300\n",
            "1216/1216 [==============================] - 3s 2ms/step - loss: 0.1658 - accuracy: 0.9407\n",
            "Epoch 108/300\n",
            "1216/1216 [==============================] - 2s 2ms/step - loss: 0.1659 - accuracy: 0.9407\n",
            "Epoch 109/300\n",
            "1216/1216 [==============================] - 3s 2ms/step - loss: 0.1658 - accuracy: 0.9410\n",
            "Epoch 110/300\n",
            "1216/1216 [==============================] - 3s 2ms/step - loss: 0.1661 - accuracy: 0.9406\n",
            "Epoch 111/300\n",
            "1216/1216 [==============================] - 2s 2ms/step - loss: 0.1651 - accuracy: 0.9415\n",
            "Epoch 112/300\n",
            "1216/1216 [==============================] - 3s 2ms/step - loss: 0.1647 - accuracy: 0.9414\n",
            "Epoch 113/300\n",
            "1216/1216 [==============================] - 2s 2ms/step - loss: 0.1655 - accuracy: 0.9410\n",
            "Epoch 114/300\n",
            "1216/1216 [==============================] - 2s 2ms/step - loss: 0.1653 - accuracy: 0.9411\n",
            "Epoch 115/300\n",
            " 219/1216 [====>.........................] - ETA: 3s - loss: 0.1652 - accuracy: 0.9408"
          ]
        }
      ]
    },
    {
      "cell_type": "markdown",
      "metadata": {
        "id": "uj4m4LoQUydk"
      },
      "source": [
        "## <font color='#2F4F4F'>5. Summary of Findings</font>"
      ]
    },
    {
      "cell_type": "markdown",
      "metadata": {
        "id": "3BLXmRRoUydk"
      },
      "source": [
        "YOUR SUMMARY OF FINDINGS GO HERE"
      ]
    },
    {
      "cell_type": "markdown",
      "metadata": {
        "id": "AbweHCn9Uydl"
      },
      "source": [
        "## <font color='#2F4F4F'>6. Recommendations</font>\n"
      ]
    },
    {
      "cell_type": "markdown",
      "metadata": {
        "id": "HvUuReIyM-jK"
      },
      "source": [
        "YOUR RECOMMENDATIONS GO HERE"
      ]
    },
    {
      "cell_type": "markdown",
      "metadata": {
        "id": "bNXekFrvUydl"
      },
      "source": [
        "## <font color='#2F4F4F'>7. Challenging your Solution</font>\n"
      ]
    },
    {
      "cell_type": "markdown",
      "metadata": {
        "id": "udmliAiqNBVB"
      },
      "source": [
        "#### a) Did we have the right question?\n",
        "YOUR RESPONSE GOES HERE\n",
        "\n",
        "#### b) Did we have the right data?\n",
        "YOUR RESPONSE GOES HERE\n",
        "\n",
        "#### c) What can be done to improve the solution?\n",
        "YOUR RESPONSE GOES HERE"
      ]
    }
  ]
}